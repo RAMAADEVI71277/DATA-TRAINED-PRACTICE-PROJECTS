{
 "cells": [
  {
   "cell_type": "markdown",
   "id": "8c574af4",
   "metadata": {},
   "source": [
    "# Practice Project - 1\n",
    "Red Wine Quality Prediction"
   ]
  },
  {
   "cell_type": "code",
   "execution_count": 1,
   "id": "58315a61",
   "metadata": {},
   "outputs": [],
   "source": [
    "import numpy as np\n",
    "import pandas as pd\n",
    "import sklearn\n",
    "import warnings\n",
    "warnings.filterwarnings(\"ignore\")"
   ]
  },
  {
   "cell_type": "code",
   "execution_count": 2,
   "id": "73628cb5",
   "metadata": {},
   "outputs": [
    {
     "data": {
      "text/html": [
       "<div>\n",
       "<style scoped>\n",
       "    .dataframe tbody tr th:only-of-type {\n",
       "        vertical-align: middle;\n",
       "    }\n",
       "\n",
       "    .dataframe tbody tr th {\n",
       "        vertical-align: top;\n",
       "    }\n",
       "\n",
       "    .dataframe thead th {\n",
       "        text-align: right;\n",
       "    }\n",
       "</style>\n",
       "<table border=\"1\" class=\"dataframe\">\n",
       "  <thead>\n",
       "    <tr style=\"text-align: right;\">\n",
       "      <th></th>\n",
       "      <th>fixed acidity</th>\n",
       "      <th>volatile acidity</th>\n",
       "      <th>citric acid</th>\n",
       "      <th>residual sugar</th>\n",
       "      <th>chlorides</th>\n",
       "      <th>free sulfur dioxide</th>\n",
       "      <th>total sulfur dioxide</th>\n",
       "      <th>density</th>\n",
       "      <th>pH</th>\n",
       "      <th>sulphates</th>\n",
       "      <th>alcohol</th>\n",
       "      <th>quality</th>\n",
       "    </tr>\n",
       "  </thead>\n",
       "  <tbody>\n",
       "    <tr>\n",
       "      <th>0</th>\n",
       "      <td>7.4</td>\n",
       "      <td>0.700</td>\n",
       "      <td>0.00</td>\n",
       "      <td>1.9</td>\n",
       "      <td>0.076</td>\n",
       "      <td>11.0</td>\n",
       "      <td>34.0</td>\n",
       "      <td>0.99780</td>\n",
       "      <td>3.51</td>\n",
       "      <td>0.56</td>\n",
       "      <td>9.4</td>\n",
       "      <td>5</td>\n",
       "    </tr>\n",
       "    <tr>\n",
       "      <th>1</th>\n",
       "      <td>7.8</td>\n",
       "      <td>0.880</td>\n",
       "      <td>0.00</td>\n",
       "      <td>2.6</td>\n",
       "      <td>0.098</td>\n",
       "      <td>25.0</td>\n",
       "      <td>67.0</td>\n",
       "      <td>0.99680</td>\n",
       "      <td>3.20</td>\n",
       "      <td>0.68</td>\n",
       "      <td>9.8</td>\n",
       "      <td>5</td>\n",
       "    </tr>\n",
       "    <tr>\n",
       "      <th>2</th>\n",
       "      <td>7.8</td>\n",
       "      <td>0.760</td>\n",
       "      <td>0.04</td>\n",
       "      <td>2.3</td>\n",
       "      <td>0.092</td>\n",
       "      <td>15.0</td>\n",
       "      <td>54.0</td>\n",
       "      <td>0.99700</td>\n",
       "      <td>3.26</td>\n",
       "      <td>0.65</td>\n",
       "      <td>9.8</td>\n",
       "      <td>5</td>\n",
       "    </tr>\n",
       "    <tr>\n",
       "      <th>3</th>\n",
       "      <td>11.2</td>\n",
       "      <td>0.280</td>\n",
       "      <td>0.56</td>\n",
       "      <td>1.9</td>\n",
       "      <td>0.075</td>\n",
       "      <td>17.0</td>\n",
       "      <td>60.0</td>\n",
       "      <td>0.99800</td>\n",
       "      <td>3.16</td>\n",
       "      <td>0.58</td>\n",
       "      <td>9.8</td>\n",
       "      <td>6</td>\n",
       "    </tr>\n",
       "    <tr>\n",
       "      <th>4</th>\n",
       "      <td>7.4</td>\n",
       "      <td>0.700</td>\n",
       "      <td>0.00</td>\n",
       "      <td>1.9</td>\n",
       "      <td>0.076</td>\n",
       "      <td>11.0</td>\n",
       "      <td>34.0</td>\n",
       "      <td>0.99780</td>\n",
       "      <td>3.51</td>\n",
       "      <td>0.56</td>\n",
       "      <td>9.4</td>\n",
       "      <td>5</td>\n",
       "    </tr>\n",
       "    <tr>\n",
       "      <th>...</th>\n",
       "      <td>...</td>\n",
       "      <td>...</td>\n",
       "      <td>...</td>\n",
       "      <td>...</td>\n",
       "      <td>...</td>\n",
       "      <td>...</td>\n",
       "      <td>...</td>\n",
       "      <td>...</td>\n",
       "      <td>...</td>\n",
       "      <td>...</td>\n",
       "      <td>...</td>\n",
       "      <td>...</td>\n",
       "    </tr>\n",
       "    <tr>\n",
       "      <th>1594</th>\n",
       "      <td>6.2</td>\n",
       "      <td>0.600</td>\n",
       "      <td>0.08</td>\n",
       "      <td>2.0</td>\n",
       "      <td>0.090</td>\n",
       "      <td>32.0</td>\n",
       "      <td>44.0</td>\n",
       "      <td>0.99490</td>\n",
       "      <td>3.45</td>\n",
       "      <td>0.58</td>\n",
       "      <td>10.5</td>\n",
       "      <td>5</td>\n",
       "    </tr>\n",
       "    <tr>\n",
       "      <th>1595</th>\n",
       "      <td>5.9</td>\n",
       "      <td>0.550</td>\n",
       "      <td>0.10</td>\n",
       "      <td>2.2</td>\n",
       "      <td>0.062</td>\n",
       "      <td>39.0</td>\n",
       "      <td>51.0</td>\n",
       "      <td>0.99512</td>\n",
       "      <td>3.52</td>\n",
       "      <td>0.76</td>\n",
       "      <td>11.2</td>\n",
       "      <td>6</td>\n",
       "    </tr>\n",
       "    <tr>\n",
       "      <th>1596</th>\n",
       "      <td>6.3</td>\n",
       "      <td>0.510</td>\n",
       "      <td>0.13</td>\n",
       "      <td>2.3</td>\n",
       "      <td>0.076</td>\n",
       "      <td>29.0</td>\n",
       "      <td>40.0</td>\n",
       "      <td>0.99574</td>\n",
       "      <td>3.42</td>\n",
       "      <td>0.75</td>\n",
       "      <td>11.0</td>\n",
       "      <td>6</td>\n",
       "    </tr>\n",
       "    <tr>\n",
       "      <th>1597</th>\n",
       "      <td>5.9</td>\n",
       "      <td>0.645</td>\n",
       "      <td>0.12</td>\n",
       "      <td>2.0</td>\n",
       "      <td>0.075</td>\n",
       "      <td>32.0</td>\n",
       "      <td>44.0</td>\n",
       "      <td>0.99547</td>\n",
       "      <td>3.57</td>\n",
       "      <td>0.71</td>\n",
       "      <td>10.2</td>\n",
       "      <td>5</td>\n",
       "    </tr>\n",
       "    <tr>\n",
       "      <th>1598</th>\n",
       "      <td>6.0</td>\n",
       "      <td>0.310</td>\n",
       "      <td>0.47</td>\n",
       "      <td>3.6</td>\n",
       "      <td>0.067</td>\n",
       "      <td>18.0</td>\n",
       "      <td>42.0</td>\n",
       "      <td>0.99549</td>\n",
       "      <td>3.39</td>\n",
       "      <td>0.66</td>\n",
       "      <td>11.0</td>\n",
       "      <td>6</td>\n",
       "    </tr>\n",
       "  </tbody>\n",
       "</table>\n",
       "<p>1599 rows × 12 columns</p>\n",
       "</div>"
      ],
      "text/plain": [
       "      fixed acidity  volatile acidity  citric acid  residual sugar  chlorides  \\\n",
       "0               7.4             0.700         0.00             1.9      0.076   \n",
       "1               7.8             0.880         0.00             2.6      0.098   \n",
       "2               7.8             0.760         0.04             2.3      0.092   \n",
       "3              11.2             0.280         0.56             1.9      0.075   \n",
       "4               7.4             0.700         0.00             1.9      0.076   \n",
       "...             ...               ...          ...             ...        ...   \n",
       "1594            6.2             0.600         0.08             2.0      0.090   \n",
       "1595            5.9             0.550         0.10             2.2      0.062   \n",
       "1596            6.3             0.510         0.13             2.3      0.076   \n",
       "1597            5.9             0.645         0.12             2.0      0.075   \n",
       "1598            6.0             0.310         0.47             3.6      0.067   \n",
       "\n",
       "      free sulfur dioxide  total sulfur dioxide  density    pH  sulphates  \\\n",
       "0                    11.0                  34.0  0.99780  3.51       0.56   \n",
       "1                    25.0                  67.0  0.99680  3.20       0.68   \n",
       "2                    15.0                  54.0  0.99700  3.26       0.65   \n",
       "3                    17.0                  60.0  0.99800  3.16       0.58   \n",
       "4                    11.0                  34.0  0.99780  3.51       0.56   \n",
       "...                   ...                   ...      ...   ...        ...   \n",
       "1594                 32.0                  44.0  0.99490  3.45       0.58   \n",
       "1595                 39.0                  51.0  0.99512  3.52       0.76   \n",
       "1596                 29.0                  40.0  0.99574  3.42       0.75   \n",
       "1597                 32.0                  44.0  0.99547  3.57       0.71   \n",
       "1598                 18.0                  42.0  0.99549  3.39       0.66   \n",
       "\n",
       "      alcohol  quality  \n",
       "0         9.4        5  \n",
       "1         9.8        5  \n",
       "2         9.8        5  \n",
       "3         9.8        6  \n",
       "4         9.4        5  \n",
       "...       ...      ...  \n",
       "1594     10.5        5  \n",
       "1595     11.2        6  \n",
       "1596     11.0        6  \n",
       "1597     10.2        5  \n",
       "1598     11.0        6  \n",
       "\n",
       "[1599 rows x 12 columns]"
      ]
     },
     "execution_count": 2,
     "metadata": {},
     "output_type": "execute_result"
    }
   ],
   "source": [
    "df=pd.read_csv('winequality-red.csv')\n",
    "df"
   ]
  },
  {
   "cell_type": "code",
   "execution_count": 3,
   "id": "6e3c4d6a",
   "metadata": {},
   "outputs": [
    {
     "data": {
      "text/html": [
       "<div>\n",
       "<style scoped>\n",
       "    .dataframe tbody tr th:only-of-type {\n",
       "        vertical-align: middle;\n",
       "    }\n",
       "\n",
       "    .dataframe tbody tr th {\n",
       "        vertical-align: top;\n",
       "    }\n",
       "\n",
       "    .dataframe thead th {\n",
       "        text-align: right;\n",
       "    }\n",
       "</style>\n",
       "<table border=\"1\" class=\"dataframe\">\n",
       "  <thead>\n",
       "    <tr style=\"text-align: right;\">\n",
       "      <th></th>\n",
       "      <th>0</th>\n",
       "      <th>1</th>\n",
       "      <th>2</th>\n",
       "      <th>3</th>\n",
       "      <th>4</th>\n",
       "      <th>5</th>\n",
       "      <th>6</th>\n",
       "      <th>7</th>\n",
       "      <th>8</th>\n",
       "      <th>9</th>\n",
       "      <th>...</th>\n",
       "      <th>1589</th>\n",
       "      <th>1590</th>\n",
       "      <th>1591</th>\n",
       "      <th>1592</th>\n",
       "      <th>1593</th>\n",
       "      <th>1594</th>\n",
       "      <th>1595</th>\n",
       "      <th>1596</th>\n",
       "      <th>1597</th>\n",
       "      <th>1598</th>\n",
       "    </tr>\n",
       "  </thead>\n",
       "  <tbody>\n",
       "    <tr>\n",
       "      <th>fixed acidity</th>\n",
       "      <td>7.4000</td>\n",
       "      <td>7.8000</td>\n",
       "      <td>7.800</td>\n",
       "      <td>11.200</td>\n",
       "      <td>7.4000</td>\n",
       "      <td>7.4000</td>\n",
       "      <td>7.9000</td>\n",
       "      <td>7.3000</td>\n",
       "      <td>7.8000</td>\n",
       "      <td>7.5000</td>\n",
       "      <td>...</td>\n",
       "      <td>6.6000</td>\n",
       "      <td>6.30000</td>\n",
       "      <td>5.40000</td>\n",
       "      <td>6.30000</td>\n",
       "      <td>6.80000</td>\n",
       "      <td>6.2000</td>\n",
       "      <td>5.90000</td>\n",
       "      <td>6.30000</td>\n",
       "      <td>5.90000</td>\n",
       "      <td>6.00000</td>\n",
       "    </tr>\n",
       "    <tr>\n",
       "      <th>volatile acidity</th>\n",
       "      <td>0.7000</td>\n",
       "      <td>0.8800</td>\n",
       "      <td>0.760</td>\n",
       "      <td>0.280</td>\n",
       "      <td>0.7000</td>\n",
       "      <td>0.6600</td>\n",
       "      <td>0.6000</td>\n",
       "      <td>0.6500</td>\n",
       "      <td>0.5800</td>\n",
       "      <td>0.5000</td>\n",
       "      <td>...</td>\n",
       "      <td>0.7250</td>\n",
       "      <td>0.55000</td>\n",
       "      <td>0.74000</td>\n",
       "      <td>0.51000</td>\n",
       "      <td>0.62000</td>\n",
       "      <td>0.6000</td>\n",
       "      <td>0.55000</td>\n",
       "      <td>0.51000</td>\n",
       "      <td>0.64500</td>\n",
       "      <td>0.31000</td>\n",
       "    </tr>\n",
       "    <tr>\n",
       "      <th>citric acid</th>\n",
       "      <td>0.0000</td>\n",
       "      <td>0.0000</td>\n",
       "      <td>0.040</td>\n",
       "      <td>0.560</td>\n",
       "      <td>0.0000</td>\n",
       "      <td>0.0000</td>\n",
       "      <td>0.0600</td>\n",
       "      <td>0.0000</td>\n",
       "      <td>0.0200</td>\n",
       "      <td>0.3600</td>\n",
       "      <td>...</td>\n",
       "      <td>0.2000</td>\n",
       "      <td>0.15000</td>\n",
       "      <td>0.09000</td>\n",
       "      <td>0.13000</td>\n",
       "      <td>0.08000</td>\n",
       "      <td>0.0800</td>\n",
       "      <td>0.10000</td>\n",
       "      <td>0.13000</td>\n",
       "      <td>0.12000</td>\n",
       "      <td>0.47000</td>\n",
       "    </tr>\n",
       "    <tr>\n",
       "      <th>residual sugar</th>\n",
       "      <td>1.9000</td>\n",
       "      <td>2.6000</td>\n",
       "      <td>2.300</td>\n",
       "      <td>1.900</td>\n",
       "      <td>1.9000</td>\n",
       "      <td>1.8000</td>\n",
       "      <td>1.6000</td>\n",
       "      <td>1.2000</td>\n",
       "      <td>2.0000</td>\n",
       "      <td>6.1000</td>\n",
       "      <td>...</td>\n",
       "      <td>7.8000</td>\n",
       "      <td>1.80000</td>\n",
       "      <td>1.70000</td>\n",
       "      <td>2.30000</td>\n",
       "      <td>1.90000</td>\n",
       "      <td>2.0000</td>\n",
       "      <td>2.20000</td>\n",
       "      <td>2.30000</td>\n",
       "      <td>2.00000</td>\n",
       "      <td>3.60000</td>\n",
       "    </tr>\n",
       "    <tr>\n",
       "      <th>chlorides</th>\n",
       "      <td>0.0760</td>\n",
       "      <td>0.0980</td>\n",
       "      <td>0.092</td>\n",
       "      <td>0.075</td>\n",
       "      <td>0.0760</td>\n",
       "      <td>0.0750</td>\n",
       "      <td>0.0690</td>\n",
       "      <td>0.0650</td>\n",
       "      <td>0.0730</td>\n",
       "      <td>0.0710</td>\n",
       "      <td>...</td>\n",
       "      <td>0.0730</td>\n",
       "      <td>0.07700</td>\n",
       "      <td>0.08900</td>\n",
       "      <td>0.07600</td>\n",
       "      <td>0.06800</td>\n",
       "      <td>0.0900</td>\n",
       "      <td>0.06200</td>\n",
       "      <td>0.07600</td>\n",
       "      <td>0.07500</td>\n",
       "      <td>0.06700</td>\n",
       "    </tr>\n",
       "    <tr>\n",
       "      <th>free sulfur dioxide</th>\n",
       "      <td>11.0000</td>\n",
       "      <td>25.0000</td>\n",
       "      <td>15.000</td>\n",
       "      <td>17.000</td>\n",
       "      <td>11.0000</td>\n",
       "      <td>13.0000</td>\n",
       "      <td>15.0000</td>\n",
       "      <td>15.0000</td>\n",
       "      <td>9.0000</td>\n",
       "      <td>17.0000</td>\n",
       "      <td>...</td>\n",
       "      <td>29.0000</td>\n",
       "      <td>26.00000</td>\n",
       "      <td>16.00000</td>\n",
       "      <td>29.00000</td>\n",
       "      <td>28.00000</td>\n",
       "      <td>32.0000</td>\n",
       "      <td>39.00000</td>\n",
       "      <td>29.00000</td>\n",
       "      <td>32.00000</td>\n",
       "      <td>18.00000</td>\n",
       "    </tr>\n",
       "    <tr>\n",
       "      <th>total sulfur dioxide</th>\n",
       "      <td>34.0000</td>\n",
       "      <td>67.0000</td>\n",
       "      <td>54.000</td>\n",
       "      <td>60.000</td>\n",
       "      <td>34.0000</td>\n",
       "      <td>40.0000</td>\n",
       "      <td>59.0000</td>\n",
       "      <td>21.0000</td>\n",
       "      <td>18.0000</td>\n",
       "      <td>102.0000</td>\n",
       "      <td>...</td>\n",
       "      <td>79.0000</td>\n",
       "      <td>35.00000</td>\n",
       "      <td>26.00000</td>\n",
       "      <td>40.00000</td>\n",
       "      <td>38.00000</td>\n",
       "      <td>44.0000</td>\n",
       "      <td>51.00000</td>\n",
       "      <td>40.00000</td>\n",
       "      <td>44.00000</td>\n",
       "      <td>42.00000</td>\n",
       "    </tr>\n",
       "    <tr>\n",
       "      <th>density</th>\n",
       "      <td>0.9978</td>\n",
       "      <td>0.9968</td>\n",
       "      <td>0.997</td>\n",
       "      <td>0.998</td>\n",
       "      <td>0.9978</td>\n",
       "      <td>0.9978</td>\n",
       "      <td>0.9964</td>\n",
       "      <td>0.9946</td>\n",
       "      <td>0.9968</td>\n",
       "      <td>0.9978</td>\n",
       "      <td>...</td>\n",
       "      <td>0.9977</td>\n",
       "      <td>0.99314</td>\n",
       "      <td>0.99402</td>\n",
       "      <td>0.99574</td>\n",
       "      <td>0.99651</td>\n",
       "      <td>0.9949</td>\n",
       "      <td>0.99512</td>\n",
       "      <td>0.99574</td>\n",
       "      <td>0.99547</td>\n",
       "      <td>0.99549</td>\n",
       "    </tr>\n",
       "    <tr>\n",
       "      <th>pH</th>\n",
       "      <td>3.5100</td>\n",
       "      <td>3.2000</td>\n",
       "      <td>3.260</td>\n",
       "      <td>3.160</td>\n",
       "      <td>3.5100</td>\n",
       "      <td>3.5100</td>\n",
       "      <td>3.3000</td>\n",
       "      <td>3.3900</td>\n",
       "      <td>3.3600</td>\n",
       "      <td>3.3500</td>\n",
       "      <td>...</td>\n",
       "      <td>3.2900</td>\n",
       "      <td>3.32000</td>\n",
       "      <td>3.67000</td>\n",
       "      <td>3.42000</td>\n",
       "      <td>3.42000</td>\n",
       "      <td>3.4500</td>\n",
       "      <td>3.52000</td>\n",
       "      <td>3.42000</td>\n",
       "      <td>3.57000</td>\n",
       "      <td>3.39000</td>\n",
       "    </tr>\n",
       "    <tr>\n",
       "      <th>sulphates</th>\n",
       "      <td>0.5600</td>\n",
       "      <td>0.6800</td>\n",
       "      <td>0.650</td>\n",
       "      <td>0.580</td>\n",
       "      <td>0.5600</td>\n",
       "      <td>0.5600</td>\n",
       "      <td>0.4600</td>\n",
       "      <td>0.4700</td>\n",
       "      <td>0.5700</td>\n",
       "      <td>0.8000</td>\n",
       "      <td>...</td>\n",
       "      <td>0.5400</td>\n",
       "      <td>0.82000</td>\n",
       "      <td>0.56000</td>\n",
       "      <td>0.75000</td>\n",
       "      <td>0.82000</td>\n",
       "      <td>0.5800</td>\n",
       "      <td>0.76000</td>\n",
       "      <td>0.75000</td>\n",
       "      <td>0.71000</td>\n",
       "      <td>0.66000</td>\n",
       "    </tr>\n",
       "    <tr>\n",
       "      <th>alcohol</th>\n",
       "      <td>9.4000</td>\n",
       "      <td>9.8000</td>\n",
       "      <td>9.800</td>\n",
       "      <td>9.800</td>\n",
       "      <td>9.4000</td>\n",
       "      <td>9.4000</td>\n",
       "      <td>9.4000</td>\n",
       "      <td>10.0000</td>\n",
       "      <td>9.5000</td>\n",
       "      <td>10.5000</td>\n",
       "      <td>...</td>\n",
       "      <td>9.2000</td>\n",
       "      <td>11.60000</td>\n",
       "      <td>11.60000</td>\n",
       "      <td>11.00000</td>\n",
       "      <td>9.50000</td>\n",
       "      <td>10.5000</td>\n",
       "      <td>11.20000</td>\n",
       "      <td>11.00000</td>\n",
       "      <td>10.20000</td>\n",
       "      <td>11.00000</td>\n",
       "    </tr>\n",
       "    <tr>\n",
       "      <th>quality</th>\n",
       "      <td>5.0000</td>\n",
       "      <td>5.0000</td>\n",
       "      <td>5.000</td>\n",
       "      <td>6.000</td>\n",
       "      <td>5.0000</td>\n",
       "      <td>5.0000</td>\n",
       "      <td>5.0000</td>\n",
       "      <td>7.0000</td>\n",
       "      <td>7.0000</td>\n",
       "      <td>5.0000</td>\n",
       "      <td>...</td>\n",
       "      <td>5.0000</td>\n",
       "      <td>6.00000</td>\n",
       "      <td>6.00000</td>\n",
       "      <td>6.00000</td>\n",
       "      <td>6.00000</td>\n",
       "      <td>5.0000</td>\n",
       "      <td>6.00000</td>\n",
       "      <td>6.00000</td>\n",
       "      <td>5.00000</td>\n",
       "      <td>6.00000</td>\n",
       "    </tr>\n",
       "  </tbody>\n",
       "</table>\n",
       "<p>12 rows × 1599 columns</p>\n",
       "</div>"
      ],
      "text/plain": [
       "                         0        1       2       3        4        5     \\\n",
       "fixed acidity          7.4000   7.8000   7.800  11.200   7.4000   7.4000   \n",
       "volatile acidity       0.7000   0.8800   0.760   0.280   0.7000   0.6600   \n",
       "citric acid            0.0000   0.0000   0.040   0.560   0.0000   0.0000   \n",
       "residual sugar         1.9000   2.6000   2.300   1.900   1.9000   1.8000   \n",
       "chlorides              0.0760   0.0980   0.092   0.075   0.0760   0.0750   \n",
       "free sulfur dioxide   11.0000  25.0000  15.000  17.000  11.0000  13.0000   \n",
       "total sulfur dioxide  34.0000  67.0000  54.000  60.000  34.0000  40.0000   \n",
       "density                0.9978   0.9968   0.997   0.998   0.9978   0.9978   \n",
       "pH                     3.5100   3.2000   3.260   3.160   3.5100   3.5100   \n",
       "sulphates              0.5600   0.6800   0.650   0.580   0.5600   0.5600   \n",
       "alcohol                9.4000   9.8000   9.800   9.800   9.4000   9.4000   \n",
       "quality                5.0000   5.0000   5.000   6.000   5.0000   5.0000   \n",
       "\n",
       "                         6        7        8         9     ...     1589  \\\n",
       "fixed acidity          7.9000   7.3000   7.8000    7.5000  ...   6.6000   \n",
       "volatile acidity       0.6000   0.6500   0.5800    0.5000  ...   0.7250   \n",
       "citric acid            0.0600   0.0000   0.0200    0.3600  ...   0.2000   \n",
       "residual sugar         1.6000   1.2000   2.0000    6.1000  ...   7.8000   \n",
       "chlorides              0.0690   0.0650   0.0730    0.0710  ...   0.0730   \n",
       "free sulfur dioxide   15.0000  15.0000   9.0000   17.0000  ...  29.0000   \n",
       "total sulfur dioxide  59.0000  21.0000  18.0000  102.0000  ...  79.0000   \n",
       "density                0.9964   0.9946   0.9968    0.9978  ...   0.9977   \n",
       "pH                     3.3000   3.3900   3.3600    3.3500  ...   3.2900   \n",
       "sulphates              0.4600   0.4700   0.5700    0.8000  ...   0.5400   \n",
       "alcohol                9.4000  10.0000   9.5000   10.5000  ...   9.2000   \n",
       "quality                5.0000   7.0000   7.0000    5.0000  ...   5.0000   \n",
       "\n",
       "                          1590      1591      1592      1593     1594  \\\n",
       "fixed acidity          6.30000   5.40000   6.30000   6.80000   6.2000   \n",
       "volatile acidity       0.55000   0.74000   0.51000   0.62000   0.6000   \n",
       "citric acid            0.15000   0.09000   0.13000   0.08000   0.0800   \n",
       "residual sugar         1.80000   1.70000   2.30000   1.90000   2.0000   \n",
       "chlorides              0.07700   0.08900   0.07600   0.06800   0.0900   \n",
       "free sulfur dioxide   26.00000  16.00000  29.00000  28.00000  32.0000   \n",
       "total sulfur dioxide  35.00000  26.00000  40.00000  38.00000  44.0000   \n",
       "density                0.99314   0.99402   0.99574   0.99651   0.9949   \n",
       "pH                     3.32000   3.67000   3.42000   3.42000   3.4500   \n",
       "sulphates              0.82000   0.56000   0.75000   0.82000   0.5800   \n",
       "alcohol               11.60000  11.60000  11.00000   9.50000  10.5000   \n",
       "quality                6.00000   6.00000   6.00000   6.00000   5.0000   \n",
       "\n",
       "                          1595      1596      1597      1598  \n",
       "fixed acidity          5.90000   6.30000   5.90000   6.00000  \n",
       "volatile acidity       0.55000   0.51000   0.64500   0.31000  \n",
       "citric acid            0.10000   0.13000   0.12000   0.47000  \n",
       "residual sugar         2.20000   2.30000   2.00000   3.60000  \n",
       "chlorides              0.06200   0.07600   0.07500   0.06700  \n",
       "free sulfur dioxide   39.00000  29.00000  32.00000  18.00000  \n",
       "total sulfur dioxide  51.00000  40.00000  44.00000  42.00000  \n",
       "density                0.99512   0.99574   0.99547   0.99549  \n",
       "pH                     3.52000   3.42000   3.57000   3.39000  \n",
       "sulphates              0.76000   0.75000   0.71000   0.66000  \n",
       "alcohol               11.20000  11.00000  10.20000  11.00000  \n",
       "quality                6.00000   6.00000   5.00000   6.00000  \n",
       "\n",
       "[12 rows x 1599 columns]"
      ]
     },
     "execution_count": 3,
     "metadata": {},
     "output_type": "execute_result"
    }
   ],
   "source": [
    "df.T"
   ]
  },
  {
   "cell_type": "code",
   "execution_count": 4,
   "id": "b1f71e2d",
   "metadata": {},
   "outputs": [
    {
     "data": {
      "text/plain": [
       "Index(['fixed acidity', 'volatile acidity', 'citric acid', 'residual sugar',\n",
       "       'chlorides', 'free sulfur dioxide', 'total sulfur dioxide', 'density',\n",
       "       'pH', 'sulphates', 'alcohol', 'quality'],\n",
       "      dtype='object')"
      ]
     },
     "execution_count": 4,
     "metadata": {},
     "output_type": "execute_result"
    }
   ],
   "source": [
    "df.columns"
   ]
  },
  {
   "cell_type": "code",
   "execution_count": 5,
   "id": "f830ca45",
   "metadata": {},
   "outputs": [
    {
     "data": {
      "text/plain": [
       "(1599, 12)"
      ]
     },
     "execution_count": 5,
     "metadata": {},
     "output_type": "execute_result"
    }
   ],
   "source": [
    "df.shape"
   ]
  },
  {
   "cell_type": "code",
   "execution_count": 6,
   "id": "90be94d2",
   "metadata": {},
   "outputs": [],
   "source": [
    "import matplotlib.pyplot as plt\n",
    "import seaborn as sns"
   ]
  },
  {
   "cell_type": "code",
   "execution_count": 7,
   "id": "7bdf885c",
   "metadata": {},
   "outputs": [
    {
     "data": {
      "text/plain": [
       "fixed acidity           float64\n",
       "volatile acidity        float64\n",
       "citric acid             float64\n",
       "residual sugar          float64\n",
       "chlorides               float64\n",
       "free sulfur dioxide     float64\n",
       "total sulfur dioxide    float64\n",
       "density                 float64\n",
       "pH                      float64\n",
       "sulphates               float64\n",
       "alcohol                 float64\n",
       "quality                   int64\n",
       "dtype: object"
      ]
     },
     "execution_count": 7,
     "metadata": {},
     "output_type": "execute_result"
    }
   ],
   "source": [
    "df.dtypes"
   ]
  },
  {
   "cell_type": "code",
   "execution_count": 8,
   "id": "da9004e0",
   "metadata": {},
   "outputs": [
    {
     "data": {
      "text/plain": [
       "fixed acidity           0\n",
       "volatile acidity        0\n",
       "citric acid             0\n",
       "residual sugar          0\n",
       "chlorides               0\n",
       "free sulfur dioxide     0\n",
       "total sulfur dioxide    0\n",
       "density                 0\n",
       "pH                      0\n",
       "sulphates               0\n",
       "alcohol                 0\n",
       "quality                 0\n",
       "dtype: int64"
      ]
     },
     "execution_count": 8,
     "metadata": {},
     "output_type": "execute_result"
    }
   ],
   "source": [
    "df.isnull().sum()"
   ]
  },
  {
   "cell_type": "code",
   "execution_count": 9,
   "id": "12274f9c",
   "metadata": {},
   "outputs": [
    {
     "data": {
      "text/plain": [
       "<AxesSubplot:xlabel='fixed acidity', ylabel='quality'>"
      ]
     },
     "execution_count": 9,
     "metadata": {},
     "output_type": "execute_result"
    },
    {
     "data": {
      "image/png": "[encoded data removed]",
      "text/plain": [
       "<Figure size 432x288 with 1 Axes>"
      ]
     },
     "metadata": {
      "needs_background": "light"
     },
     "output_type": "display_data"
    }
   ],
   "source": [
    "sns.scatterplot(x='fixed acidity',y='quality',data=df)"
   ]
  },
  {
   "cell_type": "code",
   "execution_count": 10,
   "id": "4cc83c56",
   "metadata": {},
   "outputs": [
    {
     "data": {
      "text/plain": [
       "<AxesSubplot:xlabel='volatile acidity', ylabel='quality'>"
      ]
     },
     "execution_count": 10,
     "metadata": {},
     "output_type": "execute_result"
    },
    {
     "data": {
      "image/png": "[encoded data removed]",
      "text/plain": [
       "<Figure size 432x288 with 1 Axes>"
      ]
     },
     "metadata": {
      "needs_background": "light"
     },
     "output_type": "display_data"
    }
   ],
   "source": [
    "sns.scatterplot(x='volatile acidity',y='quality',data=df)"
   ]
  },
  {
   "cell_type": "code",
   "execution_count": 11,
   "id": "2d685a65",
   "metadata": {},
   "outputs": [
    {
     "data": {
      "text/plain": [
       "<AxesSubplot:xlabel='citric acid', ylabel='quality'>"
      ]
     },
     "execution_count": 11,
     "metadata": {},
     "output_type": "execute_result"
    },
    {
     "data": {
      "image/png": "[encoded data removed]",
      "text/plain": [
       "<Figure size 432x288 with 1 Axes>"
      ]
     },
     "metadata": {
      "needs_background": "light"
     },
     "output_type": "display_data"
    }
   ],
   "source": [
    "sns.scatterplot(x='citric acid',y='quality',data=df)"
   ]
  },
  {
   "cell_type": "code",
   "execution_count": 12,
   "id": "8eb651fa",
   "metadata": {},
   "outputs": [
    {
     "data": {
      "text/plain": [
       "<AxesSubplot:xlabel='residual sugar', ylabel='quality'>"
      ]
     },
     "execution_count": 12,
     "metadata": {},
     "output_type": "execute_result"
    },
    {
     "data": {
      "image/png": "[encoded data removed]",
      "text/plain": [
       "<Figure size 432x288 with 1 Axes>"
      ]
     },
     "metadata": {
      "needs_background": "light"
     },
     "output_type": "display_data"
    }
   ],
   "source": [
    "sns.scatterplot(x='residual sugar',y='quality',data=df)"
   ]
  },
  {
   "cell_type": "code",
   "execution_count": 13,
   "id": "0ce5ac7e",
   "metadata": {},
   "outputs": [
    {
     "data": {
      "text/plain": [
       "<AxesSubplot:xlabel='chlorides', ylabel='quality'>"
      ]
     },
     "execution_count": 13,
     "metadata": {},
     "output_type": "execute_result"
    },
    {
     "data": {
      "image/png": "[encoded data removed]",
      "text/plain": [
       "<Figure size 432x288 with 1 Axes>"
      ]
     },
     "metadata": {
      "needs_background": "light"
     },
     "output_type": "display_data"
    }
   ],
   "source": [
    "sns.scatterplot(x='chlorides',y='quality',data=df)"
   ]
  },
  {
   "cell_type": "code",
   "execution_count": 14,
   "id": "9b152086",
   "metadata": {},
   "outputs": [
    {
     "data": {
      "text/plain": [
       "<AxesSubplot:xlabel='free sulfur dioxide', ylabel='quality'>"
      ]
     },
     "execution_count": 14,
     "metadata": {},
     "output_type": "execute_result"
    },
    {
     "data": {
      "image/png": "[encoded data removed]",
      "text/plain": [
       "<Figure size 432x288 with 1 Axes>"
      ]
     },
     "metadata": {
      "needs_background": "light"
     },
     "output_type": "display_data"
    }
   ],
   "source": [
    "sns.scatterplot(x='free sulfur dioxide',y='quality',data=df)"
   ]
  },
  {
   "cell_type": "code",
   "execution_count": 15,
   "id": "fee37bad",
   "metadata": {},
   "outputs": [
    {
     "data": {
      "text/plain": [
       "<AxesSubplot:xlabel='total sulfur dioxide', ylabel='quality'>"
      ]
     },
     "execution_count": 15,
     "metadata": {},
     "output_type": "execute_result"
    },
    {
     "data": {
      "image/png": "[encoded data removed]",
      "text/plain": [
       "<Figure size 432x288 with 1 Axes>"
      ]
     },
     "metadata": {
      "needs_background": "light"
     },
     "output_type": "display_data"
    }
   ],
   "source": [
    "sns.scatterplot(x='total sulfur dioxide',y='quality',data=df)"
   ]
  },
  {
   "cell_type": "code",
   "execution_count": 16,
   "id": "18381a7f",
   "metadata": {},
   "outputs": [
    {
     "data": {
      "text/plain": [
       "<AxesSubplot:xlabel='density', ylabel='quality'>"
      ]
     },
     "execution_count": 16,
     "metadata": {},
     "output_type": "execute_result"
    },
    {
     "data": {
      "image/png": "[encoded data removed]",
      "text/plain": [
       "<Figure size 432x288 with 1 Axes>"
      ]
     },
     "metadata": {
      "needs_background": "light"
     },
     "output_type": "display_data"
    }
   ],
   "source": [
    "sns.scatterplot(x='density',y='quality',data=df)"
   ]
  },
  {
   "cell_type": "code",
   "execution_count": 17,
   "id": "8ab2b316",
   "metadata": {},
   "outputs": [
    {
     "data": {
      "text/plain": [
       "<AxesSubplot:xlabel='pH', ylabel='quality'>"
      ]
     },
     "execution_count": 17,
     "metadata": {},
     "output_type": "execute_result"
    },
    {
     "data": {
      "image/png": "[encoded data removed]",
      "text/plain": [
       "<Figure size 432x288 with 1 Axes>"
      ]
     },
     "metadata": {
      "needs_background": "light"
     },
     "output_type": "display_data"
    }
   ],
   "source": [
    "sns.scatterplot(x='pH',y='quality',data=df)"
   ]
  },
  {
   "cell_type": "code",
   "execution_count": 18,
   "id": "79ea997f",
   "metadata": {},
   "outputs": [
    {
     "data": {
      "text/plain": [
       "<AxesSubplot:xlabel='sulphates', ylabel='quality'>"
      ]
     },
     "execution_count": 18,
     "metadata": {},
     "output_type": "execute_result"
    },
    {
     "data": {
      "image/png": "[encoded data removed]",
      "text/plain": [
       "<Figure size 432x288 with 1 Axes>"
      ]
     },
     "metadata": {
      "needs_background": "light"
     },
     "output_type": "display_data"
    }
   ],
   "source": [
    "sns.scatterplot(x='sulphates',y='quality',data=df)"
   ]
  },
  {
   "cell_type": "code",
   "execution_count": 19,
   "id": "f628a86b",
   "metadata": {},
   "outputs": [
    {
     "data": {
      "text/plain": [
       "<AxesSubplot:xlabel='alcohol', ylabel='quality'>"
      ]
     },
     "execution_count": 19,
     "metadata": {},
     "output_type": "execute_result"
    },
    {
     "data": {
      "image/png": "[encoded data removed]",
      "text/plain": [
       "<Figure size 432x288 with 1 Axes>"
      ]
     },
     "metadata": {
      "needs_background": "light"
     },
     "output_type": "display_data"
    }
   ],
   "source": [
    "sns.scatterplot(x='alcohol',y='quality',data=df)"
   ]
  },
  {
   "cell_type": "code",
   "execution_count": 20,
   "id": "909536b9",
   "metadata": {},
   "outputs": [
    {
     "data": {
      "image/png": "[encoded data removed]",
      "text/plain": [
       "<Figure size 432x288 with 1 Axes>"
      ]
     },
     "metadata": {
      "needs_background": "light"
     },
     "output_type": "display_data"
    }
   ],
   "source": [
    "df['quality'].hist()\n",
    "plt.title('quality types')\n",
    "plt.show()"
   ]
  },
  {
   "cell_type": "code",
   "execution_count": 21,
   "id": "7b21c545",
   "metadata": {},
   "outputs": [
    {
     "data": {
      "text/plain": [
       "5    681\n",
       "6    638\n",
       "7    199\n",
       "4     53\n",
       "8     18\n",
       "3     10\n",
       "Name: quality, dtype: int64"
      ]
     },
     "execution_count": 21,
     "metadata": {},
     "output_type": "execute_result"
    }
   ],
   "source": [
    "df['quality'].value_counts()"
   ]
  },
  {
   "cell_type": "code",
   "execution_count": 22,
   "id": "98d633e4",
   "metadata": {},
   "outputs": [
    {
     "data": {
      "text/plain": [
       "5    42.589118\n",
       "6    39.899937\n",
       "7    12.445278\n",
       "4     3.314572\n",
       "8     1.125704\n",
       "3     0.625391\n",
       "Name: quality, dtype: float64"
      ]
     },
     "execution_count": 22,
     "metadata": {},
     "output_type": "execute_result"
    }
   ],
   "source": [
    "df['quality'].value_counts(normalize=True)*100"
   ]
  },
  {
   "cell_type": "code",
   "execution_count": 23,
   "id": "fda6f5f8",
   "metadata": {},
   "outputs": [
    {
     "data": {
      "text/html": [
       "<div>\n",
       "<style scoped>\n",
       "    .dataframe tbody tr th:only-of-type {\n",
       "        vertical-align: middle;\n",
       "    }\n",
       "\n",
       "    .dataframe tbody tr th {\n",
       "        vertical-align: top;\n",
       "    }\n",
       "\n",
       "    .dataframe thead th {\n",
       "        text-align: right;\n",
       "    }\n",
       "</style>\n",
       "<table border=\"1\" class=\"dataframe\">\n",
       "  <thead>\n",
       "    <tr style=\"text-align: right;\">\n",
       "      <th></th>\n",
       "      <th>fixed acidity</th>\n",
       "      <th>volatile acidity</th>\n",
       "      <th>citric acid</th>\n",
       "      <th>residual sugar</th>\n",
       "      <th>chlorides</th>\n",
       "      <th>free sulfur dioxide</th>\n",
       "      <th>total sulfur dioxide</th>\n",
       "      <th>density</th>\n",
       "      <th>pH</th>\n",
       "      <th>sulphates</th>\n",
       "      <th>alcohol</th>\n",
       "      <th>quality</th>\n",
       "    </tr>\n",
       "  </thead>\n",
       "  <tbody>\n",
       "    <tr>\n",
       "      <th>fixed acidity</th>\n",
       "      <td>1.000000</td>\n",
       "      <td>-0.256131</td>\n",
       "      <td>0.671703</td>\n",
       "      <td>0.114777</td>\n",
       "      <td>0.093705</td>\n",
       "      <td>-0.153794</td>\n",
       "      <td>-0.113181</td>\n",
       "      <td>0.668047</td>\n",
       "      <td>-0.682978</td>\n",
       "      <td>0.183006</td>\n",
       "      <td>-0.061668</td>\n",
       "      <td>0.124052</td>\n",
       "    </tr>\n",
       "    <tr>\n",
       "      <th>volatile acidity</th>\n",
       "      <td>-0.256131</td>\n",
       "      <td>1.000000</td>\n",
       "      <td>-0.552496</td>\n",
       "      <td>0.001918</td>\n",
       "      <td>0.061298</td>\n",
       "      <td>-0.010504</td>\n",
       "      <td>0.076470</td>\n",
       "      <td>0.022026</td>\n",
       "      <td>0.234937</td>\n",
       "      <td>-0.260987</td>\n",
       "      <td>-0.202288</td>\n",
       "      <td>-0.390558</td>\n",
       "    </tr>\n",
       "    <tr>\n",
       "      <th>citric acid</th>\n",
       "      <td>0.671703</td>\n",
       "      <td>-0.552496</td>\n",
       "      <td>1.000000</td>\n",
       "      <td>0.143577</td>\n",
       "      <td>0.203823</td>\n",
       "      <td>-0.060978</td>\n",
       "      <td>0.035533</td>\n",
       "      <td>0.364947</td>\n",
       "      <td>-0.541904</td>\n",
       "      <td>0.312770</td>\n",
       "      <td>0.109903</td>\n",
       "      <td>0.226373</td>\n",
       "    </tr>\n",
       "    <tr>\n",
       "      <th>residual sugar</th>\n",
       "      <td>0.114777</td>\n",
       "      <td>0.001918</td>\n",
       "      <td>0.143577</td>\n",
       "      <td>1.000000</td>\n",
       "      <td>0.055610</td>\n",
       "      <td>0.187049</td>\n",
       "      <td>0.203028</td>\n",
       "      <td>0.355283</td>\n",
       "      <td>-0.085652</td>\n",
       "      <td>0.005527</td>\n",
       "      <td>0.042075</td>\n",
       "      <td>0.013732</td>\n",
       "    </tr>\n",
       "    <tr>\n",
       "      <th>chlorides</th>\n",
       "      <td>0.093705</td>\n",
       "      <td>0.061298</td>\n",
       "      <td>0.203823</td>\n",
       "      <td>0.055610</td>\n",
       "      <td>1.000000</td>\n",
       "      <td>0.005562</td>\n",
       "      <td>0.047400</td>\n",
       "      <td>0.200632</td>\n",
       "      <td>-0.265026</td>\n",
       "      <td>0.371260</td>\n",
       "      <td>-0.221141</td>\n",
       "      <td>-0.128907</td>\n",
       "    </tr>\n",
       "    <tr>\n",
       "      <th>free sulfur dioxide</th>\n",
       "      <td>-0.153794</td>\n",
       "      <td>-0.010504</td>\n",
       "      <td>-0.060978</td>\n",
       "      <td>0.187049</td>\n",
       "      <td>0.005562</td>\n",
       "      <td>1.000000</td>\n",
       "      <td>0.667666</td>\n",
       "      <td>-0.021946</td>\n",
       "      <td>0.070377</td>\n",
       "      <td>0.051658</td>\n",
       "      <td>-0.069408</td>\n",
       "      <td>-0.050656</td>\n",
       "    </tr>\n",
       "    <tr>\n",
       "      <th>total sulfur dioxide</th>\n",
       "      <td>-0.113181</td>\n",
       "      <td>0.076470</td>\n",
       "      <td>0.035533</td>\n",
       "      <td>0.203028</td>\n",
       "      <td>0.047400</td>\n",
       "      <td>0.667666</td>\n",
       "      <td>1.000000</td>\n",
       "      <td>0.071269</td>\n",
       "      <td>-0.066495</td>\n",
       "      <td>0.042947</td>\n",
       "      <td>-0.205654</td>\n",
       "      <td>-0.185100</td>\n",
       "    </tr>\n",
       "    <tr>\n",
       "      <th>density</th>\n",
       "      <td>0.668047</td>\n",
       "      <td>0.022026</td>\n",
       "      <td>0.364947</td>\n",
       "      <td>0.355283</td>\n",
       "      <td>0.200632</td>\n",
       "      <td>-0.021946</td>\n",
       "      <td>0.071269</td>\n",
       "      <td>1.000000</td>\n",
       "      <td>-0.341699</td>\n",
       "      <td>0.148506</td>\n",
       "      <td>-0.496180</td>\n",
       "      <td>-0.174919</td>\n",
       "    </tr>\n",
       "    <tr>\n",
       "      <th>pH</th>\n",
       "      <td>-0.682978</td>\n",
       "      <td>0.234937</td>\n",
       "      <td>-0.541904</td>\n",
       "      <td>-0.085652</td>\n",
       "      <td>-0.265026</td>\n",
       "      <td>0.070377</td>\n",
       "      <td>-0.066495</td>\n",
       "      <td>-0.341699</td>\n",
       "      <td>1.000000</td>\n",
       "      <td>-0.196648</td>\n",
       "      <td>0.205633</td>\n",
       "      <td>-0.057731</td>\n",
       "    </tr>\n",
       "    <tr>\n",
       "      <th>sulphates</th>\n",
       "      <td>0.183006</td>\n",
       "      <td>-0.260987</td>\n",
       "      <td>0.312770</td>\n",
       "      <td>0.005527</td>\n",
       "      <td>0.371260</td>\n",
       "      <td>0.051658</td>\n",
       "      <td>0.042947</td>\n",
       "      <td>0.148506</td>\n",
       "      <td>-0.196648</td>\n",
       "      <td>1.000000</td>\n",
       "      <td>0.093595</td>\n",
       "      <td>0.251397</td>\n",
       "    </tr>\n",
       "    <tr>\n",
       "      <th>alcohol</th>\n",
       "      <td>-0.061668</td>\n",
       "      <td>-0.202288</td>\n",
       "      <td>0.109903</td>\n",
       "      <td>0.042075</td>\n",
       "      <td>-0.221141</td>\n",
       "      <td>-0.069408</td>\n",
       "      <td>-0.205654</td>\n",
       "      <td>-0.496180</td>\n",
       "      <td>0.205633</td>\n",
       "      <td>0.093595</td>\n",
       "      <td>1.000000</td>\n",
       "      <td>0.476166</td>\n",
       "    </tr>\n",
       "    <tr>\n",
       "      <th>quality</th>\n",
       "      <td>0.124052</td>\n",
       "      <td>-0.390558</td>\n",
       "      <td>0.226373</td>\n",
       "      <td>0.013732</td>\n",
       "      <td>-0.128907</td>\n",
       "      <td>-0.050656</td>\n",
       "      <td>-0.185100</td>\n",
       "      <td>-0.174919</td>\n",
       "      <td>-0.057731</td>\n",
       "      <td>0.251397</td>\n",
       "      <td>0.476166</td>\n",
       "      <td>1.000000</td>\n",
       "    </tr>\n",
       "  </tbody>\n",
       "</table>\n",
       "</div>"
      ],
      "text/plain": [
       "                      fixed acidity  volatile acidity  citric acid  \\\n",
       "fixed acidity              1.000000         -0.256131     0.671703   \n",
       "volatile acidity          -0.256131          1.000000    -0.552496   \n",
       "citric acid                0.671703         -0.552496     1.000000   \n",
       "residual sugar             0.114777          0.001918     0.143577   \n",
       "chlorides                  0.093705          0.061298     0.203823   \n",
       "free sulfur dioxide       -0.153794         -0.010504    -0.060978   \n",
       "total sulfur dioxide      -0.113181          0.076470     0.035533   \n",
       "density                    0.668047          0.022026     0.364947   \n",
       "pH                        -0.682978          0.234937    -0.541904   \n",
       "sulphates                  0.183006         -0.260987     0.312770   \n",
       "alcohol                   -0.061668         -0.202288     0.109903   \n",
       "quality                    0.124052         -0.390558     0.226373   \n",
       "\n",
       "                      residual sugar  chlorides  free sulfur dioxide  \\\n",
       "fixed acidity               0.114777   0.093705            -0.153794   \n",
       "volatile acidity            0.001918   0.061298            -0.010504   \n",
       "citric acid                 0.143577   0.203823            -0.060978   \n",
       "residual sugar              1.000000   0.055610             0.187049   \n",
       "chlorides                   0.055610   1.000000             0.005562   \n",
       "free sulfur dioxide         0.187049   0.005562             1.000000   \n",
       "total sulfur dioxide        0.203028   0.047400             0.667666   \n",
       "density                     0.355283   0.200632            -0.021946   \n",
       "pH                         -0.085652  -0.265026             0.070377   \n",
       "sulphates                   0.005527   0.371260             0.051658   \n",
       "alcohol                     0.042075  -0.221141            -0.069408   \n",
       "quality                     0.013732  -0.128907            -0.050656   \n",
       "\n",
       "                      total sulfur dioxide   density        pH  sulphates  \\\n",
       "fixed acidity                    -0.113181  0.668047 -0.682978   0.183006   \n",
       "volatile acidity                  0.076470  0.022026  0.234937  -0.260987   \n",
       "citric acid                       0.035533  0.364947 -0.541904   0.312770   \n",
       "residual sugar                    0.203028  0.355283 -0.085652   0.005527   \n",
       "chlorides                         0.047400  0.200632 -0.265026   0.371260   \n",
       "free sulfur dioxide               0.667666 -0.021946  0.070377   0.051658   \n",
       "total sulfur dioxide              1.000000  0.071269 -0.066495   0.042947   \n",
       "density                           0.071269  1.000000 -0.341699   0.148506   \n",
       "pH                               -0.066495 -0.341699  1.000000  -0.196648   \n",
       "sulphates                         0.042947  0.148506 -0.196648   1.000000   \n",
       "alcohol                          -0.205654 -0.496180  0.205633   0.093595   \n",
       "quality                          -0.185100 -0.174919 -0.057731   0.251397   \n",
       "\n",
       "                       alcohol   quality  \n",
       "fixed acidity        -0.061668  0.124052  \n",
       "volatile acidity     -0.202288 -0.390558  \n",
       "citric acid           0.109903  0.226373  \n",
       "residual sugar        0.042075  0.013732  \n",
       "chlorides            -0.221141 -0.128907  \n",
       "free sulfur dioxide  -0.069408 -0.050656  \n",
       "total sulfur dioxide -0.205654 -0.185100  \n",
       "density              -0.496180 -0.174919  \n",
       "pH                    0.205633 -0.057731  \n",
       "sulphates             0.093595  0.251397  \n",
       "alcohol               1.000000  0.476166  \n",
       "quality               0.476166  1.000000  "
      ]
     },
     "execution_count": 23,
     "metadata": {},
     "output_type": "execute_result"
    }
   ],
   "source": [
    "df.corr()"
   ]
  },
  {
   "cell_type": "code",
   "execution_count": 24,
   "id": "b4d3d602",
   "metadata": {},
   "outputs": [
    {
     "data": {
      "text/plain": [
       "<AxesSubplot:>"
      ]
     },
     "execution_count": 24,
     "metadata": {},
     "output_type": "execute_result"
    },
    {
     "data": {
      "image/png": "[encoded data removed]",
      "text/plain": [
       "<Figure size 792x792 with 2 Axes>"
      ]
     },
     "metadata": {
      "needs_background": "light"
     },
     "output_type": "display_data"
    }
   ],
   "source": [
    "plt.figure(figsize=(11,11))\n",
    "sns.heatmap(df.corr(),annot=True)"
   ]
  },
  {
   "cell_type": "code",
   "execution_count": 25,
   "id": "5af28d2c",
   "metadata": {},
   "outputs": [
    {
     "data": {
      "text/plain": [
       "quality                 1.000000\n",
       "alcohol                 0.476166\n",
       "sulphates               0.251397\n",
       "citric acid             0.226373\n",
       "fixed acidity           0.124052\n",
       "residual sugar          0.013732\n",
       "free sulfur dioxide    -0.050656\n",
       "pH                     -0.057731\n",
       "chlorides              -0.128907\n",
       "density                -0.174919\n",
       "total sulfur dioxide   -0.185100\n",
       "volatile acidity       -0.390558\n",
       "Name: quality, dtype: float64"
      ]
     },
     "execution_count": 25,
     "metadata": {},
     "output_type": "execute_result"
    }
   ],
   "source": [
    "corr=df.corr()\n",
    "corr['quality'].sort_values(ascending=False)"
   ]
  },
  {
   "cell_type": "code",
   "execution_count": 26,
   "id": "e519aab0",
   "metadata": {},
   "outputs": [],
   "source": [
    "# max correlation = alcohol\n",
    "# min correlation = volatile acidity \n",
    "df=df.drop('volatile acidity',axis=1)"
   ]
  },
  {
   "cell_type": "code",
   "execution_count": 27,
   "id": "60f73092",
   "metadata": {},
   "outputs": [
    {
     "data": {
      "text/html": [
       "<div>\n",
       "<style scoped>\n",
       "    .dataframe tbody tr th:only-of-type {\n",
       "        vertical-align: middle;\n",
       "    }\n",
       "\n",
       "    .dataframe tbody tr th {\n",
       "        vertical-align: top;\n",
       "    }\n",
       "\n",
       "    .dataframe thead th {\n",
       "        text-align: right;\n",
       "    }\n",
       "</style>\n",
       "<table border=\"1\" class=\"dataframe\">\n",
       "  <thead>\n",
       "    <tr style=\"text-align: right;\">\n",
       "      <th></th>\n",
       "      <th>fixed acidity</th>\n",
       "      <th>citric acid</th>\n",
       "      <th>residual sugar</th>\n",
       "      <th>chlorides</th>\n",
       "      <th>free sulfur dioxide</th>\n",
       "      <th>total sulfur dioxide</th>\n",
       "      <th>density</th>\n",
       "      <th>pH</th>\n",
       "      <th>sulphates</th>\n",
       "      <th>alcohol</th>\n",
       "      <th>quality</th>\n",
       "    </tr>\n",
       "  </thead>\n",
       "  <tbody>\n",
       "    <tr>\n",
       "      <th>0</th>\n",
       "      <td>7.4</td>\n",
       "      <td>0.00</td>\n",
       "      <td>1.9</td>\n",
       "      <td>0.076</td>\n",
       "      <td>11.0</td>\n",
       "      <td>34.0</td>\n",
       "      <td>0.99780</td>\n",
       "      <td>3.51</td>\n",
       "      <td>0.56</td>\n",
       "      <td>9.4</td>\n",
       "      <td>5</td>\n",
       "    </tr>\n",
       "    <tr>\n",
       "      <th>1</th>\n",
       "      <td>7.8</td>\n",
       "      <td>0.00</td>\n",
       "      <td>2.6</td>\n",
       "      <td>0.098</td>\n",
       "      <td>25.0</td>\n",
       "      <td>67.0</td>\n",
       "      <td>0.99680</td>\n",
       "      <td>3.20</td>\n",
       "      <td>0.68</td>\n",
       "      <td>9.8</td>\n",
       "      <td>5</td>\n",
       "    </tr>\n",
       "    <tr>\n",
       "      <th>2</th>\n",
       "      <td>7.8</td>\n",
       "      <td>0.04</td>\n",
       "      <td>2.3</td>\n",
       "      <td>0.092</td>\n",
       "      <td>15.0</td>\n",
       "      <td>54.0</td>\n",
       "      <td>0.99700</td>\n",
       "      <td>3.26</td>\n",
       "      <td>0.65</td>\n",
       "      <td>9.8</td>\n",
       "      <td>5</td>\n",
       "    </tr>\n",
       "    <tr>\n",
       "      <th>3</th>\n",
       "      <td>11.2</td>\n",
       "      <td>0.56</td>\n",
       "      <td>1.9</td>\n",
       "      <td>0.075</td>\n",
       "      <td>17.0</td>\n",
       "      <td>60.0</td>\n",
       "      <td>0.99800</td>\n",
       "      <td>3.16</td>\n",
       "      <td>0.58</td>\n",
       "      <td>9.8</td>\n",
       "      <td>6</td>\n",
       "    </tr>\n",
       "    <tr>\n",
       "      <th>4</th>\n",
       "      <td>7.4</td>\n",
       "      <td>0.00</td>\n",
       "      <td>1.9</td>\n",
       "      <td>0.076</td>\n",
       "      <td>11.0</td>\n",
       "      <td>34.0</td>\n",
       "      <td>0.99780</td>\n",
       "      <td>3.51</td>\n",
       "      <td>0.56</td>\n",
       "      <td>9.4</td>\n",
       "      <td>5</td>\n",
       "    </tr>\n",
       "    <tr>\n",
       "      <th>...</th>\n",
       "      <td>...</td>\n",
       "      <td>...</td>\n",
       "      <td>...</td>\n",
       "      <td>...</td>\n",
       "      <td>...</td>\n",
       "      <td>...</td>\n",
       "      <td>...</td>\n",
       "      <td>...</td>\n",
       "      <td>...</td>\n",
       "      <td>...</td>\n",
       "      <td>...</td>\n",
       "    </tr>\n",
       "    <tr>\n",
       "      <th>1594</th>\n",
       "      <td>6.2</td>\n",
       "      <td>0.08</td>\n",
       "      <td>2.0</td>\n",
       "      <td>0.090</td>\n",
       "      <td>32.0</td>\n",
       "      <td>44.0</td>\n",
       "      <td>0.99490</td>\n",
       "      <td>3.45</td>\n",
       "      <td>0.58</td>\n",
       "      <td>10.5</td>\n",
       "      <td>5</td>\n",
       "    </tr>\n",
       "    <tr>\n",
       "      <th>1595</th>\n",
       "      <td>5.9</td>\n",
       "      <td>0.10</td>\n",
       "      <td>2.2</td>\n",
       "      <td>0.062</td>\n",
       "      <td>39.0</td>\n",
       "      <td>51.0</td>\n",
       "      <td>0.99512</td>\n",
       "      <td>3.52</td>\n",
       "      <td>0.76</td>\n",
       "      <td>11.2</td>\n",
       "      <td>6</td>\n",
       "    </tr>\n",
       "    <tr>\n",
       "      <th>1596</th>\n",
       "      <td>6.3</td>\n",
       "      <td>0.13</td>\n",
       "      <td>2.3</td>\n",
       "      <td>0.076</td>\n",
       "      <td>29.0</td>\n",
       "      <td>40.0</td>\n",
       "      <td>0.99574</td>\n",
       "      <td>3.42</td>\n",
       "      <td>0.75</td>\n",
       "      <td>11.0</td>\n",
       "      <td>6</td>\n",
       "    </tr>\n",
       "    <tr>\n",
       "      <th>1597</th>\n",
       "      <td>5.9</td>\n",
       "      <td>0.12</td>\n",
       "      <td>2.0</td>\n",
       "      <td>0.075</td>\n",
       "      <td>32.0</td>\n",
       "      <td>44.0</td>\n",
       "      <td>0.99547</td>\n",
       "      <td>3.57</td>\n",
       "      <td>0.71</td>\n",
       "      <td>10.2</td>\n",
       "      <td>5</td>\n",
       "    </tr>\n",
       "    <tr>\n",
       "      <th>1598</th>\n",
       "      <td>6.0</td>\n",
       "      <td>0.47</td>\n",
       "      <td>3.6</td>\n",
       "      <td>0.067</td>\n",
       "      <td>18.0</td>\n",
       "      <td>42.0</td>\n",
       "      <td>0.99549</td>\n",
       "      <td>3.39</td>\n",
       "      <td>0.66</td>\n",
       "      <td>11.0</td>\n",
       "      <td>6</td>\n",
       "    </tr>\n",
       "  </tbody>\n",
       "</table>\n",
       "<p>1599 rows × 11 columns</p>\n",
       "</div>"
      ],
      "text/plain": [
       "      fixed acidity  citric acid  residual sugar  chlorides  \\\n",
       "0               7.4         0.00             1.9      0.076   \n",
       "1               7.8         0.00             2.6      0.098   \n",
       "2               7.8         0.04             2.3      0.092   \n",
       "3              11.2         0.56             1.9      0.075   \n",
       "4               7.4         0.00             1.9      0.076   \n",
       "...             ...          ...             ...        ...   \n",
       "1594            6.2         0.08             2.0      0.090   \n",
       "1595            5.9         0.10             2.2      0.062   \n",
       "1596            6.3         0.13             2.3      0.076   \n",
       "1597            5.9         0.12             2.0      0.075   \n",
       "1598            6.0         0.47             3.6      0.067   \n",
       "\n",
       "      free sulfur dioxide  total sulfur dioxide  density    pH  sulphates  \\\n",
       "0                    11.0                  34.0  0.99780  3.51       0.56   \n",
       "1                    25.0                  67.0  0.99680  3.20       0.68   \n",
       "2                    15.0                  54.0  0.99700  3.26       0.65   \n",
       "3                    17.0                  60.0  0.99800  3.16       0.58   \n",
       "4                    11.0                  34.0  0.99780  3.51       0.56   \n",
       "...                   ...                   ...      ...   ...        ...   \n",
       "1594                 32.0                  44.0  0.99490  3.45       0.58   \n",
       "1595                 39.0                  51.0  0.99512  3.52       0.76   \n",
       "1596                 29.0                  40.0  0.99574  3.42       0.75   \n",
       "1597                 32.0                  44.0  0.99547  3.57       0.71   \n",
       "1598                 18.0                  42.0  0.99549  3.39       0.66   \n",
       "\n",
       "      alcohol  quality  \n",
       "0         9.4        5  \n",
       "1         9.8        5  \n",
       "2         9.8        5  \n",
       "3         9.8        6  \n",
       "4         9.4        5  \n",
       "...       ...      ...  \n",
       "1594     10.5        5  \n",
       "1595     11.2        6  \n",
       "1596     11.0        6  \n",
       "1597     10.2        5  \n",
       "1598     11.0        6  \n",
       "\n",
       "[1599 rows x 11 columns]"
      ]
     },
     "execution_count": 27,
     "metadata": {},
     "output_type": "execute_result"
    }
   ],
   "source": [
    "df"
   ]
  },
  {
   "cell_type": "code",
   "execution_count": 28,
   "id": "3001bf38",
   "metadata": {
    "scrolled": true
   },
   "outputs": [
    {
     "data": {
      "text/html": [
       "<div>\n",
       "<style scoped>\n",
       "    .dataframe tbody tr th:only-of-type {\n",
       "        vertical-align: middle;\n",
       "    }\n",
       "\n",
       "    .dataframe tbody tr th {\n",
       "        vertical-align: top;\n",
       "    }\n",
       "\n",
       "    .dataframe thead th {\n",
       "        text-align: right;\n",
       "    }\n",
       "</style>\n",
       "<table border=\"1\" class=\"dataframe\">\n",
       "  <thead>\n",
       "    <tr style=\"text-align: right;\">\n",
       "      <th></th>\n",
       "      <th>fixed acidity</th>\n",
       "      <th>citric acid</th>\n",
       "      <th>residual sugar</th>\n",
       "      <th>chlorides</th>\n",
       "      <th>free sulfur dioxide</th>\n",
       "      <th>total sulfur dioxide</th>\n",
       "      <th>density</th>\n",
       "      <th>pH</th>\n",
       "      <th>sulphates</th>\n",
       "      <th>alcohol</th>\n",
       "      <th>quality</th>\n",
       "    </tr>\n",
       "  </thead>\n",
       "  <tbody>\n",
       "    <tr>\n",
       "      <th>count</th>\n",
       "      <td>1599.000000</td>\n",
       "      <td>1599.000000</td>\n",
       "      <td>1599.000000</td>\n",
       "      <td>1599.000000</td>\n",
       "      <td>1599.000000</td>\n",
       "      <td>1599.000000</td>\n",
       "      <td>1599.000000</td>\n",
       "      <td>1599.000000</td>\n",
       "      <td>1599.000000</td>\n",
       "      <td>1599.000000</td>\n",
       "      <td>1599.000000</td>\n",
       "    </tr>\n",
       "    <tr>\n",
       "      <th>mean</th>\n",
       "      <td>8.319637</td>\n",
       "      <td>0.270976</td>\n",
       "      <td>2.538806</td>\n",
       "      <td>0.087467</td>\n",
       "      <td>15.874922</td>\n",
       "      <td>46.467792</td>\n",
       "      <td>0.996747</td>\n",
       "      <td>3.311113</td>\n",
       "      <td>0.658149</td>\n",
       "      <td>10.422983</td>\n",
       "      <td>5.636023</td>\n",
       "    </tr>\n",
       "    <tr>\n",
       "      <th>std</th>\n",
       "      <td>1.741096</td>\n",
       "      <td>0.194801</td>\n",
       "      <td>1.409928</td>\n",
       "      <td>0.047065</td>\n",
       "      <td>10.460157</td>\n",
       "      <td>32.895324</td>\n",
       "      <td>0.001887</td>\n",
       "      <td>0.154386</td>\n",
       "      <td>0.169507</td>\n",
       "      <td>1.065668</td>\n",
       "      <td>0.807569</td>\n",
       "    </tr>\n",
       "    <tr>\n",
       "      <th>min</th>\n",
       "      <td>4.600000</td>\n",
       "      <td>0.000000</td>\n",
       "      <td>0.900000</td>\n",
       "      <td>0.012000</td>\n",
       "      <td>1.000000</td>\n",
       "      <td>6.000000</td>\n",
       "      <td>0.990070</td>\n",
       "      <td>2.740000</td>\n",
       "      <td>0.330000</td>\n",
       "      <td>8.400000</td>\n",
       "      <td>3.000000</td>\n",
       "    </tr>\n",
       "    <tr>\n",
       "      <th>25%</th>\n",
       "      <td>7.100000</td>\n",
       "      <td>0.090000</td>\n",
       "      <td>1.900000</td>\n",
       "      <td>0.070000</td>\n",
       "      <td>7.000000</td>\n",
       "      <td>22.000000</td>\n",
       "      <td>0.995600</td>\n",
       "      <td>3.210000</td>\n",
       "      <td>0.550000</td>\n",
       "      <td>9.500000</td>\n",
       "      <td>5.000000</td>\n",
       "    </tr>\n",
       "    <tr>\n",
       "      <th>50%</th>\n",
       "      <td>7.900000</td>\n",
       "      <td>0.260000</td>\n",
       "      <td>2.200000</td>\n",
       "      <td>0.079000</td>\n",
       "      <td>14.000000</td>\n",
       "      <td>38.000000</td>\n",
       "      <td>0.996750</td>\n",
       "      <td>3.310000</td>\n",
       "      <td>0.620000</td>\n",
       "      <td>10.200000</td>\n",
       "      <td>6.000000</td>\n",
       "    </tr>\n",
       "    <tr>\n",
       "      <th>75%</th>\n",
       "      <td>9.200000</td>\n",
       "      <td>0.420000</td>\n",
       "      <td>2.600000</td>\n",
       "      <td>0.090000</td>\n",
       "      <td>21.000000</td>\n",
       "      <td>62.000000</td>\n",
       "      <td>0.997835</td>\n",
       "      <td>3.400000</td>\n",
       "      <td>0.730000</td>\n",
       "      <td>11.100000</td>\n",
       "      <td>6.000000</td>\n",
       "    </tr>\n",
       "    <tr>\n",
       "      <th>max</th>\n",
       "      <td>15.900000</td>\n",
       "      <td>1.000000</td>\n",
       "      <td>15.500000</td>\n",
       "      <td>0.611000</td>\n",
       "      <td>72.000000</td>\n",
       "      <td>289.000000</td>\n",
       "      <td>1.003690</td>\n",
       "      <td>4.010000</td>\n",
       "      <td>2.000000</td>\n",
       "      <td>14.900000</td>\n",
       "      <td>8.000000</td>\n",
       "    </tr>\n",
       "  </tbody>\n",
       "</table>\n",
       "</div>"
      ],
      "text/plain": [
       "       fixed acidity  citric acid  residual sugar    chlorides  \\\n",
       "count    1599.000000  1599.000000     1599.000000  1599.000000   \n",
       "mean        8.319637     0.270976        2.538806     0.087467   \n",
       "std         1.741096     0.194801        1.409928     0.047065   \n",
       "min         4.600000     0.000000        0.900000     0.012000   \n",
       "25%         7.100000     0.090000        1.900000     0.070000   \n",
       "50%         7.900000     0.260000        2.200000     0.079000   \n",
       "75%         9.200000     0.420000        2.600000     0.090000   \n",
       "max        15.900000     1.000000       15.500000     0.611000   \n",
       "\n",
       "       free sulfur dioxide  total sulfur dioxide      density           pH  \\\n",
       "count          1599.000000           1599.000000  1599.000000  1599.000000   \n",
       "mean             15.874922             46.467792     0.996747     3.311113   \n",
       "std              10.460157             32.895324     0.001887     0.154386   \n",
       "min               1.000000              6.000000     0.990070     2.740000   \n",
       "25%               7.000000             22.000000     0.995600     3.210000   \n",
       "50%              14.000000             38.000000     0.996750     3.310000   \n",
       "75%              21.000000             62.000000     0.997835     3.400000   \n",
       "max              72.000000            289.000000     1.003690     4.010000   \n",
       "\n",
       "         sulphates      alcohol      quality  \n",
       "count  1599.000000  1599.000000  1599.000000  \n",
       "mean      0.658149    10.422983     5.636023  \n",
       "std       0.169507     1.065668     0.807569  \n",
       "min       0.330000     8.400000     3.000000  \n",
       "25%       0.550000     9.500000     5.000000  \n",
       "50%       0.620000    10.200000     6.000000  \n",
       "75%       0.730000    11.100000     6.000000  \n",
       "max       2.000000    14.900000     8.000000  "
      ]
     },
     "execution_count": 28,
     "metadata": {},
     "output_type": "execute_result"
    }
   ],
   "source": [
    "df.describe()"
   ]
  },
  {
   "cell_type": "code",
   "execution_count": 29,
   "id": "1060a369",
   "metadata": {},
   "outputs": [
    {
     "data": {
      "text/plain": [
       "(8, 11)"
      ]
     },
     "execution_count": 29,
     "metadata": {},
     "output_type": "execute_result"
    }
   ],
   "source": [
    "df.describe().shape"
   ]
  },
  {
   "cell_type": "code",
   "execution_count": 30,
   "id": "f7b2a82c",
   "metadata": {},
   "outputs": [
    {
     "data": {
      "text/plain": [
       "<AxesSubplot:>"
      ]
     },
     "execution_count": 30,
     "metadata": {},
     "output_type": "execute_result"
    },
    {
     "data": {
      "image/png": "[encoded data removed]",
      "text/plain": [
       "<Figure size 792x576 with 2 Axes>"
      ]
     },
     "metadata": {
      "needs_background": "light"
     },
     "output_type": "display_data"
    }
   ],
   "source": [
    "plt.figure(figsize=(11,8))\n",
    "sns.heatmap(df.describe(),annot=True)"
   ]
  },
  {
   "cell_type": "code",
   "execution_count": 31,
   "id": "80826c9c",
   "metadata": {},
   "outputs": [
    {
     "data": {
      "text/plain": [
       "array([5, 6, 7, 4, 8, 3], dtype=int64)"
      ]
     },
     "execution_count": 31,
     "metadata": {},
     "output_type": "execute_result"
    }
   ],
   "source": [
    "df['quality'].unique()"
   ]
  },
  {
   "cell_type": "code",
   "execution_count": 32,
   "id": "b84a7e7b",
   "metadata": {},
   "outputs": [
    {
     "name": "stdout",
     "output_type": "stream",
     "text": [
      "<class 'pandas.core.frame.DataFrame'>\n",
      "RangeIndex: 1599 entries, 0 to 1598\n",
      "Data columns (total 11 columns):\n",
      " #   Column                Non-Null Count  Dtype  \n",
      "---  ------                --------------  -----  \n",
      " 0   fixed acidity         1599 non-null   float64\n",
      " 1   citric acid           1599 non-null   float64\n",
      " 2   residual sugar        1599 non-null   float64\n",
      " 3   chlorides             1599 non-null   float64\n",
      " 4   free sulfur dioxide   1599 non-null   float64\n",
      " 5   total sulfur dioxide  1599 non-null   float64\n",
      " 6   density               1599 non-null   float64\n",
      " 7   pH                    1599 non-null   float64\n",
      " 8   sulphates             1599 non-null   float64\n",
      " 9   alcohol               1599 non-null   float64\n",
      " 10  quality               1599 non-null   int64  \n",
      "dtypes: float64(10), int64(1)\n",
      "memory usage: 137.5 KB\n"
     ]
    }
   ],
   "source": [
    "df.info()"
   ]
  },
  {
   "cell_type": "code",
   "execution_count": 33,
   "id": "c0afde4f",
   "metadata": {},
   "outputs": [
    {
     "data": {
      "text/plain": [
       "fixed acidity           0.982751\n",
       "citric acid             0.318337\n",
       "residual sugar          4.540655\n",
       "chlorides               5.680347\n",
       "free sulfur dioxide     1.250567\n",
       "total sulfur dioxide    1.515531\n",
       "density                 0.071288\n",
       "pH                      0.193683\n",
       "sulphates               2.428672\n",
       "alcohol                 0.860829\n",
       "quality                 0.217802\n",
       "dtype: float64"
      ]
     },
     "execution_count": 33,
     "metadata": {},
     "output_type": "execute_result"
    }
   ],
   "source": [
    "df.skew()"
   ]
  },
  {
   "cell_type": "code",
   "execution_count": 34,
   "id": "2f8b4089",
   "metadata": {},
   "outputs": [],
   "source": [
    "x=df.iloc[:,:-1]\n",
    "y=df['quality']"
   ]
  },
  {
   "cell_type": "code",
   "execution_count": 35,
   "id": "9637555c",
   "metadata": {},
   "outputs": [
    {
     "data": {
      "text/html": [
       "<div>\n",
       "<style scoped>\n",
       "    .dataframe tbody tr th:only-of-type {\n",
       "        vertical-align: middle;\n",
       "    }\n",
       "\n",
       "    .dataframe tbody tr th {\n",
       "        vertical-align: top;\n",
       "    }\n",
       "\n",
       "    .dataframe thead th {\n",
       "        text-align: right;\n",
       "    }\n",
       "</style>\n",
       "<table border=\"1\" class=\"dataframe\">\n",
       "  <thead>\n",
       "    <tr style=\"text-align: right;\">\n",
       "      <th></th>\n",
       "      <th>fixed acidity</th>\n",
       "      <th>citric acid</th>\n",
       "      <th>residual sugar</th>\n",
       "      <th>chlorides</th>\n",
       "      <th>free sulfur dioxide</th>\n",
       "      <th>total sulfur dioxide</th>\n",
       "      <th>density</th>\n",
       "      <th>pH</th>\n",
       "      <th>sulphates</th>\n",
       "      <th>alcohol</th>\n",
       "    </tr>\n",
       "  </thead>\n",
       "  <tbody>\n",
       "    <tr>\n",
       "      <th>0</th>\n",
       "      <td>7.4</td>\n",
       "      <td>0.00</td>\n",
       "      <td>1.9</td>\n",
       "      <td>0.076</td>\n",
       "      <td>11.0</td>\n",
       "      <td>34.0</td>\n",
       "      <td>0.99780</td>\n",
       "      <td>3.51</td>\n",
       "      <td>0.56</td>\n",
       "      <td>9.4</td>\n",
       "    </tr>\n",
       "    <tr>\n",
       "      <th>1</th>\n",
       "      <td>7.8</td>\n",
       "      <td>0.00</td>\n",
       "      <td>2.6</td>\n",
       "      <td>0.098</td>\n",
       "      <td>25.0</td>\n",
       "      <td>67.0</td>\n",
       "      <td>0.99680</td>\n",
       "      <td>3.20</td>\n",
       "      <td>0.68</td>\n",
       "      <td>9.8</td>\n",
       "    </tr>\n",
       "    <tr>\n",
       "      <th>2</th>\n",
       "      <td>7.8</td>\n",
       "      <td>0.04</td>\n",
       "      <td>2.3</td>\n",
       "      <td>0.092</td>\n",
       "      <td>15.0</td>\n",
       "      <td>54.0</td>\n",
       "      <td>0.99700</td>\n",
       "      <td>3.26</td>\n",
       "      <td>0.65</td>\n",
       "      <td>9.8</td>\n",
       "    </tr>\n",
       "    <tr>\n",
       "      <th>3</th>\n",
       "      <td>11.2</td>\n",
       "      <td>0.56</td>\n",
       "      <td>1.9</td>\n",
       "      <td>0.075</td>\n",
       "      <td>17.0</td>\n",
       "      <td>60.0</td>\n",
       "      <td>0.99800</td>\n",
       "      <td>3.16</td>\n",
       "      <td>0.58</td>\n",
       "      <td>9.8</td>\n",
       "    </tr>\n",
       "    <tr>\n",
       "      <th>4</th>\n",
       "      <td>7.4</td>\n",
       "      <td>0.00</td>\n",
       "      <td>1.9</td>\n",
       "      <td>0.076</td>\n",
       "      <td>11.0</td>\n",
       "      <td>34.0</td>\n",
       "      <td>0.99780</td>\n",
       "      <td>3.51</td>\n",
       "      <td>0.56</td>\n",
       "      <td>9.4</td>\n",
       "    </tr>\n",
       "    <tr>\n",
       "      <th>...</th>\n",
       "      <td>...</td>\n",
       "      <td>...</td>\n",
       "      <td>...</td>\n",
       "      <td>...</td>\n",
       "      <td>...</td>\n",
       "      <td>...</td>\n",
       "      <td>...</td>\n",
       "      <td>...</td>\n",
       "      <td>...</td>\n",
       "      <td>...</td>\n",
       "    </tr>\n",
       "    <tr>\n",
       "      <th>1594</th>\n",
       "      <td>6.2</td>\n",
       "      <td>0.08</td>\n",
       "      <td>2.0</td>\n",
       "      <td>0.090</td>\n",
       "      <td>32.0</td>\n",
       "      <td>44.0</td>\n",
       "      <td>0.99490</td>\n",
       "      <td>3.45</td>\n",
       "      <td>0.58</td>\n",
       "      <td>10.5</td>\n",
       "    </tr>\n",
       "    <tr>\n",
       "      <th>1595</th>\n",
       "      <td>5.9</td>\n",
       "      <td>0.10</td>\n",
       "      <td>2.2</td>\n",
       "      <td>0.062</td>\n",
       "      <td>39.0</td>\n",
       "      <td>51.0</td>\n",
       "      <td>0.99512</td>\n",
       "      <td>3.52</td>\n",
       "      <td>0.76</td>\n",
       "      <td>11.2</td>\n",
       "    </tr>\n",
       "    <tr>\n",
       "      <th>1596</th>\n",
       "      <td>6.3</td>\n",
       "      <td>0.13</td>\n",
       "      <td>2.3</td>\n",
       "      <td>0.076</td>\n",
       "      <td>29.0</td>\n",
       "      <td>40.0</td>\n",
       "      <td>0.99574</td>\n",
       "      <td>3.42</td>\n",
       "      <td>0.75</td>\n",
       "      <td>11.0</td>\n",
       "    </tr>\n",
       "    <tr>\n",
       "      <th>1597</th>\n",
       "      <td>5.9</td>\n",
       "      <td>0.12</td>\n",
       "      <td>2.0</td>\n",
       "      <td>0.075</td>\n",
       "      <td>32.0</td>\n",
       "      <td>44.0</td>\n",
       "      <td>0.99547</td>\n",
       "      <td>3.57</td>\n",
       "      <td>0.71</td>\n",
       "      <td>10.2</td>\n",
       "    </tr>\n",
       "    <tr>\n",
       "      <th>1598</th>\n",
       "      <td>6.0</td>\n",
       "      <td>0.47</td>\n",
       "      <td>3.6</td>\n",
       "      <td>0.067</td>\n",
       "      <td>18.0</td>\n",
       "      <td>42.0</td>\n",
       "      <td>0.99549</td>\n",
       "      <td>3.39</td>\n",
       "      <td>0.66</td>\n",
       "      <td>11.0</td>\n",
       "    </tr>\n",
       "  </tbody>\n",
       "</table>\n",
       "<p>1599 rows × 10 columns</p>\n",
       "</div>"
      ],
      "text/plain": [
       "      fixed acidity  citric acid  residual sugar  chlorides  \\\n",
       "0               7.4         0.00             1.9      0.076   \n",
       "1               7.8         0.00             2.6      0.098   \n",
       "2               7.8         0.04             2.3      0.092   \n",
       "3              11.2         0.56             1.9      0.075   \n",
       "4               7.4         0.00             1.9      0.076   \n",
       "...             ...          ...             ...        ...   \n",
       "1594            6.2         0.08             2.0      0.090   \n",
       "1595            5.9         0.10             2.2      0.062   \n",
       "1596            6.3         0.13             2.3      0.076   \n",
       "1597            5.9         0.12             2.0      0.075   \n",
       "1598            6.0         0.47             3.6      0.067   \n",
       "\n",
       "      free sulfur dioxide  total sulfur dioxide  density    pH  sulphates  \\\n",
       "0                    11.0                  34.0  0.99780  3.51       0.56   \n",
       "1                    25.0                  67.0  0.99680  3.20       0.68   \n",
       "2                    15.0                  54.0  0.99700  3.26       0.65   \n",
       "3                    17.0                  60.0  0.99800  3.16       0.58   \n",
       "4                    11.0                  34.0  0.99780  3.51       0.56   \n",
       "...                   ...                   ...      ...   ...        ...   \n",
       "1594                 32.0                  44.0  0.99490  3.45       0.58   \n",
       "1595                 39.0                  51.0  0.99512  3.52       0.76   \n",
       "1596                 29.0                  40.0  0.99574  3.42       0.75   \n",
       "1597                 32.0                  44.0  0.99547  3.57       0.71   \n",
       "1598                 18.0                  42.0  0.99549  3.39       0.66   \n",
       "\n",
       "      alcohol  \n",
       "0         9.4  \n",
       "1         9.8  \n",
       "2         9.8  \n",
       "3         9.8  \n",
       "4         9.4  \n",
       "...       ...  \n",
       "1594     10.5  \n",
       "1595     11.2  \n",
       "1596     11.0  \n",
       "1597     10.2  \n",
       "1598     11.0  \n",
       "\n",
       "[1599 rows x 10 columns]"
      ]
     },
     "execution_count": 35,
     "metadata": {},
     "output_type": "execute_result"
    }
   ],
   "source": [
    "x"
   ]
  },
  {
   "cell_type": "code",
   "execution_count": 36,
   "id": "d8745168",
   "metadata": {},
   "outputs": [
    {
     "data": {
      "text/plain": [
       "0       5\n",
       "1       5\n",
       "2       5\n",
       "3       6\n",
       "4       5\n",
       "       ..\n",
       "1594    5\n",
       "1595    6\n",
       "1596    6\n",
       "1597    5\n",
       "1598    6\n",
       "Name: quality, Length: 1599, dtype: int64"
      ]
     },
     "execution_count": 36,
     "metadata": {},
     "output_type": "execute_result"
    }
   ],
   "source": [
    "y"
   ]
  },
  {
   "cell_type": "code",
   "execution_count": 37,
   "id": "54cf5c53",
   "metadata": {},
   "outputs": [
    {
     "data": {
      "text/plain": [
       "5    681\n",
       "6    638\n",
       "7    199\n",
       "4     53\n",
       "8     18\n",
       "3     10\n",
       "Name: quality, dtype: int64"
      ]
     },
     "execution_count": 37,
     "metadata": {},
     "output_type": "execute_result"
    }
   ],
   "source": [
    "y.value_counts()"
   ]
  },
  {
   "cell_type": "code",
   "execution_count": 38,
   "id": "265e64c3",
   "metadata": {},
   "outputs": [
    {
     "data": {
      "text/plain": [
       "5    42.589118\n",
       "6    39.899937\n",
       "7    12.445278\n",
       "4     3.314572\n",
       "8     1.125704\n",
       "3     0.625391\n",
       "Name: quality, dtype: float64"
      ]
     },
     "execution_count": 38,
     "metadata": {},
     "output_type": "execute_result"
    }
   ],
   "source": [
    "y.value_counts(normalize=True)*100"
   ]
  },
  {
   "cell_type": "code",
   "execution_count": 39,
   "id": "7f5235da",
   "metadata": {},
   "outputs": [
    {
     "data": {
      "text/plain": [
       "<AxesSubplot:xlabel='quality', ylabel='count'>"
      ]
     },
     "execution_count": 39,
     "metadata": {},
     "output_type": "execute_result"
    },
    {
     "data": {
      "image/png": "[encoded data removed]",
      "text/plain": [
       "<Figure size 432x288 with 1 Axes>"
      ]
     },
     "metadata": {
      "needs_background": "light"
     },
     "output_type": "display_data"
    }
   ],
   "source": [
    "sns.countplot(y)"
   ]
  },
  {
   "cell_type": "code",
   "execution_count": 40,
   "id": "4e6c1eee",
   "metadata": {},
   "outputs": [],
   "source": [
    "import sklearn\n",
    "from imblearn.over_sampling import SMOTE"
   ]
  },
  {
   "cell_type": "code",
   "execution_count": 41,
   "id": "5cd0417b",
   "metadata": {},
   "outputs": [],
   "source": [
    "smt=SMOTE()\n",
    "new_x,newy=smt.fit_resample(x,y)"
   ]
  },
  {
   "cell_type": "code",
   "execution_count": 42,
   "id": "fe6f23d0",
   "metadata": {},
   "outputs": [
    {
     "data": {
      "text/plain": [
       "fixed acidity  citric acid  residual sugar  chlorides  free sulfur dioxide  total sulfur dioxide  density   pH        sulphates  alcohol  \n",
       "10.700000      0.530000     2.600000        0.070000   5.000000             16.000000             0.997200  3.150000  0.650000   11.000000    11\n",
       "8.900000       0.450000     1.800000        0.075000   10.000000            21.000000             0.995520  3.410000  0.760000   11.900000    10\n",
       "7.200000       0.460000     2.100000        0.074000   24.000000            44.000000             0.995340  3.400000  0.850000   11.000000     9\n",
       "5.600000       0.000000     2.200000        0.087000   3.000000             11.000000             0.993780  3.710000  0.630000   12.800000     5\n",
       "7.300000       0.320000     2.100000        0.062000   31.000000            54.000000             0.997280  3.300000  0.650000   10.000000     5\n",
       "                                                                                                                                              ..\n",
       "7.475100       0.000000     3.442675        0.112020   5.000000             12.122500             0.995909  3.581185  0.487430   10.775100     1\n",
       "7.476941       0.076533     2.484627        0.059691   4.961568             8.923136              0.996255  3.382306  0.551153   10.919216     1\n",
       "7.478953       0.012105     2.971540        0.123685   4.515811             10.210472             0.995564  3.475791  0.429051   10.730534     1\n",
       "7.479256       0.079247     1.256605        0.243981   19.396279            32.584961             0.995391  3.331321  0.576039   9.818868      1\n",
       "15.900000      0.650000     7.500000        0.096000   22.000000            71.000000             0.997600  2.980000  0.840000   14.900000     1\n",
       "Length: 3797, dtype: int64"
      ]
     },
     "execution_count": 42,
     "metadata": {},
     "output_type": "execute_result"
    }
   ],
   "source": [
    "new_x.value_counts()"
   ]
  },
  {
   "cell_type": "code",
   "execution_count": 43,
   "id": "3f746236",
   "metadata": {},
   "outputs": [
    {
     "data": {
      "text/plain": [
       "5    681\n",
       "6    681\n",
       "7    681\n",
       "4    681\n",
       "8    681\n",
       "3    681\n",
       "Name: quality, dtype: int64"
      ]
     },
     "execution_count": 43,
     "metadata": {},
     "output_type": "execute_result"
    }
   ],
   "source": [
    "newy.value_counts()"
   ]
  },
  {
   "cell_type": "code",
   "execution_count": 44,
   "id": "aa58f332",
   "metadata": {},
   "outputs": [
    {
     "data": {
      "text/plain": [
       "<AxesSubplot:xlabel='quality', ylabel='count'>"
      ]
     },
     "execution_count": 44,
     "metadata": {},
     "output_type": "execute_result"
    },
    {
     "data": {
      "image/png": "[encoded data removed]",
      "text/plain": [
       "<Figure size 432x288 with 1 Axes>"
      ]
     },
     "metadata": {
      "needs_background": "light"
     },
     "output_type": "display_data"
    }
   ],
   "source": [
    "sns.countplot(newy)"
   ]
  },
  {
   "cell_type": "code",
   "execution_count": 45,
   "id": "48dfdc6e",
   "metadata": {},
   "outputs": [
    {
     "data": {
      "text/plain": [
       "fixed acidity           0.765027\n",
       "citric acid             0.290173\n",
       "residual sugar          3.676334\n",
       "chlorides               5.265517\n",
       "free sulfur dioxide     1.363309\n",
       "total sulfur dioxide    1.841112\n",
       "density                -0.043556\n",
       "pH                      0.044572\n",
       "sulphates               2.356713\n",
       "alcohol                 0.552392\n",
       "dtype: float64"
      ]
     },
     "execution_count": 45,
     "metadata": {},
     "output_type": "execute_result"
    }
   ],
   "source": [
    "new_x.skew()"
   ]
  },
  {
   "cell_type": "code",
   "execution_count": 46,
   "id": "d766a834",
   "metadata": {},
   "outputs": [
    {
     "data": {
      "text/html": [
       "<div>\n",
       "<style scoped>\n",
       "    .dataframe tbody tr th:only-of-type {\n",
       "        vertical-align: middle;\n",
       "    }\n",
       "\n",
       "    .dataframe tbody tr th {\n",
       "        vertical-align: top;\n",
       "    }\n",
       "\n",
       "    .dataframe thead th {\n",
       "        text-align: right;\n",
       "    }\n",
       "</style>\n",
       "<table border=\"1\" class=\"dataframe\">\n",
       "  <thead>\n",
       "    <tr style=\"text-align: right;\">\n",
       "      <th></th>\n",
       "      <th>fixed acidity</th>\n",
       "      <th>citric acid</th>\n",
       "      <th>residual sugar</th>\n",
       "      <th>chlorides</th>\n",
       "      <th>free sulfur dioxide</th>\n",
       "      <th>total sulfur dioxide</th>\n",
       "      <th>density</th>\n",
       "      <th>pH</th>\n",
       "      <th>sulphates</th>\n",
       "      <th>alcohol</th>\n",
       "    </tr>\n",
       "  </thead>\n",
       "  <tbody>\n",
       "    <tr>\n",
       "      <th>0</th>\n",
       "      <td>7.400000</td>\n",
       "      <td>0.000000</td>\n",
       "      <td>1.900000</td>\n",
       "      <td>0.076000</td>\n",
       "      <td>11.000000</td>\n",
       "      <td>34.000000</td>\n",
       "      <td>0.997800</td>\n",
       "      <td>3.510000</td>\n",
       "      <td>0.560000</td>\n",
       "      <td>9.400000</td>\n",
       "    </tr>\n",
       "    <tr>\n",
       "      <th>1</th>\n",
       "      <td>7.800000</td>\n",
       "      <td>0.000000</td>\n",
       "      <td>2.600000</td>\n",
       "      <td>0.098000</td>\n",
       "      <td>25.000000</td>\n",
       "      <td>67.000000</td>\n",
       "      <td>0.996800</td>\n",
       "      <td>3.200000</td>\n",
       "      <td>0.680000</td>\n",
       "      <td>9.800000</td>\n",
       "    </tr>\n",
       "    <tr>\n",
       "      <th>2</th>\n",
       "      <td>7.800000</td>\n",
       "      <td>0.040000</td>\n",
       "      <td>2.300000</td>\n",
       "      <td>0.092000</td>\n",
       "      <td>15.000000</td>\n",
       "      <td>54.000000</td>\n",
       "      <td>0.997000</td>\n",
       "      <td>3.260000</td>\n",
       "      <td>0.650000</td>\n",
       "      <td>9.800000</td>\n",
       "    </tr>\n",
       "    <tr>\n",
       "      <th>3</th>\n",
       "      <td>11.200000</td>\n",
       "      <td>0.560000</td>\n",
       "      <td>1.900000</td>\n",
       "      <td>0.075000</td>\n",
       "      <td>17.000000</td>\n",
       "      <td>60.000000</td>\n",
       "      <td>0.998000</td>\n",
       "      <td>3.160000</td>\n",
       "      <td>0.580000</td>\n",
       "      <td>9.800000</td>\n",
       "    </tr>\n",
       "    <tr>\n",
       "      <th>4</th>\n",
       "      <td>7.400000</td>\n",
       "      <td>0.000000</td>\n",
       "      <td>1.900000</td>\n",
       "      <td>0.076000</td>\n",
       "      <td>11.000000</td>\n",
       "      <td>34.000000</td>\n",
       "      <td>0.997800</td>\n",
       "      <td>3.510000</td>\n",
       "      <td>0.560000</td>\n",
       "      <td>9.400000</td>\n",
       "    </tr>\n",
       "    <tr>\n",
       "      <th>...</th>\n",
       "      <td>...</td>\n",
       "      <td>...</td>\n",
       "      <td>...</td>\n",
       "      <td>...</td>\n",
       "      <td>...</td>\n",
       "      <td>...</td>\n",
       "      <td>...</td>\n",
       "      <td>...</td>\n",
       "      <td>...</td>\n",
       "      <td>...</td>\n",
       "    </tr>\n",
       "    <tr>\n",
       "      <th>4081</th>\n",
       "      <td>9.175337</td>\n",
       "      <td>0.463783</td>\n",
       "      <td>3.512768</td>\n",
       "      <td>0.079751</td>\n",
       "      <td>7.249802</td>\n",
       "      <td>17.750198</td>\n",
       "      <td>0.994769</td>\n",
       "      <td>3.207502</td>\n",
       "      <td>0.708747</td>\n",
       "      <td>13.212530</td>\n",
       "    </tr>\n",
       "    <tr>\n",
       "      <th>4082</th>\n",
       "      <td>9.833906</td>\n",
       "      <td>0.506967</td>\n",
       "      <td>4.535622</td>\n",
       "      <td>0.076625</td>\n",
       "      <td>5.517883</td>\n",
       "      <td>15.071531</td>\n",
       "      <td>0.996979</td>\n",
       "      <td>3.188569</td>\n",
       "      <td>0.871788</td>\n",
       "      <td>12.133906</td>\n",
       "    </tr>\n",
       "    <tr>\n",
       "      <th>4083</th>\n",
       "      <td>6.371654</td>\n",
       "      <td>0.274291</td>\n",
       "      <td>1.885696</td>\n",
       "      <td>0.068001</td>\n",
       "      <td>17.856955</td>\n",
       "      <td>35.140416</td>\n",
       "      <td>0.993123</td>\n",
       "      <td>3.445669</td>\n",
       "      <td>0.717139</td>\n",
       "      <td>12.514042</td>\n",
       "    </tr>\n",
       "    <tr>\n",
       "      <th>4084</th>\n",
       "      <td>8.596804</td>\n",
       "      <td>0.432907</td>\n",
       "      <td>2.093531</td>\n",
       "      <td>0.073097</td>\n",
       "      <td>7.419330</td>\n",
       "      <td>16.419330</td>\n",
       "      <td>0.993668</td>\n",
       "      <td>3.205807</td>\n",
       "      <td>0.702580</td>\n",
       "      <td>12.751598</td>\n",
       "    </tr>\n",
       "    <tr>\n",
       "      <th>4085</th>\n",
       "      <td>8.085233</td>\n",
       "      <td>0.357978</td>\n",
       "      <td>2.647097</td>\n",
       "      <td>0.076545</td>\n",
       "      <td>7.891040</td>\n",
       "      <td>17.108960</td>\n",
       "      <td>0.992701</td>\n",
       "      <td>3.201090</td>\n",
       "      <td>0.718366</td>\n",
       "      <td>13.116344</td>\n",
       "    </tr>\n",
       "  </tbody>\n",
       "</table>\n",
       "<p>4086 rows × 10 columns</p>\n",
       "</div>"
      ],
      "text/plain": [
       "      fixed acidity  citric acid  residual sugar  chlorides  \\\n",
       "0          7.400000     0.000000        1.900000   0.076000   \n",
       "1          7.800000     0.000000        2.600000   0.098000   \n",
       "2          7.800000     0.040000        2.300000   0.092000   \n",
       "3         11.200000     0.560000        1.900000   0.075000   \n",
       "4          7.400000     0.000000        1.900000   0.076000   \n",
       "...             ...          ...             ...        ...   \n",
       "4081       9.175337     0.463783        3.512768   0.079751   \n",
       "4082       9.833906     0.506967        4.535622   0.076625   \n",
       "4083       6.371654     0.274291        1.885696   0.068001   \n",
       "4084       8.596804     0.432907        2.093531   0.073097   \n",
       "4085       8.085233     0.357978        2.647097   0.076545   \n",
       "\n",
       "      free sulfur dioxide  total sulfur dioxide   density        pH  \\\n",
       "0               11.000000             34.000000  0.997800  3.510000   \n",
       "1               25.000000             67.000000  0.996800  3.200000   \n",
       "2               15.000000             54.000000  0.997000  3.260000   \n",
       "3               17.000000             60.000000  0.998000  3.160000   \n",
       "4               11.000000             34.000000  0.997800  3.510000   \n",
       "...                   ...                   ...       ...       ...   \n",
       "4081             7.249802             17.750198  0.994769  3.207502   \n",
       "4082             5.517883             15.071531  0.996979  3.188569   \n",
       "4083            17.856955             35.140416  0.993123  3.445669   \n",
       "4084             7.419330             16.419330  0.993668  3.205807   \n",
       "4085             7.891040             17.108960  0.992701  3.201090   \n",
       "\n",
       "      sulphates    alcohol  \n",
       "0      0.560000   9.400000  \n",
       "1      0.680000   9.800000  \n",
       "2      0.650000   9.800000  \n",
       "3      0.580000   9.800000  \n",
       "4      0.560000   9.400000  \n",
       "...         ...        ...  \n",
       "4081   0.708747  13.212530  \n",
       "4082   0.871788  12.133906  \n",
       "4083   0.717139  12.514042  \n",
       "4084   0.702580  12.751598  \n",
       "4085   0.718366  13.116344  \n",
       "\n",
       "[4086 rows x 10 columns]"
      ]
     },
     "execution_count": 46,
     "metadata": {},
     "output_type": "execute_result"
    }
   ],
   "source": [
    "new_x"
   ]
  },
  {
   "cell_type": "code",
   "execution_count": 47,
   "id": "8af2eda4",
   "metadata": {},
   "outputs": [],
   "source": [
    "import numpy as np \n",
    "from sklearn.preprocessing import power_transform"
   ]
  },
  {
   "cell_type": "code",
   "execution_count": 48,
   "id": "8e8fd3a9",
   "metadata": {},
   "outputs": [
    {
     "data": {
      "text/plain": [
       "array([[-0.52093975, -1.44280078, -0.72453211, ...,  1.17171836,\n",
       "        -0.62836943, -1.2312041 ],\n",
       "       [-0.23742631, -1.44280078,  0.41303492, ..., -0.80017086,\n",
       "         0.32254312, -0.76800757],\n",
       "       [-0.23742631, -1.18340203,  0.0090016 , ..., -0.4148268 ,\n",
       "         0.11203074, -0.76800757],\n",
       "       ...,\n",
       "       [-1.35619718,  0.11209029, -0.75623066, ...,  0.76632743,\n",
       "         0.56193401,  1.44395911],\n",
       "       [ 0.27208813,  0.82462595, -0.33593007, ..., -0.76279806,\n",
       "         0.47073523,  1.58292317],\n",
       "       [-0.04712313,  0.50155956,  0.46800643, ..., -0.7931567 ,\n",
       "         0.56946694,  1.78404622]])"
      ]
     },
     "execution_count": 48,
     "metadata": {},
     "output_type": "execute_result"
    }
   ],
   "source": [
    "newx=power_transform(new_x)\n",
    "newx"
   ]
  },
  {
   "cell_type": "code",
   "execution_count": 49,
   "id": "5862d5f4",
   "metadata": {},
   "outputs": [
    {
     "data": {
      "text/html": [
       "<div>\n",
       "<style scoped>\n",
       "    .dataframe tbody tr th:only-of-type {\n",
       "        vertical-align: middle;\n",
       "    }\n",
       "\n",
       "    .dataframe tbody tr th {\n",
       "        vertical-align: top;\n",
       "    }\n",
       "\n",
       "    .dataframe thead th {\n",
       "        text-align: right;\n",
       "    }\n",
       "</style>\n",
       "<table border=\"1\" class=\"dataframe\">\n",
       "  <thead>\n",
       "    <tr style=\"text-align: right;\">\n",
       "      <th></th>\n",
       "      <th>fixed acidity</th>\n",
       "      <th>citric acid</th>\n",
       "      <th>residual sugar</th>\n",
       "      <th>chlorides</th>\n",
       "      <th>free sulfur dioxide</th>\n",
       "      <th>total sulfur dioxide</th>\n",
       "      <th>density</th>\n",
       "      <th>pH</th>\n",
       "      <th>sulphates</th>\n",
       "      <th>alcohol</th>\n",
       "    </tr>\n",
       "  </thead>\n",
       "  <tbody>\n",
       "    <tr>\n",
       "      <th>0</th>\n",
       "      <td>-0.520940</td>\n",
       "      <td>-1.442801</td>\n",
       "      <td>-0.724532</td>\n",
       "      <td>-0.206791</td>\n",
       "      <td>0.097407</td>\n",
       "      <td>0.325014</td>\n",
       "      <td>0.680822</td>\n",
       "      <td>1.171718</td>\n",
       "      <td>-0.628369</td>\n",
       "      <td>-1.231204</td>\n",
       "    </tr>\n",
       "    <tr>\n",
       "      <th>1</th>\n",
       "      <td>-0.237426</td>\n",
       "      <td>-1.442801</td>\n",
       "      <td>0.413035</td>\n",
       "      <td>0.718126</td>\n",
       "      <td>1.228896</td>\n",
       "      <td>1.211403</td>\n",
       "      <td>0.139047</td>\n",
       "      <td>-0.800171</td>\n",
       "      <td>0.322543</td>\n",
       "      <td>-0.768008</td>\n",
       "    </tr>\n",
       "    <tr>\n",
       "      <th>2</th>\n",
       "      <td>-0.237426</td>\n",
       "      <td>-1.183402</td>\n",
       "      <td>0.009002</td>\n",
       "      <td>0.503763</td>\n",
       "      <td>0.541297</td>\n",
       "      <td>0.942436</td>\n",
       "      <td>0.247133</td>\n",
       "      <td>-0.414827</td>\n",
       "      <td>0.112031</td>\n",
       "      <td>-0.768008</td>\n",
       "    </tr>\n",
       "    <tr>\n",
       "      <th>3</th>\n",
       "      <td>1.563864</td>\n",
       "      <td>1.325185</td>\n",
       "      <td>-0.724532</td>\n",
       "      <td>-0.259038</td>\n",
       "      <td>0.714994</td>\n",
       "      <td>1.075288</td>\n",
       "      <td>0.789580</td>\n",
       "      <td>-1.058087</td>\n",
       "      <td>-0.448131</td>\n",
       "      <td>-0.768008</td>\n",
       "    </tr>\n",
       "    <tr>\n",
       "      <th>4</th>\n",
       "      <td>-0.520940</td>\n",
       "      <td>-1.442801</td>\n",
       "      <td>-0.724532</td>\n",
       "      <td>-0.206791</td>\n",
       "      <td>0.097407</td>\n",
       "      <td>0.325014</td>\n",
       "      <td>0.680822</td>\n",
       "      <td>1.171718</td>\n",
       "      <td>-0.628369</td>\n",
       "      <td>-1.231204</td>\n",
       "    </tr>\n",
       "    <tr>\n",
       "      <th>...</th>\n",
       "      <td>...</td>\n",
       "      <td>...</td>\n",
       "      <td>...</td>\n",
       "      <td>...</td>\n",
       "      <td>...</td>\n",
       "      <td>...</td>\n",
       "      <td>...</td>\n",
       "      <td>...</td>\n",
       "      <td>...</td>\n",
       "      <td>...</td>\n",
       "    </tr>\n",
       "    <tr>\n",
       "      <th>4081</th>\n",
       "      <td>0.602851</td>\n",
       "      <td>0.951412</td>\n",
       "      <td>1.203831</td>\n",
       "      <td>-0.019723</td>\n",
       "      <td>-0.525073</td>\n",
       "      <td>-0.637167</td>\n",
       "      <td>-0.950808</td>\n",
       "      <td>-0.751890</td>\n",
       "      <td>0.509771</td>\n",
       "      <td>1.834762</td>\n",
       "    </tr>\n",
       "    <tr>\n",
       "      <th>4082</th>\n",
       "      <td>0.945735</td>\n",
       "      <td>1.123013</td>\n",
       "      <td>1.683702</td>\n",
       "      <td>-0.174647</td>\n",
       "      <td>-0.943949</td>\n",
       "      <td>-0.896260</td>\n",
       "      <td>0.235530</td>\n",
       "      <td>-0.873790</td>\n",
       "      <td>1.355907</td>\n",
       "      <td>1.207281</td>\n",
       "    </tr>\n",
       "    <tr>\n",
       "      <th>4083</th>\n",
       "      <td>-1.356197</td>\n",
       "      <td>0.112090</td>\n",
       "      <td>-0.756231</td>\n",
       "      <td>-0.655042</td>\n",
       "      <td>0.782339</td>\n",
       "      <td>0.370903</td>\n",
       "      <td>-1.824377</td>\n",
       "      <td>0.766327</td>\n",
       "      <td>0.561934</td>\n",
       "      <td>1.443959</td>\n",
       "    </tr>\n",
       "    <tr>\n",
       "      <th>4084</th>\n",
       "      <td>0.272088</td>\n",
       "      <td>0.824626</td>\n",
       "      <td>-0.335930</td>\n",
       "      <td>-0.361371</td>\n",
       "      <td>-0.489934</td>\n",
       "      <td>-0.759793</td>\n",
       "      <td>-1.536157</td>\n",
       "      <td>-0.762798</td>\n",
       "      <td>0.470735</td>\n",
       "      <td>1.582923</td>\n",
       "    </tr>\n",
       "    <tr>\n",
       "      <th>4085</th>\n",
       "      <td>-0.047123</td>\n",
       "      <td>0.501560</td>\n",
       "      <td>0.468006</td>\n",
       "      <td>-0.178758</td>\n",
       "      <td>-0.396541</td>\n",
       "      <td>-0.694873</td>\n",
       "      <td>-2.046706</td>\n",
       "      <td>-0.793157</td>\n",
       "      <td>0.569467</td>\n",
       "      <td>1.784046</td>\n",
       "    </tr>\n",
       "  </tbody>\n",
       "</table>\n",
       "<p>4086 rows × 10 columns</p>\n",
       "</div>"
      ],
      "text/plain": [
       "      fixed acidity  citric acid  residual sugar  chlorides  \\\n",
       "0         -0.520940    -1.442801       -0.724532  -0.206791   \n",
       "1         -0.237426    -1.442801        0.413035   0.718126   \n",
       "2         -0.237426    -1.183402        0.009002   0.503763   \n",
       "3          1.563864     1.325185       -0.724532  -0.259038   \n",
       "4         -0.520940    -1.442801       -0.724532  -0.206791   \n",
       "...             ...          ...             ...        ...   \n",
       "4081       0.602851     0.951412        1.203831  -0.019723   \n",
       "4082       0.945735     1.123013        1.683702  -0.174647   \n",
       "4083      -1.356197     0.112090       -0.756231  -0.655042   \n",
       "4084       0.272088     0.824626       -0.335930  -0.361371   \n",
       "4085      -0.047123     0.501560        0.468006  -0.178758   \n",
       "\n",
       "      free sulfur dioxide  total sulfur dioxide   density        pH  \\\n",
       "0                0.097407              0.325014  0.680822  1.171718   \n",
       "1                1.228896              1.211403  0.139047 -0.800171   \n",
       "2                0.541297              0.942436  0.247133 -0.414827   \n",
       "3                0.714994              1.075288  0.789580 -1.058087   \n",
       "4                0.097407              0.325014  0.680822  1.171718   \n",
       "...                   ...                   ...       ...       ...   \n",
       "4081            -0.525073             -0.637167 -0.950808 -0.751890   \n",
       "4082            -0.943949             -0.896260  0.235530 -0.873790   \n",
       "4083             0.782339              0.370903 -1.824377  0.766327   \n",
       "4084            -0.489934             -0.759793 -1.536157 -0.762798   \n",
       "4085            -0.396541             -0.694873 -2.046706 -0.793157   \n",
       "\n",
       "      sulphates   alcohol  \n",
       "0     -0.628369 -1.231204  \n",
       "1      0.322543 -0.768008  \n",
       "2      0.112031 -0.768008  \n",
       "3     -0.448131 -0.768008  \n",
       "4     -0.628369 -1.231204  \n",
       "...         ...       ...  \n",
       "4081   0.509771  1.834762  \n",
       "4082   1.355907  1.207281  \n",
       "4083   0.561934  1.443959  \n",
       "4084   0.470735  1.582923  \n",
       "4085   0.569467  1.784046  \n",
       "\n",
       "[4086 rows x 10 columns]"
      ]
     },
     "execution_count": 49,
     "metadata": {},
     "output_type": "execute_result"
    }
   ],
   "source": [
    "dfx=pd.DataFrame(data=newx,columns=x.columns)\n",
    "dfx"
   ]
  },
  {
   "cell_type": "code",
   "execution_count": 50,
   "id": "de9be986",
   "metadata": {},
   "outputs": [
    {
     "data": {
      "text/plain": [
       "residual sugar          0.050533\n",
       "total sulfur dioxide    0.050130\n",
       "free sulfur dioxide     0.048289\n",
       "alcohol                 0.042474\n",
       "chlorides               0.025807\n",
       "citric acid             0.019993\n",
       "density                 0.002881\n",
       "pH                      0.002589\n",
       "fixed acidity           0.002476\n",
       "sulphates              -0.011792\n",
       "dtype: float64"
      ]
     },
     "execution_count": 50,
     "metadata": {},
     "output_type": "execute_result"
    }
   ],
   "source": [
    "dfx.skew().sort_values(ascending=False)"
   ]
  },
  {
   "cell_type": "code",
   "execution_count": 51,
   "id": "4c2746a2",
   "metadata": {},
   "outputs": [
    {
     "data": {
      "image/png": "[encoded data removed]",
      "text/plain": [
       "<Figure size 1440x720 with 1 Axes>"
      ]
     },
     "metadata": {
      "needs_background": "light"
     },
     "output_type": "display_data"
    }
   ],
   "source": [
    "dfx.iloc[:].boxplot(figsize=(20,10))\n",
    "plt.show()"
   ]
  },
  {
   "cell_type": "code",
   "execution_count": 52,
   "id": "6d1816d8",
   "metadata": {},
   "outputs": [
    {
     "data": {
      "text/html": [
       "<div>\n",
       "<style scoped>\n",
       "    .dataframe tbody tr th:only-of-type {\n",
       "        vertical-align: middle;\n",
       "    }\n",
       "\n",
       "    .dataframe tbody tr th {\n",
       "        vertical-align: top;\n",
       "    }\n",
       "\n",
       "    .dataframe thead th {\n",
       "        text-align: right;\n",
       "    }\n",
       "</style>\n",
       "<table border=\"1\" class=\"dataframe\">\n",
       "  <thead>\n",
       "    <tr style=\"text-align: right;\">\n",
       "      <th></th>\n",
       "      <th>fixed acidity</th>\n",
       "      <th>citric acid</th>\n",
       "      <th>residual sugar</th>\n",
       "      <th>chlorides</th>\n",
       "      <th>free sulfur dioxide</th>\n",
       "      <th>total sulfur dioxide</th>\n",
       "      <th>density</th>\n",
       "      <th>pH</th>\n",
       "      <th>sulphates</th>\n",
       "      <th>alcohol</th>\n",
       "    </tr>\n",
       "  </thead>\n",
       "  <tbody>\n",
       "    <tr>\n",
       "      <th>0</th>\n",
       "      <td>0.520940</td>\n",
       "      <td>1.442801</td>\n",
       "      <td>0.724532</td>\n",
       "      <td>0.206791</td>\n",
       "      <td>0.097407</td>\n",
       "      <td>0.325014</td>\n",
       "      <td>0.680822</td>\n",
       "      <td>1.171718</td>\n",
       "      <td>0.628369</td>\n",
       "      <td>1.231204</td>\n",
       "    </tr>\n",
       "    <tr>\n",
       "      <th>1</th>\n",
       "      <td>0.237426</td>\n",
       "      <td>1.442801</td>\n",
       "      <td>0.413035</td>\n",
       "      <td>0.718126</td>\n",
       "      <td>1.228896</td>\n",
       "      <td>1.211403</td>\n",
       "      <td>0.139047</td>\n",
       "      <td>0.800171</td>\n",
       "      <td>0.322543</td>\n",
       "      <td>0.768008</td>\n",
       "    </tr>\n",
       "    <tr>\n",
       "      <th>2</th>\n",
       "      <td>0.237426</td>\n",
       "      <td>1.183402</td>\n",
       "      <td>0.009002</td>\n",
       "      <td>0.503763</td>\n",
       "      <td>0.541297</td>\n",
       "      <td>0.942436</td>\n",
       "      <td>0.247133</td>\n",
       "      <td>0.414827</td>\n",
       "      <td>0.112031</td>\n",
       "      <td>0.768008</td>\n",
       "    </tr>\n",
       "    <tr>\n",
       "      <th>3</th>\n",
       "      <td>1.563864</td>\n",
       "      <td>1.325185</td>\n",
       "      <td>0.724532</td>\n",
       "      <td>0.259038</td>\n",
       "      <td>0.714994</td>\n",
       "      <td>1.075288</td>\n",
       "      <td>0.789580</td>\n",
       "      <td>1.058087</td>\n",
       "      <td>0.448131</td>\n",
       "      <td>0.768008</td>\n",
       "    </tr>\n",
       "    <tr>\n",
       "      <th>4</th>\n",
       "      <td>0.520940</td>\n",
       "      <td>1.442801</td>\n",
       "      <td>0.724532</td>\n",
       "      <td>0.206791</td>\n",
       "      <td>0.097407</td>\n",
       "      <td>0.325014</td>\n",
       "      <td>0.680822</td>\n",
       "      <td>1.171718</td>\n",
       "      <td>0.628369</td>\n",
       "      <td>1.231204</td>\n",
       "    </tr>\n",
       "    <tr>\n",
       "      <th>...</th>\n",
       "      <td>...</td>\n",
       "      <td>...</td>\n",
       "      <td>...</td>\n",
       "      <td>...</td>\n",
       "      <td>...</td>\n",
       "      <td>...</td>\n",
       "      <td>...</td>\n",
       "      <td>...</td>\n",
       "      <td>...</td>\n",
       "      <td>...</td>\n",
       "    </tr>\n",
       "    <tr>\n",
       "      <th>4081</th>\n",
       "      <td>0.602851</td>\n",
       "      <td>0.951412</td>\n",
       "      <td>1.203831</td>\n",
       "      <td>0.019723</td>\n",
       "      <td>0.525073</td>\n",
       "      <td>0.637167</td>\n",
       "      <td>0.950808</td>\n",
       "      <td>0.751890</td>\n",
       "      <td>0.509771</td>\n",
       "      <td>1.834762</td>\n",
       "    </tr>\n",
       "    <tr>\n",
       "      <th>4082</th>\n",
       "      <td>0.945735</td>\n",
       "      <td>1.123013</td>\n",
       "      <td>1.683702</td>\n",
       "      <td>0.174647</td>\n",
       "      <td>0.943949</td>\n",
       "      <td>0.896260</td>\n",
       "      <td>0.235530</td>\n",
       "      <td>0.873790</td>\n",
       "      <td>1.355907</td>\n",
       "      <td>1.207281</td>\n",
       "    </tr>\n",
       "    <tr>\n",
       "      <th>4083</th>\n",
       "      <td>1.356197</td>\n",
       "      <td>0.112090</td>\n",
       "      <td>0.756231</td>\n",
       "      <td>0.655042</td>\n",
       "      <td>0.782339</td>\n",
       "      <td>0.370903</td>\n",
       "      <td>1.824377</td>\n",
       "      <td>0.766327</td>\n",
       "      <td>0.561934</td>\n",
       "      <td>1.443959</td>\n",
       "    </tr>\n",
       "    <tr>\n",
       "      <th>4084</th>\n",
       "      <td>0.272088</td>\n",
       "      <td>0.824626</td>\n",
       "      <td>0.335930</td>\n",
       "      <td>0.361371</td>\n",
       "      <td>0.489934</td>\n",
       "      <td>0.759793</td>\n",
       "      <td>1.536157</td>\n",
       "      <td>0.762798</td>\n",
       "      <td>0.470735</td>\n",
       "      <td>1.582923</td>\n",
       "    </tr>\n",
       "    <tr>\n",
       "      <th>4085</th>\n",
       "      <td>0.047123</td>\n",
       "      <td>0.501560</td>\n",
       "      <td>0.468006</td>\n",
       "      <td>0.178758</td>\n",
       "      <td>0.396541</td>\n",
       "      <td>0.694873</td>\n",
       "      <td>2.046706</td>\n",
       "      <td>0.793157</td>\n",
       "      <td>0.569467</td>\n",
       "      <td>1.784046</td>\n",
       "    </tr>\n",
       "  </tbody>\n",
       "</table>\n",
       "<p>4086 rows × 10 columns</p>\n",
       "</div>"
      ],
      "text/plain": [
       "      fixed acidity  citric acid  residual sugar  chlorides  \\\n",
       "0          0.520940     1.442801        0.724532   0.206791   \n",
       "1          0.237426     1.442801        0.413035   0.718126   \n",
       "2          0.237426     1.183402        0.009002   0.503763   \n",
       "3          1.563864     1.325185        0.724532   0.259038   \n",
       "4          0.520940     1.442801        0.724532   0.206791   \n",
       "...             ...          ...             ...        ...   \n",
       "4081       0.602851     0.951412        1.203831   0.019723   \n",
       "4082       0.945735     1.123013        1.683702   0.174647   \n",
       "4083       1.356197     0.112090        0.756231   0.655042   \n",
       "4084       0.272088     0.824626        0.335930   0.361371   \n",
       "4085       0.047123     0.501560        0.468006   0.178758   \n",
       "\n",
       "      free sulfur dioxide  total sulfur dioxide   density        pH  \\\n",
       "0                0.097407              0.325014  0.680822  1.171718   \n",
       "1                1.228896              1.211403  0.139047  0.800171   \n",
       "2                0.541297              0.942436  0.247133  0.414827   \n",
       "3                0.714994              1.075288  0.789580  1.058087   \n",
       "4                0.097407              0.325014  0.680822  1.171718   \n",
       "...                   ...                   ...       ...       ...   \n",
       "4081             0.525073              0.637167  0.950808  0.751890   \n",
       "4082             0.943949              0.896260  0.235530  0.873790   \n",
       "4083             0.782339              0.370903  1.824377  0.766327   \n",
       "4084             0.489934              0.759793  1.536157  0.762798   \n",
       "4085             0.396541              0.694873  2.046706  0.793157   \n",
       "\n",
       "      sulphates   alcohol  \n",
       "0      0.628369  1.231204  \n",
       "1      0.322543  0.768008  \n",
       "2      0.112031  0.768008  \n",
       "3      0.448131  0.768008  \n",
       "4      0.628369  1.231204  \n",
       "...         ...       ...  \n",
       "4081   0.509771  1.834762  \n",
       "4082   1.355907  1.207281  \n",
       "4083   0.561934  1.443959  \n",
       "4084   0.470735  1.582923  \n",
       "4085   0.569467  1.784046  \n",
       "\n",
       "[4086 rows x 10 columns]"
      ]
     },
     "execution_count": 52,
     "metadata": {},
     "output_type": "execute_result"
    }
   ],
   "source": [
    "from scipy.stats import zscore\n",
    "zscore=np.abs(zscore(dfx))\n",
    "zscore"
   ]
  },
  {
   "cell_type": "code",
   "execution_count": 53,
   "id": "0d610c9a",
   "metadata": {},
   "outputs": [
    {
     "data": {
      "text/html": [
       "<div>\n",
       "<style scoped>\n",
       "    .dataframe tbody tr th:only-of-type {\n",
       "        vertical-align: middle;\n",
       "    }\n",
       "\n",
       "    .dataframe tbody tr th {\n",
       "        vertical-align: top;\n",
       "    }\n",
       "\n",
       "    .dataframe thead th {\n",
       "        text-align: right;\n",
       "    }\n",
       "</style>\n",
       "<table border=\"1\" class=\"dataframe\">\n",
       "  <thead>\n",
       "    <tr style=\"text-align: right;\">\n",
       "      <th></th>\n",
       "      <th>fixed acidity</th>\n",
       "      <th>citric acid</th>\n",
       "      <th>residual sugar</th>\n",
       "      <th>chlorides</th>\n",
       "      <th>free sulfur dioxide</th>\n",
       "      <th>total sulfur dioxide</th>\n",
       "      <th>density</th>\n",
       "      <th>pH</th>\n",
       "      <th>sulphates</th>\n",
       "      <th>alcohol</th>\n",
       "    </tr>\n",
       "  </thead>\n",
       "  <tbody>\n",
       "    <tr>\n",
       "      <th>0</th>\n",
       "      <td>-0.520940</td>\n",
       "      <td>-1.442801</td>\n",
       "      <td>-0.724532</td>\n",
       "      <td>-0.206791</td>\n",
       "      <td>0.097407</td>\n",
       "      <td>0.325014</td>\n",
       "      <td>0.680822</td>\n",
       "      <td>1.171718</td>\n",
       "      <td>-0.628369</td>\n",
       "      <td>-1.231204</td>\n",
       "    </tr>\n",
       "    <tr>\n",
       "      <th>1</th>\n",
       "      <td>-0.237426</td>\n",
       "      <td>-1.442801</td>\n",
       "      <td>0.413035</td>\n",
       "      <td>0.718126</td>\n",
       "      <td>1.228896</td>\n",
       "      <td>1.211403</td>\n",
       "      <td>0.139047</td>\n",
       "      <td>-0.800171</td>\n",
       "      <td>0.322543</td>\n",
       "      <td>-0.768008</td>\n",
       "    </tr>\n",
       "    <tr>\n",
       "      <th>2</th>\n",
       "      <td>-0.237426</td>\n",
       "      <td>-1.183402</td>\n",
       "      <td>0.009002</td>\n",
       "      <td>0.503763</td>\n",
       "      <td>0.541297</td>\n",
       "      <td>0.942436</td>\n",
       "      <td>0.247133</td>\n",
       "      <td>-0.414827</td>\n",
       "      <td>0.112031</td>\n",
       "      <td>-0.768008</td>\n",
       "    </tr>\n",
       "    <tr>\n",
       "      <th>3</th>\n",
       "      <td>1.563864</td>\n",
       "      <td>1.325185</td>\n",
       "      <td>-0.724532</td>\n",
       "      <td>-0.259038</td>\n",
       "      <td>0.714994</td>\n",
       "      <td>1.075288</td>\n",
       "      <td>0.789580</td>\n",
       "      <td>-1.058087</td>\n",
       "      <td>-0.448131</td>\n",
       "      <td>-0.768008</td>\n",
       "    </tr>\n",
       "    <tr>\n",
       "      <th>4</th>\n",
       "      <td>-0.520940</td>\n",
       "      <td>-1.442801</td>\n",
       "      <td>-0.724532</td>\n",
       "      <td>-0.206791</td>\n",
       "      <td>0.097407</td>\n",
       "      <td>0.325014</td>\n",
       "      <td>0.680822</td>\n",
       "      <td>1.171718</td>\n",
       "      <td>-0.628369</td>\n",
       "      <td>-1.231204</td>\n",
       "    </tr>\n",
       "    <tr>\n",
       "      <th>...</th>\n",
       "      <td>...</td>\n",
       "      <td>...</td>\n",
       "      <td>...</td>\n",
       "      <td>...</td>\n",
       "      <td>...</td>\n",
       "      <td>...</td>\n",
       "      <td>...</td>\n",
       "      <td>...</td>\n",
       "      <td>...</td>\n",
       "      <td>...</td>\n",
       "    </tr>\n",
       "    <tr>\n",
       "      <th>4081</th>\n",
       "      <td>0.602851</td>\n",
       "      <td>0.951412</td>\n",
       "      <td>1.203831</td>\n",
       "      <td>-0.019723</td>\n",
       "      <td>-0.525073</td>\n",
       "      <td>-0.637167</td>\n",
       "      <td>-0.950808</td>\n",
       "      <td>-0.751890</td>\n",
       "      <td>0.509771</td>\n",
       "      <td>1.834762</td>\n",
       "    </tr>\n",
       "    <tr>\n",
       "      <th>4082</th>\n",
       "      <td>0.945735</td>\n",
       "      <td>1.123013</td>\n",
       "      <td>1.683702</td>\n",
       "      <td>-0.174647</td>\n",
       "      <td>-0.943949</td>\n",
       "      <td>-0.896260</td>\n",
       "      <td>0.235530</td>\n",
       "      <td>-0.873790</td>\n",
       "      <td>1.355907</td>\n",
       "      <td>1.207281</td>\n",
       "    </tr>\n",
       "    <tr>\n",
       "      <th>4083</th>\n",
       "      <td>-1.356197</td>\n",
       "      <td>0.112090</td>\n",
       "      <td>-0.756231</td>\n",
       "      <td>-0.655042</td>\n",
       "      <td>0.782339</td>\n",
       "      <td>0.370903</td>\n",
       "      <td>-1.824377</td>\n",
       "      <td>0.766327</td>\n",
       "      <td>0.561934</td>\n",
       "      <td>1.443959</td>\n",
       "    </tr>\n",
       "    <tr>\n",
       "      <th>4084</th>\n",
       "      <td>0.272088</td>\n",
       "      <td>0.824626</td>\n",
       "      <td>-0.335930</td>\n",
       "      <td>-0.361371</td>\n",
       "      <td>-0.489934</td>\n",
       "      <td>-0.759793</td>\n",
       "      <td>-1.536157</td>\n",
       "      <td>-0.762798</td>\n",
       "      <td>0.470735</td>\n",
       "      <td>1.582923</td>\n",
       "    </tr>\n",
       "    <tr>\n",
       "      <th>4085</th>\n",
       "      <td>-0.047123</td>\n",
       "      <td>0.501560</td>\n",
       "      <td>0.468006</td>\n",
       "      <td>-0.178758</td>\n",
       "      <td>-0.396541</td>\n",
       "      <td>-0.694873</td>\n",
       "      <td>-2.046706</td>\n",
       "      <td>-0.793157</td>\n",
       "      <td>0.569467</td>\n",
       "      <td>1.784046</td>\n",
       "    </tr>\n",
       "  </tbody>\n",
       "</table>\n",
       "<p>4000 rows × 10 columns</p>\n",
       "</div>"
      ],
      "text/plain": [
       "      fixed acidity  citric acid  residual sugar  chlorides  \\\n",
       "0         -0.520940    -1.442801       -0.724532  -0.206791   \n",
       "1         -0.237426    -1.442801        0.413035   0.718126   \n",
       "2         -0.237426    -1.183402        0.009002   0.503763   \n",
       "3          1.563864     1.325185       -0.724532  -0.259038   \n",
       "4         -0.520940    -1.442801       -0.724532  -0.206791   \n",
       "...             ...          ...             ...        ...   \n",
       "4081       0.602851     0.951412        1.203831  -0.019723   \n",
       "4082       0.945735     1.123013        1.683702  -0.174647   \n",
       "4083      -1.356197     0.112090       -0.756231  -0.655042   \n",
       "4084       0.272088     0.824626       -0.335930  -0.361371   \n",
       "4085      -0.047123     0.501560        0.468006  -0.178758   \n",
       "\n",
       "      free sulfur dioxide  total sulfur dioxide   density        pH  \\\n",
       "0                0.097407              0.325014  0.680822  1.171718   \n",
       "1                1.228896              1.211403  0.139047 -0.800171   \n",
       "2                0.541297              0.942436  0.247133 -0.414827   \n",
       "3                0.714994              1.075288  0.789580 -1.058087   \n",
       "4                0.097407              0.325014  0.680822  1.171718   \n",
       "...                   ...                   ...       ...       ...   \n",
       "4081            -0.525073             -0.637167 -0.950808 -0.751890   \n",
       "4082            -0.943949             -0.896260  0.235530 -0.873790   \n",
       "4083             0.782339              0.370903 -1.824377  0.766327   \n",
       "4084            -0.489934             -0.759793 -1.536157 -0.762798   \n",
       "4085            -0.396541             -0.694873 -2.046706 -0.793157   \n",
       "\n",
       "      sulphates   alcohol  \n",
       "0     -0.628369 -1.231204  \n",
       "1      0.322543 -0.768008  \n",
       "2      0.112031 -0.768008  \n",
       "3     -0.448131 -0.768008  \n",
       "4     -0.628369 -1.231204  \n",
       "...         ...       ...  \n",
       "4081   0.509771  1.834762  \n",
       "4082   1.355907  1.207281  \n",
       "4083   0.561934  1.443959  \n",
       "4084   0.470735  1.582923  \n",
       "4085   0.569467  1.784046  \n",
       "\n",
       "[4000 rows x 10 columns]"
      ]
     },
     "execution_count": 53,
     "metadata": {},
     "output_type": "execute_result"
    }
   ],
   "source": [
    "xnew=dfx[(zscore<3).all(axis=1)]\n",
    "xnew"
   ]
  },
  {
   "cell_type": "code",
   "execution_count": 54,
   "id": "5b80e702",
   "metadata": {},
   "outputs": [
    {
     "data": {
      "text/plain": [
       "(1599, 10)"
      ]
     },
     "execution_count": 54,
     "metadata": {},
     "output_type": "execute_result"
    }
   ],
   "source": [
    "x.shape"
   ]
  },
  {
   "cell_type": "code",
   "execution_count": 55,
   "id": "66875cd8",
   "metadata": {},
   "outputs": [
    {
     "data": {
      "text/plain": [
       "(4000, 10)"
      ]
     },
     "execution_count": 55,
     "metadata": {},
     "output_type": "execute_result"
    }
   ],
   "source": [
    "xnew.shape"
   ]
  },
  {
   "cell_type": "code",
   "execution_count": 56,
   "id": "f384d185",
   "metadata": {},
   "outputs": [
    {
     "data": {
      "text/plain": [
       "0       5\n",
       "1       5\n",
       "2       5\n",
       "3       6\n",
       "4       5\n",
       "       ..\n",
       "4081    8\n",
       "4082    8\n",
       "4083    8\n",
       "4084    8\n",
       "4085    8\n",
       "Name: quality, Length: 4000, dtype: int64"
      ]
     },
     "execution_count": 56,
     "metadata": {},
     "output_type": "execute_result"
    }
   ],
   "source": [
    "ynew=newy[(zscore<3).all(axis=1)]\n",
    "ynew"
   ]
  },
  {
   "cell_type": "code",
   "execution_count": 57,
   "id": "010b9dce",
   "metadata": {},
   "outputs": [
    {
     "data": {
      "text/plain": [
       "(1599,)"
      ]
     },
     "execution_count": 57,
     "metadata": {},
     "output_type": "execute_result"
    }
   ],
   "source": [
    "y.shape"
   ]
  },
  {
   "cell_type": "code",
   "execution_count": 58,
   "id": "c7302645",
   "metadata": {},
   "outputs": [
    {
     "data": {
      "text/plain": [
       "(4000,)"
      ]
     },
     "execution_count": 58,
     "metadata": {},
     "output_type": "execute_result"
    }
   ],
   "source": [
    "ynew.shape"
   ]
  },
  {
   "cell_type": "code",
   "execution_count": 59,
   "id": "77f6ea76",
   "metadata": {},
   "outputs": [
    {
     "data": {
      "text/plain": [
       "array([[-0.52991443, -1.44811848, -0.74062333, ...,  1.20576024,\n",
       "        -0.64540254, -1.24008961],\n",
       "       [-0.24014502, -1.44811848,  0.42235552, ..., -0.8466502 ,\n",
       "         0.33742201, -0.7735538 ],\n",
       "       [-0.24014502, -1.18570188,  0.00929661, ..., -0.44557079,\n",
       "         0.11984497, -0.7735538 ],\n",
       "       ...,\n",
       "       [-1.38360252,  0.12486228, -0.77302999, ...,  0.78381536,\n",
       "         0.58484671,  1.45435935],\n",
       "       [ 0.28061228,  0.84568762, -0.3433404 , ..., -0.8077513 ,\n",
       "         0.49058735,  1.59432524],\n",
       "       [-0.04564265,  0.51886265,  0.47855503, ..., -0.83934962,\n",
       "         0.59263243,  1.79689822]])"
      ]
     },
     "execution_count": 59,
     "metadata": {},
     "output_type": "execute_result"
    }
   ],
   "source": [
    "from sklearn.preprocessing import StandardScaler \n",
    "ss=StandardScaler()\n",
    "xnew_=ss.fit_transform(xnew)\n",
    "xnew_"
   ]
  },
  {
   "cell_type": "code",
   "execution_count": 60,
   "id": "91ac7fd7",
   "metadata": {},
   "outputs": [
    {
     "data": {
      "text/plain": [
       "5    681\n",
       "6    681\n",
       "7    681\n",
       "4    681\n",
       "8    681\n",
       "3    681\n",
       "Name: quality, dtype: int64"
      ]
     },
     "execution_count": 60,
     "metadata": {},
     "output_type": "execute_result"
    }
   ],
   "source": [
    "newy.value_counts()"
   ]
  },
  {
   "cell_type": "code",
   "execution_count": 61,
   "id": "9e6b0a6b",
   "metadata": {},
   "outputs": [
    {
     "data": {
      "text/plain": [
       "(4000, 10)"
      ]
     },
     "execution_count": 61,
     "metadata": {},
     "output_type": "execute_result"
    }
   ],
   "source": [
    "xnew_.shape"
   ]
  },
  {
   "cell_type": "code",
   "execution_count": 62,
   "id": "65937f37",
   "metadata": {},
   "outputs": [],
   "source": [
    "from sklearn.linear_model import LogisticRegression\n",
    "from sklearn.metrics import accuracy_score\n",
    "from sklearn.model_selection import train_test_split"
   ]
  },
  {
   "cell_type": "code",
   "execution_count": 63,
   "id": "e37a4640",
   "metadata": {},
   "outputs": [],
   "source": [
    "lr=LogisticRegression()"
   ]
  },
  {
   "cell_type": "code",
   "execution_count": 64,
   "id": "55f720ac",
   "metadata": {},
   "outputs": [
    {
     "name": "stdout",
     "output_type": "stream",
     "text": [
      "At random_state,  15  the model performs very well\n",
      "At random_state :  15\n",
      "Training_accuracy :  56.84375000000001\n",
      "Testing accuracy :  56.75\n",
      "At random_state,  130  the model performs very well\n",
      "At random_state :  130\n",
      "Training_accuracy :  57.1875\n",
      "Testing accuracy :  57.25\n",
      "At random_state,  142  the model performs very well\n",
      "At random_state :  142\n",
      "Training_accuracy :  57.125\n",
      "Testing accuracy :  57.125\n",
      "At random_state,  148  the model performs very well\n",
      "At random_state :  148\n",
      "Training_accuracy :  57.06250000000001\n",
      "Testing accuracy :  57.125\n",
      "At random_state,  247  the model performs very well\n",
      "At random_state :  247\n",
      "Training_accuracy :  57.8125\n",
      "Testing accuracy :  57.75\n",
      "At random_state,  323  the model performs very well\n",
      "At random_state :  323\n",
      "Training_accuracy :  56.75\n",
      "Testing accuracy :  56.75\n",
      "At random_state,  415  the model performs very well\n",
      "At random_state :  415\n",
      "Training_accuracy :  57.15625\n",
      "Testing accuracy :  57.25\n",
      "At random_state,  465  the model performs very well\n",
      "At random_state :  465\n",
      "Training_accuracy :  56.90625\n",
      "Testing accuracy :  56.875\n",
      "At random_state,  504  the model performs very well\n",
      "At random_state :  504\n",
      "Training_accuracy :  57.1875\n",
      "Testing accuracy :  57.25\n",
      "At random_state,  554  the model performs very well\n",
      "At random_state :  554\n",
      "Training_accuracy :  57.46875\n",
      "Testing accuracy :  57.49999999999999\n",
      "At random_state,  633  the model performs very well\n",
      "At random_state :  633\n",
      "Training_accuracy :  57.53125\n",
      "Testing accuracy :  57.49999999999999\n",
      "At random_state,  831  the model performs very well\n",
      "At random_state :  831\n",
      "Training_accuracy :  58.53125\n",
      "Testing accuracy :  58.5\n",
      "At random_state,  860  the model performs very well\n",
      "At random_state :  860\n",
      "Training_accuracy :  57.375\n",
      "Testing accuracy :  57.375\n",
      "At random_state,  872  the model performs very well\n",
      "At random_state :  872\n",
      "Training_accuracy :  57.4375\n",
      "Testing accuracy :  57.375\n",
      "At random_state,  930  the model performs very well\n",
      "At random_state :  930\n",
      "Training_accuracy :  57.8125\n",
      "Testing accuracy :  57.75\n"
     ]
    }
   ],
   "source": [
    "for i in range(0,1000):\n",
    "    x_train,x_test,y_train,y_test=train_test_split(xnew_,ynew,test_size=0.20,random_state=i)\n",
    "    lr.fit(x_train,y_train)\n",
    "    pred_train=lr.predict(x_train)\n",
    "    pred_test=lr.predict(x_test)\n",
    "    if round(accuracy_score(y_train,pred_train)*100,1)==round(accuracy_score(y_test,pred_test)*100,1):\n",
    "        print('At random_state, ' , i ,' the model performs very well')\n",
    "        print('At random_state : ' , i )\n",
    "        print('Training_accuracy : ' ,accuracy_score(y_train,pred_train)*100)\n",
    "        print('Testing accuracy : ',accuracy_score(y_test,pred_test)*100)"
   ]
  },
  {
   "cell_type": "code",
   "execution_count": 65,
   "id": "d112b13c",
   "metadata": {},
   "outputs": [
    {
     "name": "stdout",
     "output_type": "stream",
     "text": [
      "56.375\n"
     ]
    }
   ],
   "source": [
    "x_train,x_test,y_train,y_test=train_test_split(xnew_,ynew,test_size=0.20,random_state=968)\n",
    "lr.fit(x_train,y_train)\n",
    "predlr=lr.predict(x_test)\n",
    "print(accuracy_score(y_test,predlr)*100)"
   ]
  },
  {
   "cell_type": "code",
   "execution_count": 66,
   "id": "97e7210a",
   "metadata": {},
   "outputs": [],
   "source": [
    "from sklearn.tree import DecisionTreeClassifier\n",
    "from sklearn.ensemble import RandomForestClassifier\n",
    "from sklearn.svm import SVC"
   ]
  },
  {
   "cell_type": "code",
   "execution_count": 67,
   "id": "511d3dec",
   "metadata": {},
   "outputs": [
    {
     "name": "stdout",
     "output_type": "stream",
     "text": [
      "0.7925\n",
      "Random_state:  gini\n",
      "0.7975\n",
      "Random_state:  entropy\n",
      "0.79\n",
      "Random_state:  log_loss\n"
     ]
    }
   ],
   "source": [
    "criterion=['gini','entropy','log_loss']\n",
    " \n",
    "for i in criterion:\n",
    "    dtc=DecisionTreeClassifier(criterion=i)\n",
    "    dtc.fit(x_train,y_train)\n",
    "    preddtc=dtc.predict(x_test)\n",
    "    print(accuracy_score(y_test,preddtc))\n",
    "    print('Random_state: ' ,i)    "
   ]
  },
  {
   "cell_type": "code",
   "execution_count": 68,
   "id": "d7eafc29",
   "metadata": {},
   "outputs": [
    {
     "data": {
      "text/html": [
       "<style>#sk-container-id-1 {color: black;background-color: white;}#sk-container-id-1 pre{padding: 0;}#sk-container-id-1 div.sk-toggleable {background-color: white;}#sk-container-id-1 label.sk-toggleable__label {cursor: pointer;display: block;width: 100%;margin-bottom: 0;padding: 0.3em;box-sizing: border-box;text-align: center;}#sk-container-id-1 label.sk-toggleable__label-arrow:before {content: \"▸\";float: left;margin-right: 0.25em;color: #696969;}#sk-container-id-1 label.sk-toggleable__label-arrow:hover:before {color: black;}#sk-container-id-1 div.sk-estimator:hover label.sk-toggleable__label-arrow:before {color: black;}#sk-container-id-1 div.sk-toggleable__content {max-height: 0;max-width: 0;overflow: hidden;text-align: left;background-color: #f0f8ff;}#sk-container-id-1 div.sk-toggleable__content pre {margin: 0.2em;color: black;border-radius: 0.25em;background-color: #f0f8ff;}#sk-container-id-1 input.sk-toggleable__control:checked~div.sk-toggleable__content {max-height: 200px;max-width: 100%;overflow: auto;}#sk-container-id-1 input.sk-toggleable__control:checked~label.sk-toggleable__label-arrow:before {content: \"▾\";}#sk-container-id-1 div.sk-estimator input.sk-toggleable__control:checked~label.sk-toggleable__label {background-color: #d4ebff;}#sk-container-id-1 div.sk-label input.sk-toggleable__control:checked~label.sk-toggleable__label {background-color: #d4ebff;}#sk-container-id-1 input.sk-hidden--visually {border: 0;clip: rect(1px 1px 1px 1px);clip: rect(1px, 1px, 1px, 1px);height: 1px;margin: -1px;overflow: hidden;padding: 0;position: absolute;width: 1px;}#sk-container-id-1 div.sk-estimator {font-family: monospace;background-color: #f0f8ff;border: 1px dotted black;border-radius: 0.25em;box-sizing: border-box;margin-bottom: 0.5em;}#sk-container-id-1 div.sk-estimator:hover {background-color: #d4ebff;}#sk-container-id-1 div.sk-parallel-item::after {content: \"\";width: 100%;border-bottom: 1px solid gray;flex-grow: 1;}#sk-container-id-1 div.sk-label:hover label.sk-toggleable__label {background-color: #d4ebff;}#sk-container-id-1 div.sk-serial::before {content: \"\";position: absolute;border-left: 1px solid gray;box-sizing: border-box;top: 0;bottom: 0;left: 50%;z-index: 0;}#sk-container-id-1 div.sk-serial {display: flex;flex-direction: column;align-items: center;background-color: white;padding-right: 0.2em;padding-left: 0.2em;position: relative;}#sk-container-id-1 div.sk-item {position: relative;z-index: 1;}#sk-container-id-1 div.sk-parallel {display: flex;align-items: stretch;justify-content: center;background-color: white;position: relative;}#sk-container-id-1 div.sk-item::before, #sk-container-id-1 div.sk-parallel-item::before {content: \"\";position: absolute;border-left: 1px solid gray;box-sizing: border-box;top: 0;bottom: 0;left: 50%;z-index: -1;}#sk-container-id-1 div.sk-parallel-item {display: flex;flex-direction: column;z-index: 1;position: relative;background-color: white;}#sk-container-id-1 div.sk-parallel-item:first-child::after {align-self: flex-end;width: 50%;}#sk-container-id-1 div.sk-parallel-item:last-child::after {align-self: flex-start;width: 50%;}#sk-container-id-1 div.sk-parallel-item:only-child::after {width: 0;}#sk-container-id-1 div.sk-dashed-wrapped {border: 1px dashed gray;margin: 0 0.4em 0.5em 0.4em;box-sizing: border-box;padding-bottom: 0.4em;background-color: white;}#sk-container-id-1 div.sk-label label {font-family: monospace;font-weight: bold;display: inline-block;line-height: 1.2em;}#sk-container-id-1 div.sk-label-container {text-align: center;}#sk-container-id-1 div.sk-container {/* jupyter's `normalize.less` sets `[hidden] { display: none; }` but bootstrap.min.css set `[hidden] { display: none !important; }` so we also need the `!important` here to be able to override the default hidden behavior on the sphinx rendered scikit-learn.org. See: https://github.com/scikit-learn/scikit-learn/issues/21755 */display: inline-block !important;position: relative;}#sk-container-id-1 div.sk-text-repr-fallback {display: none;}</style><div id=\"sk-container-id-1\" class=\"sk-top-container\"><div class=\"sk-text-repr-fallback\"><pre>DecisionTreeClassifier()</pre><b>In a Jupyter environment, please rerun this cell to show the HTML representation or trust the notebook. <br />On GitHub, the HTML representation is unable to render, please try loading this page with nbviewer.org.</b></div><div class=\"sk-container\" hidden><div class=\"sk-item\"><div class=\"sk-estimator sk-toggleable\"><input class=\"sk-toggleable__control sk-hidden--visually\" id=\"sk-estimator-id-1\" type=\"checkbox\" checked><label for=\"sk-estimator-id-1\" class=\"sk-toggleable__label sk-toggleable__label-arrow\">DecisionTreeClassifier</label><div class=\"sk-toggleable__content\"><pre>DecisionTreeClassifier()</pre></div></div></div></div></div>"
      ],
      "text/plain": [
       "DecisionTreeClassifier()"
      ]
     },
     "execution_count": 68,
     "metadata": {},
     "output_type": "execute_result"
    }
   ],
   "source": [
    "dtc1=DecisionTreeClassifier(criterion='gini')\n",
    "dtc1.fit(x_train,y_train)"
   ]
  },
  {
   "cell_type": "code",
   "execution_count": 69,
   "id": "519a1ec1",
   "metadata": {},
   "outputs": [
    {
     "name": "stdout",
     "output_type": "stream",
     "text": [
      "0.7875\n"
     ]
    }
   ],
   "source": [
    "preddtc1=dtc1.predict(x_test)\n",
    "print(accuracy_score(y_test,preddtc1))"
   ]
  },
  {
   "cell_type": "code",
   "execution_count": 70,
   "id": "1dac5455",
   "metadata": {},
   "outputs": [
    {
     "name": "stdout",
     "output_type": "stream",
     "text": [
      "0.86\n",
      "0.87375\n",
      "0.87625\n"
     ]
    }
   ],
   "source": [
    "n_estimators=[100,150,200]\n",
    "for i in n_estimators:\n",
    "    rfc=RandomForestClassifier(n_estimators=i)\n",
    "    rfc.fit(x_train,y_train)\n",
    "    predrfc=rfc.predict(x_test)\n",
    "    print(accuracy_score(y_test,predrfc))"
   ]
  },
  {
   "cell_type": "code",
   "execution_count": 71,
   "id": "a3cc6df3",
   "metadata": {},
   "outputs": [
    {
     "data": {
      "text/html": [
       "<style>#sk-container-id-2 {color: black;background-color: white;}#sk-container-id-2 pre{padding: 0;}#sk-container-id-2 div.sk-toggleable {background-color: white;}#sk-container-id-2 label.sk-toggleable__label {cursor: pointer;display: block;width: 100%;margin-bottom: 0;padding: 0.3em;box-sizing: border-box;text-align: center;}#sk-container-id-2 label.sk-toggleable__label-arrow:before {content: \"▸\";float: left;margin-right: 0.25em;color: #696969;}#sk-container-id-2 label.sk-toggleable__label-arrow:hover:before {color: black;}#sk-container-id-2 div.sk-estimator:hover label.sk-toggleable__label-arrow:before {color: black;}#sk-container-id-2 div.sk-toggleable__content {max-height: 0;max-width: 0;overflow: hidden;text-align: left;background-color: #f0f8ff;}#sk-container-id-2 div.sk-toggleable__content pre {margin: 0.2em;color: black;border-radius: 0.25em;background-color: #f0f8ff;}#sk-container-id-2 input.sk-toggleable__control:checked~div.sk-toggleable__content {max-height: 200px;max-width: 100%;overflow: auto;}#sk-container-id-2 input.sk-toggleable__control:checked~label.sk-toggleable__label-arrow:before {content: \"▾\";}#sk-container-id-2 div.sk-estimator input.sk-toggleable__control:checked~label.sk-toggleable__label {background-color: #d4ebff;}#sk-container-id-2 div.sk-label input.sk-toggleable__control:checked~label.sk-toggleable__label {background-color: #d4ebff;}#sk-container-id-2 input.sk-hidden--visually {border: 0;clip: rect(1px 1px 1px 1px);clip: rect(1px, 1px, 1px, 1px);height: 1px;margin: -1px;overflow: hidden;padding: 0;position: absolute;width: 1px;}#sk-container-id-2 div.sk-estimator {font-family: monospace;background-color: #f0f8ff;border: 1px dotted black;border-radius: 0.25em;box-sizing: border-box;margin-bottom: 0.5em;}#sk-container-id-2 div.sk-estimator:hover {background-color: #d4ebff;}#sk-container-id-2 div.sk-parallel-item::after {content: \"\";width: 100%;border-bottom: 1px solid gray;flex-grow: 1;}#sk-container-id-2 div.sk-label:hover label.sk-toggleable__label {background-color: #d4ebff;}#sk-container-id-2 div.sk-serial::before {content: \"\";position: absolute;border-left: 1px solid gray;box-sizing: border-box;top: 0;bottom: 0;left: 50%;z-index: 0;}#sk-container-id-2 div.sk-serial {display: flex;flex-direction: column;align-items: center;background-color: white;padding-right: 0.2em;padding-left: 0.2em;position: relative;}#sk-container-id-2 div.sk-item {position: relative;z-index: 1;}#sk-container-id-2 div.sk-parallel {display: flex;align-items: stretch;justify-content: center;background-color: white;position: relative;}#sk-container-id-2 div.sk-item::before, #sk-container-id-2 div.sk-parallel-item::before {content: \"\";position: absolute;border-left: 1px solid gray;box-sizing: border-box;top: 0;bottom: 0;left: 50%;z-index: -1;}#sk-container-id-2 div.sk-parallel-item {display: flex;flex-direction: column;z-index: 1;position: relative;background-color: white;}#sk-container-id-2 div.sk-parallel-item:first-child::after {align-self: flex-end;width: 50%;}#sk-container-id-2 div.sk-parallel-item:last-child::after {align-self: flex-start;width: 50%;}#sk-container-id-2 div.sk-parallel-item:only-child::after {width: 0;}#sk-container-id-2 div.sk-dashed-wrapped {border: 1px dashed gray;margin: 0 0.4em 0.5em 0.4em;box-sizing: border-box;padding-bottom: 0.4em;background-color: white;}#sk-container-id-2 div.sk-label label {font-family: monospace;font-weight: bold;display: inline-block;line-height: 1.2em;}#sk-container-id-2 div.sk-label-container {text-align: center;}#sk-container-id-2 div.sk-container {/* jupyter's `normalize.less` sets `[hidden] { display: none; }` but bootstrap.min.css set `[hidden] { display: none !important; }` so we also need the `!important` here to be able to override the default hidden behavior on the sphinx rendered scikit-learn.org. See: https://github.com/scikit-learn/scikit-learn/issues/21755 */display: inline-block !important;position: relative;}#sk-container-id-2 div.sk-text-repr-fallback {display: none;}</style><div id=\"sk-container-id-2\" class=\"sk-top-container\"><div class=\"sk-text-repr-fallback\"><pre>RandomForestClassifier(n_estimators=150)</pre><b>In a Jupyter environment, please rerun this cell to show the HTML representation or trust the notebook. <br />On GitHub, the HTML representation is unable to render, please try loading this page with nbviewer.org.</b></div><div class=\"sk-container\" hidden><div class=\"sk-item\"><div class=\"sk-estimator sk-toggleable\"><input class=\"sk-toggleable__control sk-hidden--visually\" id=\"sk-estimator-id-2\" type=\"checkbox\" checked><label for=\"sk-estimator-id-2\" class=\"sk-toggleable__label sk-toggleable__label-arrow\">RandomForestClassifier</label><div class=\"sk-toggleable__content\"><pre>RandomForestClassifier(n_estimators=150)</pre></div></div></div></div></div>"
      ],
      "text/plain": [
       "RandomForestClassifier(n_estimators=150)"
      ]
     },
     "execution_count": 71,
     "metadata": {},
     "output_type": "execute_result"
    }
   ],
   "source": [
    "rfc1=RandomForestClassifier(n_estimators=150)\n",
    "rfc1.fit(x_train,y_train)"
   ]
  },
  {
   "cell_type": "code",
   "execution_count": 72,
   "id": "e6b8f036",
   "metadata": {},
   "outputs": [
    {
     "name": "stdout",
     "output_type": "stream",
     "text": [
      "0.8725\n"
     ]
    }
   ],
   "source": [
    "predrfc1=rfc1.predict(x_test)\n",
    "print(accuracy_score(y_test,predrfc1))"
   ]
  },
  {
   "cell_type": "code",
   "execution_count": 73,
   "id": "007f3a06",
   "metadata": {},
   "outputs": [
    {
     "name": "stdout",
     "output_type": "stream",
     "text": [
      "0.7575\n",
      "0.6\n",
      "0.72875\n"
     ]
    }
   ],
   "source": [
    "kernel=['rbf','linear','poly']\n",
    "for i in kernel:\n",
    "    svc=SVC(kernel=i)\n",
    "    svc.fit(x_train,y_train)\n",
    "    predsvc=svc.predict(x_test)\n",
    "    print(accuracy_score(y_test,predsvc))"
   ]
  },
  {
   "cell_type": "code",
   "execution_count": 74,
   "id": "9743c7a7",
   "metadata": {},
   "outputs": [
    {
     "data": {
      "text/html": [
       "<style>#sk-container-id-3 {color: black;background-color: white;}#sk-container-id-3 pre{padding: 0;}#sk-container-id-3 div.sk-toggleable {background-color: white;}#sk-container-id-3 label.sk-toggleable__label {cursor: pointer;display: block;width: 100%;margin-bottom: 0;padding: 0.3em;box-sizing: border-box;text-align: center;}#sk-container-id-3 label.sk-toggleable__label-arrow:before {content: \"▸\";float: left;margin-right: 0.25em;color: #696969;}#sk-container-id-3 label.sk-toggleable__label-arrow:hover:before {color: black;}#sk-container-id-3 div.sk-estimator:hover label.sk-toggleable__label-arrow:before {color: black;}#sk-container-id-3 div.sk-toggleable__content {max-height: 0;max-width: 0;overflow: hidden;text-align: left;background-color: #f0f8ff;}#sk-container-id-3 div.sk-toggleable__content pre {margin: 0.2em;color: black;border-radius: 0.25em;background-color: #f0f8ff;}#sk-container-id-3 input.sk-toggleable__control:checked~div.sk-toggleable__content {max-height: 200px;max-width: 100%;overflow: auto;}#sk-container-id-3 input.sk-toggleable__control:checked~label.sk-toggleable__label-arrow:before {content: \"▾\";}#sk-container-id-3 div.sk-estimator input.sk-toggleable__control:checked~label.sk-toggleable__label {background-color: #d4ebff;}#sk-container-id-3 div.sk-label input.sk-toggleable__control:checked~label.sk-toggleable__label {background-color: #d4ebff;}#sk-container-id-3 input.sk-hidden--visually {border: 0;clip: rect(1px 1px 1px 1px);clip: rect(1px, 1px, 1px, 1px);height: 1px;margin: -1px;overflow: hidden;padding: 0;position: absolute;width: 1px;}#sk-container-id-3 div.sk-estimator {font-family: monospace;background-color: #f0f8ff;border: 1px dotted black;border-radius: 0.25em;box-sizing: border-box;margin-bottom: 0.5em;}#sk-container-id-3 div.sk-estimator:hover {background-color: #d4ebff;}#sk-container-id-3 div.sk-parallel-item::after {content: \"\";width: 100%;border-bottom: 1px solid gray;flex-grow: 1;}#sk-container-id-3 div.sk-label:hover label.sk-toggleable__label {background-color: #d4ebff;}#sk-container-id-3 div.sk-serial::before {content: \"\";position: absolute;border-left: 1px solid gray;box-sizing: border-box;top: 0;bottom: 0;left: 50%;z-index: 0;}#sk-container-id-3 div.sk-serial {display: flex;flex-direction: column;align-items: center;background-color: white;padding-right: 0.2em;padding-left: 0.2em;position: relative;}#sk-container-id-3 div.sk-item {position: relative;z-index: 1;}#sk-container-id-3 div.sk-parallel {display: flex;align-items: stretch;justify-content: center;background-color: white;position: relative;}#sk-container-id-3 div.sk-item::before, #sk-container-id-3 div.sk-parallel-item::before {content: \"\";position: absolute;border-left: 1px solid gray;box-sizing: border-box;top: 0;bottom: 0;left: 50%;z-index: -1;}#sk-container-id-3 div.sk-parallel-item {display: flex;flex-direction: column;z-index: 1;position: relative;background-color: white;}#sk-container-id-3 div.sk-parallel-item:first-child::after {align-self: flex-end;width: 50%;}#sk-container-id-3 div.sk-parallel-item:last-child::after {align-self: flex-start;width: 50%;}#sk-container-id-3 div.sk-parallel-item:only-child::after {width: 0;}#sk-container-id-3 div.sk-dashed-wrapped {border: 1px dashed gray;margin: 0 0.4em 0.5em 0.4em;box-sizing: border-box;padding-bottom: 0.4em;background-color: white;}#sk-container-id-3 div.sk-label label {font-family: monospace;font-weight: bold;display: inline-block;line-height: 1.2em;}#sk-container-id-3 div.sk-label-container {text-align: center;}#sk-container-id-3 div.sk-container {/* jupyter's `normalize.less` sets `[hidden] { display: none; }` but bootstrap.min.css set `[hidden] { display: none !important; }` so we also need the `!important` here to be able to override the default hidden behavior on the sphinx rendered scikit-learn.org. See: https://github.com/scikit-learn/scikit-learn/issues/21755 */display: inline-block !important;position: relative;}#sk-container-id-3 div.sk-text-repr-fallback {display: none;}</style><div id=\"sk-container-id-3\" class=\"sk-top-container\"><div class=\"sk-text-repr-fallback\"><pre>SVC()</pre><b>In a Jupyter environment, please rerun this cell to show the HTML representation or trust the notebook. <br />On GitHub, the HTML representation is unable to render, please try loading this page with nbviewer.org.</b></div><div class=\"sk-container\" hidden><div class=\"sk-item\"><div class=\"sk-estimator sk-toggleable\"><input class=\"sk-toggleable__control sk-hidden--visually\" id=\"sk-estimator-id-3\" type=\"checkbox\" checked><label for=\"sk-estimator-id-3\" class=\"sk-toggleable__label sk-toggleable__label-arrow\">SVC</label><div class=\"sk-toggleable__content\"><pre>SVC()</pre></div></div></div></div></div>"
      ],
      "text/plain": [
       "SVC()"
      ]
     },
     "execution_count": 74,
     "metadata": {},
     "output_type": "execute_result"
    }
   ],
   "source": [
    "svc1=SVC(kernel='rbf')\n",
    "svc1.fit(x_train,y_train)"
   ]
  },
  {
   "cell_type": "code",
   "execution_count": 75,
   "id": "b9d77f78",
   "metadata": {},
   "outputs": [
    {
     "name": "stdout",
     "output_type": "stream",
     "text": [
      "0.7575\n"
     ]
    }
   ],
   "source": [
    "predsvc1=svc1.predict(x_test)\n",
    "print(accuracy_score(y_test,predsvc1))"
   ]
  },
  {
   "cell_type": "code",
   "execution_count": 76,
   "id": "521817ad",
   "metadata": {},
   "outputs": [],
   "source": [
    "from sklearn.model_selection import cross_val_score"
   ]
  },
  {
   "cell_type": "code",
   "execution_count": 77,
   "id": "ac101ddc",
   "metadata": {},
   "outputs": [
    {
     "name": "stdout",
     "output_type": "stream",
     "text": [
      "[0.5455 0.5285]\n",
      "Cross Validation of model Logistic Regression of cv=  2 is: 0.5369999999999999\n",
      "[0.53298351 0.54988747 0.54538635]\n",
      "Cross Validation of model Logistic Regression of cv=  3 is: 0.542752442233497\n",
      "[0.536 0.546 0.572 0.528]\n",
      "Cross Validation of model Logistic Regression of cv=  4 is: 0.5455\n",
      "[0.55    0.54625 0.56875 0.5575  0.52875]\n",
      "Cross Validation of model Logistic Regression of cv=  5 is: 0.55025\n",
      "[0.53523238 0.55622189 0.56221889 0.55922039 0.55555556 0.54654655]\n",
      "Cross Validation of model Logistic Regression of cv=  6 is: 0.5524992758875816\n",
      "[0.54020979 0.55244755 0.54545455 0.57443082 0.56042032 0.54991243\n",
      " 0.54640981]\n",
      "Cross Validation of model Logistic Regression of cv=  7 is: 0.552755038306702\n",
      "[0.524 0.564 0.532 0.566 0.58  0.568 0.552 0.528]\n",
      "Cross Validation of model Logistic Regression of cv=  8 is: 0.55175\n",
      "[0.51011236 0.59550562 0.54157303 0.53483146 0.58108108 0.5472973\n",
      " 0.57657658 0.55405405 0.52927928]\n",
      "Cross Validation of model Logistic Regression of cv=  9 is: 0.5522567511331558\n"
     ]
    }
   ],
   "source": [
    "for i in range(2,10):\n",
    "    cross=cross_val_score(lr,xnew_,ynew,cv=i)\n",
    "    print(cross)\n",
    "    print('Cross Validation of model Logistic Regression of cv= ' ,i ,'is:' , cross.mean())"
   ]
  },
  {
   "cell_type": "code",
   "execution_count": 78,
   "id": "1df8eecc",
   "metadata": {},
   "outputs": [
    {
     "name": "stdout",
     "output_type": "stream",
     "text": [
      "[0.7005 0.6765]\n",
      "Cross Validation of model DecisionTreeClassifier of cv=  2 is: 0.6885\n",
      "[0.69790105 0.73143286 0.7351838 ]\n",
      "Cross Validation of model DecisionTreeClassifier of cv=  3 is: 0.7215059012129345\n",
      "[0.701 0.716 0.736 0.755]\n",
      "Cross Validation of model DecisionTreeClassifier of cv=  4 is: 0.7269999999999999\n",
      "[0.7075  0.73    0.73625 0.73125 0.77   ]\n",
      "Cross Validation of model DecisionTreeClassifier of cv=  5 is: 0.7350000000000001\n",
      "[0.71664168 0.73163418 0.71064468 0.72413793 0.75525526 0.76426426]\n",
      "Cross Validation of model DecisionTreeClassifier of cv=  6 is: 0.7337629983806896\n",
      "[0.6993007  0.73251748 0.70454545 0.73380035 0.73730298 0.74255692\n",
      " 0.75131349]\n",
      "Cross Validation of model DecisionTreeClassifier of cv=  7 is: 0.7287624809516228\n",
      "[0.722 0.768 0.756 0.73  0.768 0.754 0.762 0.756]\n",
      "Cross Validation of model DecisionTreeClassifier of cv=  8 is: 0.752\n",
      "[0.72134831 0.73932584 0.73932584 0.75730337 0.73873874 0.73648649\n",
      " 0.76576577 0.7972973  0.74099099]\n",
      "Cross Validation of model DecisionTreeClassifier of cv=  9 is: 0.7485091833406439\n"
     ]
    }
   ],
   "source": [
    "for i in range(2,10):\n",
    "    cross=cross_val_score(dtc,xnew_,ynew,cv=i)\n",
    "    print(cross)\n",
    "    print('Cross Validation of model DecisionTreeClassifier of cv= ' ,i ,'is:' , cross.mean())"
   ]
  },
  {
   "cell_type": "code",
   "execution_count": 79,
   "id": "ca36863a",
   "metadata": {},
   "outputs": [
    {
     "name": "stdout",
     "output_type": "stream",
     "text": [
      "[0.7715 0.7515]\n",
      "Cross Validation of model RandomForestClasifier of cv=  2 is: 0.7615\n",
      "[0.7976012  0.79294824 0.7951988 ]\n",
      "Cross Validation of model RandomForestClasifier of cv=  3 is: 0.7952494120531632\n",
      "[0.818 0.785 0.804 0.805]\n",
      "Cross Validation of model RandomForestClasifier of cv=  4 is: 0.803\n",
      "[0.8275  0.785   0.805   0.83125 0.80375]\n",
      "Cross Validation of model RandomForestClasifier of cv=  5 is: 0.8105\n",
      "[0.83508246 0.79910045 0.79610195 0.80809595 0.82132132 0.81831832]\n",
      "Cross Validation of model RandomForestClasifier of cv=  6 is: 0.813003408205807\n",
      "[0.81118881 0.80944056 0.8006993  0.80735552 0.81961471 0.83012259\n",
      " 0.82661996]\n",
      "Cross Validation of model RandomForestClasifier of cv=  7 is: 0.8150059222738733\n",
      "[0.82  0.822 0.814 0.794 0.822 0.808 0.83  0.822]\n",
      "Cross Validation of model RandomForestClasifier of cv=  8 is: 0.8165\n",
      "[0.8247191  0.83370787 0.78876404 0.78426966 0.80855856 0.81531532\n",
      " 0.80405405 0.83108108 0.83108108]\n",
      "Cross Validation of model RandomForestClasifier of cv=  9 is: 0.8135056404719325\n"
     ]
    }
   ],
   "source": [
    "for i in range(2,10):\n",
    "    cross=cross_val_score(rfc,xnew_,ynew,cv=i)\n",
    "    print(cross)\n",
    "    print('Cross Validation of model RandomForestClasifier of cv= ' ,i ,'is:' , cross.mean())"
   ]
  },
  {
   "cell_type": "code",
   "execution_count": 80,
   "id": "c21da876",
   "metadata": {},
   "outputs": [
    {
     "name": "stdout",
     "output_type": "stream",
     "text": [
      "[0.6485 0.681 ]\n",
      "Cross Validation of model SVC of cv=  2 is: 0.66475\n",
      "[0.64392804 0.68867217 0.70817704]\n",
      "Cross Validation of model SVC of cv=  3 is: 0.6802590827616949\n",
      "[0.654 0.693 0.693 0.701]\n",
      "Cross Validation of model SVC of cv=  4 is: 0.68525\n",
      "[0.66375 0.70875 0.69875 0.71    0.71125]\n",
      "Cross Validation of model SVC of cv=  5 is: 0.6985\n",
      "[0.65967016 0.69715142 0.69415292 0.68215892 0.71171171 0.72222222]\n",
      "Cross Validation of model SVC of cv=  6 is: 0.6945112278695486\n",
      "[0.66258741 0.67832168 0.69405594 0.73029772 0.69176883 0.71803853\n",
      " 0.72504378]\n",
      "Cross Validation of model SVC of cv=  7 is: 0.7000162709444672\n",
      "[0.678 0.672 0.708 0.712 0.698 0.708 0.734 0.714]\n",
      "Cross Validation of model SVC of cv=  8 is: 0.7030000000000001\n",
      "[0.68089888 0.68988764 0.71460674 0.66741573 0.72972973 0.67342342\n",
      " 0.72072072 0.76351351 0.69369369]\n",
      "Cross Validation of model SVC of cv=  9 is: 0.703765563316125\n"
     ]
    }
   ],
   "source": [
    "for i in range(2,10):\n",
    "    cross=cross_val_score(svc,xnew_,ynew,cv=i)\n",
    "    print(cross)\n",
    "    print('Cross Validation of model SVC of cv= ' ,i ,'is:' , cross.mean())"
   ]
  },
  {
   "cell_type": "code",
   "execution_count": 81,
   "id": "b9f42c00",
   "metadata": {},
   "outputs": [
    {
     "name": "stdout",
     "output_type": "stream",
     "text": [
      "[0.832 0.832 0.802 0.79  0.816 0.814 0.848 0.828]\n",
      "Best cross value score is in RandomForestClassifier at cv=8 : 0.82025\n"
     ]
    }
   ],
   "source": [
    "cross=cross_val_score(rfc,xnew_,ynew,cv=8)\n",
    "print(cross)\n",
    "print('Best cross value score is in RandomForestClassifier at cv=8 :' ,cross.mean())"
   ]
  },
  {
   "cell_type": "code",
   "execution_count": 82,
   "id": "04a2fa10",
   "metadata": {},
   "outputs": [],
   "source": [
    "from sklearn.model_selection import GridSearchCV"
   ]
  },
  {
   "cell_type": "code",
   "execution_count": 83,
   "id": "606f7676",
   "metadata": {},
   "outputs": [
    {
     "data": {
      "text/html": [
       "<style>#sk-container-id-4 {color: black;background-color: white;}#sk-container-id-4 pre{padding: 0;}#sk-container-id-4 div.sk-toggleable {background-color: white;}#sk-container-id-4 label.sk-toggleable__label {cursor: pointer;display: block;width: 100%;margin-bottom: 0;padding: 0.3em;box-sizing: border-box;text-align: center;}#sk-container-id-4 label.sk-toggleable__label-arrow:before {content: \"▸\";float: left;margin-right: 0.25em;color: #696969;}#sk-container-id-4 label.sk-toggleable__label-arrow:hover:before {color: black;}#sk-container-id-4 div.sk-estimator:hover label.sk-toggleable__label-arrow:before {color: black;}#sk-container-id-4 div.sk-toggleable__content {max-height: 0;max-width: 0;overflow: hidden;text-align: left;background-color: #f0f8ff;}#sk-container-id-4 div.sk-toggleable__content pre {margin: 0.2em;color: black;border-radius: 0.25em;background-color: #f0f8ff;}#sk-container-id-4 input.sk-toggleable__control:checked~div.sk-toggleable__content {max-height: 200px;max-width: 100%;overflow: auto;}#sk-container-id-4 input.sk-toggleable__control:checked~label.sk-toggleable__label-arrow:before {content: \"▾\";}#sk-container-id-4 div.sk-estimator input.sk-toggleable__control:checked~label.sk-toggleable__label {background-color: #d4ebff;}#sk-container-id-4 div.sk-label input.sk-toggleable__control:checked~label.sk-toggleable__label {background-color: #d4ebff;}#sk-container-id-4 input.sk-hidden--visually {border: 0;clip: rect(1px 1px 1px 1px);clip: rect(1px, 1px, 1px, 1px);height: 1px;margin: -1px;overflow: hidden;padding: 0;position: absolute;width: 1px;}#sk-container-id-4 div.sk-estimator {font-family: monospace;background-color: #f0f8ff;border: 1px dotted black;border-radius: 0.25em;box-sizing: border-box;margin-bottom: 0.5em;}#sk-container-id-4 div.sk-estimator:hover {background-color: #d4ebff;}#sk-container-id-4 div.sk-parallel-item::after {content: \"\";width: 100%;border-bottom: 1px solid gray;flex-grow: 1;}#sk-container-id-4 div.sk-label:hover label.sk-toggleable__label {background-color: #d4ebff;}#sk-container-id-4 div.sk-serial::before {content: \"\";position: absolute;border-left: 1px solid gray;box-sizing: border-box;top: 0;bottom: 0;left: 50%;z-index: 0;}#sk-container-id-4 div.sk-serial {display: flex;flex-direction: column;align-items: center;background-color: white;padding-right: 0.2em;padding-left: 0.2em;position: relative;}#sk-container-id-4 div.sk-item {position: relative;z-index: 1;}#sk-container-id-4 div.sk-parallel {display: flex;align-items: stretch;justify-content: center;background-color: white;position: relative;}#sk-container-id-4 div.sk-item::before, #sk-container-id-4 div.sk-parallel-item::before {content: \"\";position: absolute;border-left: 1px solid gray;box-sizing: border-box;top: 0;bottom: 0;left: 50%;z-index: -1;}#sk-container-id-4 div.sk-parallel-item {display: flex;flex-direction: column;z-index: 1;position: relative;background-color: white;}#sk-container-id-4 div.sk-parallel-item:first-child::after {align-self: flex-end;width: 50%;}#sk-container-id-4 div.sk-parallel-item:last-child::after {align-self: flex-start;width: 50%;}#sk-container-id-4 div.sk-parallel-item:only-child::after {width: 0;}#sk-container-id-4 div.sk-dashed-wrapped {border: 1px dashed gray;margin: 0 0.4em 0.5em 0.4em;box-sizing: border-box;padding-bottom: 0.4em;background-color: white;}#sk-container-id-4 div.sk-label label {font-family: monospace;font-weight: bold;display: inline-block;line-height: 1.2em;}#sk-container-id-4 div.sk-label-container {text-align: center;}#sk-container-id-4 div.sk-container {/* jupyter's `normalize.less` sets `[hidden] { display: none; }` but bootstrap.min.css set `[hidden] { display: none !important; }` so we also need the `!important` here to be able to override the default hidden behavior on the sphinx rendered scikit-learn.org. See: https://github.com/scikit-learn/scikit-learn/issues/21755 */display: inline-block !important;position: relative;}#sk-container-id-4 div.sk-text-repr-fallback {display: none;}</style><div id=\"sk-container-id-4\" class=\"sk-top-container\"><div class=\"sk-text-repr-fallback\"><pre>GridSearchCV(cv=8, estimator=RandomForestClassifier(n_estimators=200),\n",
       "             param_grid={&#x27;criterion&#x27;: [&#x27;gini&#x27;, &#x27;entropy&#x27;],\n",
       "                         &#x27;n_estimators&#x27;: [100, 150, 200]})</pre><b>In a Jupyter environment, please rerun this cell to show the HTML representation or trust the notebook. <br />On GitHub, the HTML representation is unable to render, please try loading this page with nbviewer.org.</b></div><div class=\"sk-container\" hidden><div class=\"sk-item sk-dashed-wrapped\"><div class=\"sk-label-container\"><div class=\"sk-label sk-toggleable\"><input class=\"sk-toggleable__control sk-hidden--visually\" id=\"sk-estimator-id-4\" type=\"checkbox\" ><label for=\"sk-estimator-id-4\" class=\"sk-toggleable__label sk-toggleable__label-arrow\">GridSearchCV</label><div class=\"sk-toggleable__content\"><pre>GridSearchCV(cv=8, estimator=RandomForestClassifier(n_estimators=200),\n",
       "             param_grid={&#x27;criterion&#x27;: [&#x27;gini&#x27;, &#x27;entropy&#x27;],\n",
       "                         &#x27;n_estimators&#x27;: [100, 150, 200]})</pre></div></div></div><div class=\"sk-parallel\"><div class=\"sk-parallel-item\"><div class=\"sk-item\"><div class=\"sk-label-container\"><div class=\"sk-label sk-toggleable\"><input class=\"sk-toggleable__control sk-hidden--visually\" id=\"sk-estimator-id-5\" type=\"checkbox\" ><label for=\"sk-estimator-id-5\" class=\"sk-toggleable__label sk-toggleable__label-arrow\">estimator: RandomForestClassifier</label><div class=\"sk-toggleable__content\"><pre>RandomForestClassifier(n_estimators=200)</pre></div></div></div><div class=\"sk-serial\"><div class=\"sk-item\"><div class=\"sk-estimator sk-toggleable\"><input class=\"sk-toggleable__control sk-hidden--visually\" id=\"sk-estimator-id-6\" type=\"checkbox\" ><label for=\"sk-estimator-id-6\" class=\"sk-toggleable__label sk-toggleable__label-arrow\">RandomForestClassifier</label><div class=\"sk-toggleable__content\"><pre>RandomForestClassifier(n_estimators=200)</pre></div></div></div></div></div></div></div></div></div></div>"
      ],
      "text/plain": [
       "GridSearchCV(cv=8, estimator=RandomForestClassifier(n_estimators=200),\n",
       "             param_grid={'criterion': ['gini', 'entropy'],\n",
       "                         'n_estimators': [100, 150, 200]})"
      ]
     },
     "execution_count": 83,
     "metadata": {},
     "output_type": "execute_result"
    }
   ],
   "source": [
    "param_grid={'n_estimators':[100,150,200],'criterion':['gini','entropy']}\n",
    "gsv=GridSearchCV(estimator=rfc,param_grid=param_grid,cv=8)\n",
    "gsv.fit(x_train,y_train)"
   ]
  },
  {
   "cell_type": "code",
   "execution_count": 84,
   "id": "1cbb4fbf",
   "metadata": {},
   "outputs": [
    {
     "name": "stdout",
     "output_type": "stream",
     "text": [
      "0.8625\n"
     ]
    }
   ],
   "source": [
    "predgsv=gsv.predict(x_test)\n",
    "print(accuracy_score(y_test,predgsv))"
   ]
  },
  {
   "cell_type": "code",
   "execution_count": 85,
   "id": "4a3bd501",
   "metadata": {},
   "outputs": [
    {
     "name": "stdout",
     "output_type": "stream",
     "text": [
      "{'criterion': 'gini', 'n_estimators': 150}\n",
      "RandomForestClassifier(n_estimators=150)\n"
     ]
    }
   ],
   "source": [
    "print(gsv.best_params_)\n",
    "print(gsv.best_estimator_)"
   ]
  },
  {
   "cell_type": "code",
   "execution_count": 86,
   "id": "9faf2547",
   "metadata": {},
   "outputs": [],
   "source": [
    "import pickle"
   ]
  },
  {
   "cell_type": "code",
   "execution_count": 87,
   "id": "12957309",
   "metadata": {},
   "outputs": [],
   "source": [
    "filename='RedWineQuality.pkl'\n",
    "pickle.dump(gsv.best_estimator_,open(filename,'wb'))"
   ]
  },
  {
   "cell_type": "code",
   "execution_count": 88,
   "id": "5897d098",
   "metadata": {},
   "outputs": [],
   "source": [
    "newredwine=pickle.load(open(filename,'rb'))"
   ]
  },
  {
   "cell_type": "code",
   "execution_count": 89,
   "id": "52f9cf89",
   "metadata": {},
   "outputs": [
    {
     "name": "stdout",
     "output_type": "stream",
     "text": [
      "RandomForestClassifier(n_estimators=150)\n"
     ]
    }
   ],
   "source": [
    "print(newredwine)"
   ]
  },
  {
   "cell_type": "code",
   "execution_count": null,
   "id": "17123a4f",
   "metadata": {},
   "outputs": [],
   "source": []
  }
 ],
 "metadata": {
  "kernelspec": {
   "display_name": "Python 3 (ipykernel)",
   "language": "python",
   "name": "python3"
  },
  "language_info": {
   "codemirror_mode": {
    "name": "ipython",
    "version": 3
   },
   "file_extension": ".py",
   "mimetype": "text/x-python",
   "name": "python",
   "nbconvert_exporter": "python",
   "pygments_lexer": "ipython3",
   "version": "3.9.12"
  }
 },
 "nbformat": 4,
 "nbformat_minor": 5
}
