{
 "cells": [
  {
   "cell_type": "markdown",
   "id": "70dc051c",
   "metadata": {},
   "source": [
    "# Practice Project - 2\n",
    "Medical Cost Personal Insurance Datasets\n",
    "\n",
    "Problem Statement:\n",
    "    \n",
    "Insurance Forecast by using Regression Algorithms\n",
    "\n",
    "Health insurance is a type of insurance that covers medical expenses that arise due to an illness. These expenses could be related to hospitalisation costs, cost of medicines or doctor consultation fees. The main purpose of medical insurance is to receive the best medical care without any strain on your finances. Health insurance plans offer protection against high medical costs. It covers hospitalization expenses, day care procedures, domiciliary expenses, and ambulance charges, besides many others. Based on certain input features such as age , bmi,,no of dependents ,smoker ,region  medical insurance is calculated .\n",
    "\n",
    "Columns                                            \n",
    "\n",
    "·         age: age of primary beneficiary\n",
    "\n",
    "·         sex: insurance contractor gender, female, male\n",
    "\n",
    "·       bmi: Body mass index, providing an understanding of body, weights that are relatively high or low relative to height, objective index of body weight (kg / m ^ 2) using the ratio of height to weight, ideally 18.5 to 24.9.\n",
    "\n",
    "·       children: Number of children covered by health insurance / Number of dependents\n",
    "\n",
    "·     smoker: Smoking\n",
    "\n",
    "·      region: the beneficiary's residential area in the US, northeast, southeast, southwest, northwest.\n",
    "\n",
    "·     charges: Individual medical costs billed by health insurance\n",
    "\n",
    "Predict : Charges  Can you accurately predict insurance costs?\n",
    "\n",
    "Downlaod Files:\n",
    "https://github.com/dsrscientist/dataset4\n",
    "https://github.com/dsrscientist/dataset4/blob/main/medical_cost_insurance.csv"
   ]
  },
  {
   "cell_type": "code",
   "execution_count": 1,
   "id": "c2f390a2",
   "metadata": {},
   "outputs": [],
   "source": [
    "import numpy as np\n",
    "import pandas as pd\n",
    "import sklearn\n",
    "import warnings\n",
    "warnings.filterwarnings('ignore')"
   ]
  },
  {
   "cell_type": "code",
   "execution_count": 2,
   "id": "4c872fb1",
   "metadata": {},
   "outputs": [
    {
     "data": {
      "text/html": [
       "<div>\n",
       "<style scoped>\n",
       "    .dataframe tbody tr th:only-of-type {\n",
       "        vertical-align: middle;\n",
       "    }\n",
       "\n",
       "    .dataframe tbody tr th {\n",
       "        vertical-align: top;\n",
       "    }\n",
       "\n",
       "    .dataframe thead th {\n",
       "        text-align: right;\n",
       "    }\n",
       "</style>\n",
       "<table border=\"1\" class=\"dataframe\">\n",
       "  <thead>\n",
       "    <tr style=\"text-align: right;\">\n",
       "      <th></th>\n",
       "      <th>age</th>\n",
       "      <th>sex</th>\n",
       "      <th>bmi</th>\n",
       "      <th>children</th>\n",
       "      <th>smoker</th>\n",
       "      <th>region</th>\n",
       "      <th>charges</th>\n",
       "    </tr>\n",
       "  </thead>\n",
       "  <tbody>\n",
       "    <tr>\n",
       "      <th>0</th>\n",
       "      <td>19</td>\n",
       "      <td>female</td>\n",
       "      <td>27.900</td>\n",
       "      <td>0</td>\n",
       "      <td>yes</td>\n",
       "      <td>southwest</td>\n",
       "      <td>16884.92400</td>\n",
       "    </tr>\n",
       "    <tr>\n",
       "      <th>1</th>\n",
       "      <td>18</td>\n",
       "      <td>male</td>\n",
       "      <td>33.770</td>\n",
       "      <td>1</td>\n",
       "      <td>no</td>\n",
       "      <td>southeast</td>\n",
       "      <td>1725.55230</td>\n",
       "    </tr>\n",
       "    <tr>\n",
       "      <th>2</th>\n",
       "      <td>28</td>\n",
       "      <td>male</td>\n",
       "      <td>33.000</td>\n",
       "      <td>3</td>\n",
       "      <td>no</td>\n",
       "      <td>southeast</td>\n",
       "      <td>4449.46200</td>\n",
       "    </tr>\n",
       "    <tr>\n",
       "      <th>3</th>\n",
       "      <td>33</td>\n",
       "      <td>male</td>\n",
       "      <td>22.705</td>\n",
       "      <td>0</td>\n",
       "      <td>no</td>\n",
       "      <td>northwest</td>\n",
       "      <td>21984.47061</td>\n",
       "    </tr>\n",
       "    <tr>\n",
       "      <th>4</th>\n",
       "      <td>32</td>\n",
       "      <td>male</td>\n",
       "      <td>28.880</td>\n",
       "      <td>0</td>\n",
       "      <td>no</td>\n",
       "      <td>northwest</td>\n",
       "      <td>3866.85520</td>\n",
       "    </tr>\n",
       "    <tr>\n",
       "      <th>...</th>\n",
       "      <td>...</td>\n",
       "      <td>...</td>\n",
       "      <td>...</td>\n",
       "      <td>...</td>\n",
       "      <td>...</td>\n",
       "      <td>...</td>\n",
       "      <td>...</td>\n",
       "    </tr>\n",
       "    <tr>\n",
       "      <th>1333</th>\n",
       "      <td>50</td>\n",
       "      <td>male</td>\n",
       "      <td>30.970</td>\n",
       "      <td>3</td>\n",
       "      <td>no</td>\n",
       "      <td>northwest</td>\n",
       "      <td>10600.54830</td>\n",
       "    </tr>\n",
       "    <tr>\n",
       "      <th>1334</th>\n",
       "      <td>18</td>\n",
       "      <td>female</td>\n",
       "      <td>31.920</td>\n",
       "      <td>0</td>\n",
       "      <td>no</td>\n",
       "      <td>northeast</td>\n",
       "      <td>2205.98080</td>\n",
       "    </tr>\n",
       "    <tr>\n",
       "      <th>1335</th>\n",
       "      <td>18</td>\n",
       "      <td>female</td>\n",
       "      <td>36.850</td>\n",
       "      <td>0</td>\n",
       "      <td>no</td>\n",
       "      <td>southeast</td>\n",
       "      <td>1629.83350</td>\n",
       "    </tr>\n",
       "    <tr>\n",
       "      <th>1336</th>\n",
       "      <td>21</td>\n",
       "      <td>female</td>\n",
       "      <td>25.800</td>\n",
       "      <td>0</td>\n",
       "      <td>no</td>\n",
       "      <td>southwest</td>\n",
       "      <td>2007.94500</td>\n",
       "    </tr>\n",
       "    <tr>\n",
       "      <th>1337</th>\n",
       "      <td>61</td>\n",
       "      <td>female</td>\n",
       "      <td>29.070</td>\n",
       "      <td>0</td>\n",
       "      <td>yes</td>\n",
       "      <td>northwest</td>\n",
       "      <td>29141.36030</td>\n",
       "    </tr>\n",
       "  </tbody>\n",
       "</table>\n",
       "<p>1338 rows × 7 columns</p>\n",
       "</div>"
      ],
      "text/plain": [
       "      age     sex     bmi  children smoker     region      charges\n",
       "0      19  female  27.900         0    yes  southwest  16884.92400\n",
       "1      18    male  33.770         1     no  southeast   1725.55230\n",
       "2      28    male  33.000         3     no  southeast   4449.46200\n",
       "3      33    male  22.705         0     no  northwest  21984.47061\n",
       "4      32    male  28.880         0     no  northwest   3866.85520\n",
       "...   ...     ...     ...       ...    ...        ...          ...\n",
       "1333   50    male  30.970         3     no  northwest  10600.54830\n",
       "1334   18  female  31.920         0     no  northeast   2205.98080\n",
       "1335   18  female  36.850         0     no  southeast   1629.83350\n",
       "1336   21  female  25.800         0     no  southwest   2007.94500\n",
       "1337   61  female  29.070         0    yes  northwest  29141.36030\n",
       "\n",
       "[1338 rows x 7 columns]"
      ]
     },
     "execution_count": 2,
     "metadata": {},
     "output_type": "execute_result"
    }
   ],
   "source": [
    "df=pd.read_csv('medical_cost_insurance.csv')\n",
    "df"
   ]
  },
  {
   "cell_type": "code",
   "execution_count": 3,
   "id": "147e153a",
   "metadata": {},
   "outputs": [
    {
     "data": {
      "text/plain": [
       "Index(['age', 'sex', 'bmi', 'children', 'smoker', 'region', 'charges'], dtype='object')"
      ]
     },
     "execution_count": 3,
     "metadata": {},
     "output_type": "execute_result"
    }
   ],
   "source": [
    "df.columns"
   ]
  },
  {
   "cell_type": "code",
   "execution_count": 4,
   "id": "8f8bbf03",
   "metadata": {},
   "outputs": [
    {
     "data": {
      "text/plain": [
       "age         0\n",
       "sex         0\n",
       "bmi         0\n",
       "children    0\n",
       "smoker      0\n",
       "region      0\n",
       "charges     0\n",
       "dtype: int64"
      ]
     },
     "execution_count": 4,
     "metadata": {},
     "output_type": "execute_result"
    }
   ],
   "source": [
    "df.isnull().sum()"
   ]
  },
  {
   "cell_type": "code",
   "execution_count": 5,
   "id": "63756626",
   "metadata": {},
   "outputs": [
    {
     "data": {
      "text/plain": [
       "age           int64\n",
       "sex          object\n",
       "bmi         float64\n",
       "children      int64\n",
       "smoker       object\n",
       "region       object\n",
       "charges     float64\n",
       "dtype: object"
      ]
     },
     "execution_count": 5,
     "metadata": {},
     "output_type": "execute_result"
    }
   ],
   "source": [
    "df.dtypes"
   ]
  },
  {
   "cell_type": "code",
   "execution_count": 6,
   "id": "6578625b",
   "metadata": {},
   "outputs": [],
   "source": [
    "from sklearn.preprocessing import LabelEncoder\n",
    "le=LabelEncoder()\n",
    "df['sex']=le.fit_transform(df['sex'])"
   ]
  },
  {
   "cell_type": "code",
   "execution_count": 7,
   "id": "b06cfffa",
   "metadata": {},
   "outputs": [
    {
     "data": {
      "text/plain": [
       "1639.56310     2\n",
       "16884.92400    1\n",
       "29330.98315    1\n",
       "2221.56445     1\n",
       "19798.05455    1\n",
       "              ..\n",
       "7345.08400     1\n",
       "26109.32905    1\n",
       "28287.89766    1\n",
       "1149.39590     1\n",
       "29141.36030    1\n",
       "Name: charges, Length: 1337, dtype: int64"
      ]
     },
     "execution_count": 7,
     "metadata": {},
     "output_type": "execute_result"
    }
   ],
   "source": [
    "df.charges.value_counts()"
   ]
  },
  {
   "cell_type": "code",
   "execution_count": 8,
   "id": "95d267fb",
   "metadata": {},
   "outputs": [
    {
     "data": {
      "text/plain": [
       "<bound method Series.unique of 0       16884.92400\n",
       "1        1725.55230\n",
       "2        4449.46200\n",
       "3       21984.47061\n",
       "4        3866.85520\n",
       "           ...     \n",
       "1333    10600.54830\n",
       "1334     2205.98080\n",
       "1335     1629.83350\n",
       "1336     2007.94500\n",
       "1337    29141.36030\n",
       "Name: charges, Length: 1338, dtype: float64>"
      ]
     },
     "execution_count": 8,
     "metadata": {},
     "output_type": "execute_result"
    }
   ],
   "source": [
    "df.charges.unique"
   ]
  },
  {
   "cell_type": "code",
   "execution_count": 9,
   "id": "ac008e3f",
   "metadata": {},
   "outputs": [],
   "source": [
    "df['smoker']=le.fit_transform(df['smoker'])\n",
    "df['region']=le.fit_transform(df['region'])"
   ]
  },
  {
   "cell_type": "code",
   "execution_count": 10,
   "id": "43f45aa1",
   "metadata": {},
   "outputs": [
    {
     "data": {
      "text/html": [
       "<div>\n",
       "<style scoped>\n",
       "    .dataframe tbody tr th:only-of-type {\n",
       "        vertical-align: middle;\n",
       "    }\n",
       "\n",
       "    .dataframe tbody tr th {\n",
       "        vertical-align: top;\n",
       "    }\n",
       "\n",
       "    .dataframe thead th {\n",
       "        text-align: right;\n",
       "    }\n",
       "</style>\n",
       "<table border=\"1\" class=\"dataframe\">\n",
       "  <thead>\n",
       "    <tr style=\"text-align: right;\">\n",
       "      <th></th>\n",
       "      <th>age</th>\n",
       "      <th>sex</th>\n",
       "      <th>bmi</th>\n",
       "      <th>children</th>\n",
       "      <th>smoker</th>\n",
       "      <th>region</th>\n",
       "      <th>charges</th>\n",
       "    </tr>\n",
       "  </thead>\n",
       "  <tbody>\n",
       "    <tr>\n",
       "      <th>0</th>\n",
       "      <td>19</td>\n",
       "      <td>0</td>\n",
       "      <td>27.900</td>\n",
       "      <td>0</td>\n",
       "      <td>1</td>\n",
       "      <td>3</td>\n",
       "      <td>16884.92400</td>\n",
       "    </tr>\n",
       "    <tr>\n",
       "      <th>1</th>\n",
       "      <td>18</td>\n",
       "      <td>1</td>\n",
       "      <td>33.770</td>\n",
       "      <td>1</td>\n",
       "      <td>0</td>\n",
       "      <td>2</td>\n",
       "      <td>1725.55230</td>\n",
       "    </tr>\n",
       "    <tr>\n",
       "      <th>2</th>\n",
       "      <td>28</td>\n",
       "      <td>1</td>\n",
       "      <td>33.000</td>\n",
       "      <td>3</td>\n",
       "      <td>0</td>\n",
       "      <td>2</td>\n",
       "      <td>4449.46200</td>\n",
       "    </tr>\n",
       "    <tr>\n",
       "      <th>3</th>\n",
       "      <td>33</td>\n",
       "      <td>1</td>\n",
       "      <td>22.705</td>\n",
       "      <td>0</td>\n",
       "      <td>0</td>\n",
       "      <td>1</td>\n",
       "      <td>21984.47061</td>\n",
       "    </tr>\n",
       "    <tr>\n",
       "      <th>4</th>\n",
       "      <td>32</td>\n",
       "      <td>1</td>\n",
       "      <td>28.880</td>\n",
       "      <td>0</td>\n",
       "      <td>0</td>\n",
       "      <td>1</td>\n",
       "      <td>3866.85520</td>\n",
       "    </tr>\n",
       "    <tr>\n",
       "      <th>...</th>\n",
       "      <td>...</td>\n",
       "      <td>...</td>\n",
       "      <td>...</td>\n",
       "      <td>...</td>\n",
       "      <td>...</td>\n",
       "      <td>...</td>\n",
       "      <td>...</td>\n",
       "    </tr>\n",
       "    <tr>\n",
       "      <th>1333</th>\n",
       "      <td>50</td>\n",
       "      <td>1</td>\n",
       "      <td>30.970</td>\n",
       "      <td>3</td>\n",
       "      <td>0</td>\n",
       "      <td>1</td>\n",
       "      <td>10600.54830</td>\n",
       "    </tr>\n",
       "    <tr>\n",
       "      <th>1334</th>\n",
       "      <td>18</td>\n",
       "      <td>0</td>\n",
       "      <td>31.920</td>\n",
       "      <td>0</td>\n",
       "      <td>0</td>\n",
       "      <td>0</td>\n",
       "      <td>2205.98080</td>\n",
       "    </tr>\n",
       "    <tr>\n",
       "      <th>1335</th>\n",
       "      <td>18</td>\n",
       "      <td>0</td>\n",
       "      <td>36.850</td>\n",
       "      <td>0</td>\n",
       "      <td>0</td>\n",
       "      <td>2</td>\n",
       "      <td>1629.83350</td>\n",
       "    </tr>\n",
       "    <tr>\n",
       "      <th>1336</th>\n",
       "      <td>21</td>\n",
       "      <td>0</td>\n",
       "      <td>25.800</td>\n",
       "      <td>0</td>\n",
       "      <td>0</td>\n",
       "      <td>3</td>\n",
       "      <td>2007.94500</td>\n",
       "    </tr>\n",
       "    <tr>\n",
       "      <th>1337</th>\n",
       "      <td>61</td>\n",
       "      <td>0</td>\n",
       "      <td>29.070</td>\n",
       "      <td>0</td>\n",
       "      <td>1</td>\n",
       "      <td>1</td>\n",
       "      <td>29141.36030</td>\n",
       "    </tr>\n",
       "  </tbody>\n",
       "</table>\n",
       "<p>1338 rows × 7 columns</p>\n",
       "</div>"
      ],
      "text/plain": [
       "      age  sex     bmi  children  smoker  region      charges\n",
       "0      19    0  27.900         0       1       3  16884.92400\n",
       "1      18    1  33.770         1       0       2   1725.55230\n",
       "2      28    1  33.000         3       0       2   4449.46200\n",
       "3      33    1  22.705         0       0       1  21984.47061\n",
       "4      32    1  28.880         0       0       1   3866.85520\n",
       "...   ...  ...     ...       ...     ...     ...          ...\n",
       "1333   50    1  30.970         3       0       1  10600.54830\n",
       "1334   18    0  31.920         0       0       0   2205.98080\n",
       "1335   18    0  36.850         0       0       2   1629.83350\n",
       "1336   21    0  25.800         0       0       3   2007.94500\n",
       "1337   61    0  29.070         0       1       1  29141.36030\n",
       "\n",
       "[1338 rows x 7 columns]"
      ]
     },
     "execution_count": 10,
     "metadata": {},
     "output_type": "execute_result"
    }
   ],
   "source": [
    "df"
   ]
  },
  {
   "cell_type": "code",
   "execution_count": 11,
   "id": "365bf568",
   "metadata": {},
   "outputs": [
    {
     "data": {
      "text/plain": [
       "<BarContainer object of 1338 artists>"
      ]
     },
     "execution_count": 11,
     "metadata": {},
     "output_type": "execute_result"
    },
    {
     "data": {
      "image/png": "[encoded data removed]",
      "text/plain": [
       "<Figure size 432x288 with 1 Axes>"
      ]
     },
     "metadata": {
      "needs_background": "light"
     },
     "output_type": "display_data"
    }
   ],
   "source": [
    "import matplotlib.pyplot as plt\n",
    "plt.bar(df.age,df.charges)"
   ]
  },
  {
   "cell_type": "code",
   "execution_count": 12,
   "id": "948ef583",
   "metadata": {},
   "outputs": [
    {
     "data": {
      "text/plain": [
       "<BarContainer object of 1338 artists>"
      ]
     },
     "execution_count": 12,
     "metadata": {},
     "output_type": "execute_result"
    },
    {
     "data": {
      "image/png": "[encoded data removed]",
      "text/plain": [
       "<Figure size 432x288 with 1 Axes>"
      ]
     },
     "metadata": {
      "needs_background": "light"
     },
     "output_type": "display_data"
    }
   ],
   "source": [
    "plt.bar(df.sex,df.charges)"
   ]
  },
  {
   "cell_type": "code",
   "execution_count": 13,
   "id": "172e4fde",
   "metadata": {},
   "outputs": [
    {
     "data": {
      "text/plain": [
       "<BarContainer object of 1338 artists>"
      ]
     },
     "execution_count": 13,
     "metadata": {},
     "output_type": "execute_result"
    },
    {
     "data": {
      "image/png": "[encoded data removed]",
      "text/plain": [
       "<Figure size 432x288 with 1 Axes>"
      ]
     },
     "metadata": {
      "needs_background": "light"
     },
     "output_type": "display_data"
    }
   ],
   "source": [
    "plt.bar(df.bmi,df.charges)"
   ]
  },
  {
   "cell_type": "code",
   "execution_count": 14,
   "id": "15190bc7",
   "metadata": {},
   "outputs": [
    {
     "data": {
      "text/plain": [
       "<BarContainer object of 1338 artists>"
      ]
     },
     "execution_count": 14,
     "metadata": {},
     "output_type": "execute_result"
    },
    {
     "data": {
      "image/png": "[encoded data removed]",
      "text/plain": [
       "<Figure size 432x288 with 1 Axes>"
      ]
     },
     "metadata": {
      "needs_background": "light"
     },
     "output_type": "display_data"
    }
   ],
   "source": [
    "plt.bar(df.children,df.charges)"
   ]
  },
  {
   "cell_type": "code",
   "execution_count": 15,
   "id": "8a99cc0b",
   "metadata": {},
   "outputs": [
    {
     "data": {
      "text/plain": [
       "<BarContainer object of 1338 artists>"
      ]
     },
     "execution_count": 15,
     "metadata": {},
     "output_type": "execute_result"
    },
    {
     "data": {
      "image/png": "[encoded data removed]",
      "text/plain": [
       "<Figure size 432x288 with 1 Axes>"
      ]
     },
     "metadata": {
      "needs_background": "light"
     },
     "output_type": "display_data"
    }
   ],
   "source": [
    "plt.bar(df.smoker,df.charges)"
   ]
  },
  {
   "cell_type": "code",
   "execution_count": 16,
   "id": "362b4984",
   "metadata": {},
   "outputs": [
    {
     "data": {
      "text/plain": [
       "<BarContainer object of 1338 artists>"
      ]
     },
     "execution_count": 16,
     "metadata": {},
     "output_type": "execute_result"
    },
    {
     "data": {
      "image/png": "[encoded data removed]",
      "text/plain": [
       "<Figure size 432x288 with 1 Axes>"
      ]
     },
     "metadata": {
      "needs_background": "light"
     },
     "output_type": "display_data"
    }
   ],
   "source": [
    "plt.bar(df.region,df.charges)"
   ]
  },
  {
   "cell_type": "code",
   "execution_count": 17,
   "id": "4eaa63a5",
   "metadata": {},
   "outputs": [
    {
     "data": {
      "image/png": "[encoded data removed]",
      "text/plain": [
       "<Figure size 432x288 with 1 Axes>"
      ]
     },
     "metadata": {
      "needs_background": "light"
     },
     "output_type": "display_data"
    }
   ],
   "source": [
    "df['charges'].hist(grid=False)\n",
    "plt.title('target charges')\n",
    "plt.show()"
   ]
  },
  {
   "cell_type": "code",
   "execution_count": 18,
   "id": "48935327",
   "metadata": {},
   "outputs": [
    {
     "data": {
      "text/plain": [
       "<AxesSubplot:xlabel='charges', ylabel='count'>"
      ]
     },
     "execution_count": 18,
     "metadata": {},
     "output_type": "execute_result"
    },
    {
     "data": {
      "image/png": "[encoded data removed]",
      "text/plain": [
       "<Figure size 432x288 with 1 Axes>"
      ]
     },
     "metadata": {
      "needs_background": "light"
     },
     "output_type": "display_data"
    }
   ],
   "source": [
    "import seaborn as sns\n",
    "sns.countplot(df.charges)"
   ]
  },
  {
   "cell_type": "code",
   "execution_count": 19,
   "id": "9112bb09",
   "metadata": {},
   "outputs": [
    {
     "data": {
      "text/plain": [
       "1639.56310     2\n",
       "16884.92400    1\n",
       "29330.98315    1\n",
       "2221.56445     1\n",
       "19798.05455    1\n",
       "              ..\n",
       "7345.08400     1\n",
       "26109.32905    1\n",
       "28287.89766    1\n",
       "1149.39590     1\n",
       "29141.36030    1\n",
       "Name: charges, Length: 1337, dtype: int64"
      ]
     },
     "execution_count": 19,
     "metadata": {},
     "output_type": "execute_result"
    }
   ],
   "source": [
    "df['charges'].value_counts()"
   ]
  },
  {
   "cell_type": "code",
   "execution_count": 20,
   "id": "7a48c213",
   "metadata": {},
   "outputs": [
    {
     "data": {
      "text/plain": [
       "1639.56310     0.149477\n",
       "16884.92400    0.074738\n",
       "29330.98315    0.074738\n",
       "2221.56445     0.074738\n",
       "19798.05455    0.074738\n",
       "                 ...   \n",
       "7345.08400     0.074738\n",
       "26109.32905    0.074738\n",
       "28287.89766    0.074738\n",
       "1149.39590     0.074738\n",
       "29141.36030    0.074738\n",
       "Name: charges, Length: 1337, dtype: float64"
      ]
     },
     "execution_count": 20,
     "metadata": {},
     "output_type": "execute_result"
    }
   ],
   "source": [
    "df['charges'].value_counts(normalize=True)*100"
   ]
  },
  {
   "cell_type": "code",
   "execution_count": 21,
   "id": "6780de26",
   "metadata": {},
   "outputs": [
    {
     "data": {
      "text/html": [
       "<div>\n",
       "<style scoped>\n",
       "    .dataframe tbody tr th:only-of-type {\n",
       "        vertical-align: middle;\n",
       "    }\n",
       "\n",
       "    .dataframe tbody tr th {\n",
       "        vertical-align: top;\n",
       "    }\n",
       "\n",
       "    .dataframe thead th {\n",
       "        text-align: right;\n",
       "    }\n",
       "</style>\n",
       "<table border=\"1\" class=\"dataframe\">\n",
       "  <thead>\n",
       "    <tr style=\"text-align: right;\">\n",
       "      <th></th>\n",
       "      <th>age</th>\n",
       "      <th>sex</th>\n",
       "      <th>bmi</th>\n",
       "      <th>children</th>\n",
       "      <th>smoker</th>\n",
       "      <th>region</th>\n",
       "      <th>charges</th>\n",
       "    </tr>\n",
       "  </thead>\n",
       "  <tbody>\n",
       "    <tr>\n",
       "      <th>age</th>\n",
       "      <td>1.000000</td>\n",
       "      <td>-0.020856</td>\n",
       "      <td>0.109272</td>\n",
       "      <td>0.042469</td>\n",
       "      <td>-0.025019</td>\n",
       "      <td>0.002127</td>\n",
       "      <td>0.299008</td>\n",
       "    </tr>\n",
       "    <tr>\n",
       "      <th>sex</th>\n",
       "      <td>-0.020856</td>\n",
       "      <td>1.000000</td>\n",
       "      <td>0.046371</td>\n",
       "      <td>0.017163</td>\n",
       "      <td>0.076185</td>\n",
       "      <td>0.004588</td>\n",
       "      <td>0.057292</td>\n",
       "    </tr>\n",
       "    <tr>\n",
       "      <th>bmi</th>\n",
       "      <td>0.109272</td>\n",
       "      <td>0.046371</td>\n",
       "      <td>1.000000</td>\n",
       "      <td>0.012759</td>\n",
       "      <td>0.003750</td>\n",
       "      <td>0.157566</td>\n",
       "      <td>0.198341</td>\n",
       "    </tr>\n",
       "    <tr>\n",
       "      <th>children</th>\n",
       "      <td>0.042469</td>\n",
       "      <td>0.017163</td>\n",
       "      <td>0.012759</td>\n",
       "      <td>1.000000</td>\n",
       "      <td>0.007673</td>\n",
       "      <td>0.016569</td>\n",
       "      <td>0.067998</td>\n",
       "    </tr>\n",
       "    <tr>\n",
       "      <th>smoker</th>\n",
       "      <td>-0.025019</td>\n",
       "      <td>0.076185</td>\n",
       "      <td>0.003750</td>\n",
       "      <td>0.007673</td>\n",
       "      <td>1.000000</td>\n",
       "      <td>-0.002181</td>\n",
       "      <td>0.787251</td>\n",
       "    </tr>\n",
       "    <tr>\n",
       "      <th>region</th>\n",
       "      <td>0.002127</td>\n",
       "      <td>0.004588</td>\n",
       "      <td>0.157566</td>\n",
       "      <td>0.016569</td>\n",
       "      <td>-0.002181</td>\n",
       "      <td>1.000000</td>\n",
       "      <td>-0.006208</td>\n",
       "    </tr>\n",
       "    <tr>\n",
       "      <th>charges</th>\n",
       "      <td>0.299008</td>\n",
       "      <td>0.057292</td>\n",
       "      <td>0.198341</td>\n",
       "      <td>0.067998</td>\n",
       "      <td>0.787251</td>\n",
       "      <td>-0.006208</td>\n",
       "      <td>1.000000</td>\n",
       "    </tr>\n",
       "  </tbody>\n",
       "</table>\n",
       "</div>"
      ],
      "text/plain": [
       "               age       sex       bmi  children    smoker    region   charges\n",
       "age       1.000000 -0.020856  0.109272  0.042469 -0.025019  0.002127  0.299008\n",
       "sex      -0.020856  1.000000  0.046371  0.017163  0.076185  0.004588  0.057292\n",
       "bmi       0.109272  0.046371  1.000000  0.012759  0.003750  0.157566  0.198341\n",
       "children  0.042469  0.017163  0.012759  1.000000  0.007673  0.016569  0.067998\n",
       "smoker   -0.025019  0.076185  0.003750  0.007673  1.000000 -0.002181  0.787251\n",
       "region    0.002127  0.004588  0.157566  0.016569 -0.002181  1.000000 -0.006208\n",
       "charges   0.299008  0.057292  0.198341  0.067998  0.787251 -0.006208  1.000000"
      ]
     },
     "execution_count": 21,
     "metadata": {},
     "output_type": "execute_result"
    }
   ],
   "source": [
    "df.corr()"
   ]
  },
  {
   "cell_type": "code",
   "execution_count": 22,
   "id": "2c06ebd4",
   "metadata": {},
   "outputs": [
    {
     "data": {
      "text/plain": [
       "(1338, 7)"
      ]
     },
     "execution_count": 22,
     "metadata": {},
     "output_type": "execute_result"
    }
   ],
   "source": [
    "df.shape"
   ]
  },
  {
   "cell_type": "code",
   "execution_count": 23,
   "id": "b0d974c6",
   "metadata": {},
   "outputs": [
    {
     "data": {
      "text/plain": [
       "<AxesSubplot:>"
      ]
     },
     "execution_count": 23,
     "metadata": {},
     "output_type": "execute_result"
    },
    {
     "data": {
      "image/png": "[encoded data removed]",
      "text/plain": [
       "<Figure size 1440x720 with 2 Axes>"
      ]
     },
     "metadata": {
      "needs_background": "light"
     },
     "output_type": "display_data"
    }
   ],
   "source": [
    "plt.figure(figsize=(20,10))\n",
    "sns.heatmap(df.corr(),annot=True,color='r')"
   ]
  },
  {
   "cell_type": "code",
   "execution_count": 24,
   "id": "ea66600e",
   "metadata": {},
   "outputs": [
    {
     "data": {
      "text/plain": [
       "charges     1.000000\n",
       "smoker      0.787251\n",
       "age         0.299008\n",
       "bmi         0.198341\n",
       "children    0.067998\n",
       "sex         0.057292\n",
       "region     -0.006208\n",
       "Name: charges, dtype: float64"
      ]
     },
     "execution_count": 24,
     "metadata": {},
     "output_type": "execute_result"
    }
   ],
   "source": [
    "corr=df.corr()\n",
    "corr['charges'].sort_values(ascending=False)"
   ]
  },
  {
   "cell_type": "code",
   "execution_count": 25,
   "id": "fe2e2648",
   "metadata": {},
   "outputs": [],
   "source": [
    "# max correlation = smoker\n",
    "# min correlation = region \n",
    "df=df.drop('region',axis=1)"
   ]
  },
  {
   "cell_type": "code",
   "execution_count": 26,
   "id": "1ada7d8e",
   "metadata": {},
   "outputs": [
    {
     "data": {
      "text/html": [
       "<div>\n",
       "<style scoped>\n",
       "    .dataframe tbody tr th:only-of-type {\n",
       "        vertical-align: middle;\n",
       "    }\n",
       "\n",
       "    .dataframe tbody tr th {\n",
       "        vertical-align: top;\n",
       "    }\n",
       "\n",
       "    .dataframe thead th {\n",
       "        text-align: right;\n",
       "    }\n",
       "</style>\n",
       "<table border=\"1\" class=\"dataframe\">\n",
       "  <thead>\n",
       "    <tr style=\"text-align: right;\">\n",
       "      <th></th>\n",
       "      <th>age</th>\n",
       "      <th>sex</th>\n",
       "      <th>bmi</th>\n",
       "      <th>children</th>\n",
       "      <th>smoker</th>\n",
       "      <th>charges</th>\n",
       "    </tr>\n",
       "  </thead>\n",
       "  <tbody>\n",
       "    <tr>\n",
       "      <th>0</th>\n",
       "      <td>19</td>\n",
       "      <td>0</td>\n",
       "      <td>27.900</td>\n",
       "      <td>0</td>\n",
       "      <td>1</td>\n",
       "      <td>16884.92400</td>\n",
       "    </tr>\n",
       "    <tr>\n",
       "      <th>1</th>\n",
       "      <td>18</td>\n",
       "      <td>1</td>\n",
       "      <td>33.770</td>\n",
       "      <td>1</td>\n",
       "      <td>0</td>\n",
       "      <td>1725.55230</td>\n",
       "    </tr>\n",
       "    <tr>\n",
       "      <th>2</th>\n",
       "      <td>28</td>\n",
       "      <td>1</td>\n",
       "      <td>33.000</td>\n",
       "      <td>3</td>\n",
       "      <td>0</td>\n",
       "      <td>4449.46200</td>\n",
       "    </tr>\n",
       "    <tr>\n",
       "      <th>3</th>\n",
       "      <td>33</td>\n",
       "      <td>1</td>\n",
       "      <td>22.705</td>\n",
       "      <td>0</td>\n",
       "      <td>0</td>\n",
       "      <td>21984.47061</td>\n",
       "    </tr>\n",
       "    <tr>\n",
       "      <th>4</th>\n",
       "      <td>32</td>\n",
       "      <td>1</td>\n",
       "      <td>28.880</td>\n",
       "      <td>0</td>\n",
       "      <td>0</td>\n",
       "      <td>3866.85520</td>\n",
       "    </tr>\n",
       "    <tr>\n",
       "      <th>...</th>\n",
       "      <td>...</td>\n",
       "      <td>...</td>\n",
       "      <td>...</td>\n",
       "      <td>...</td>\n",
       "      <td>...</td>\n",
       "      <td>...</td>\n",
       "    </tr>\n",
       "    <tr>\n",
       "      <th>1333</th>\n",
       "      <td>50</td>\n",
       "      <td>1</td>\n",
       "      <td>30.970</td>\n",
       "      <td>3</td>\n",
       "      <td>0</td>\n",
       "      <td>10600.54830</td>\n",
       "    </tr>\n",
       "    <tr>\n",
       "      <th>1334</th>\n",
       "      <td>18</td>\n",
       "      <td>0</td>\n",
       "      <td>31.920</td>\n",
       "      <td>0</td>\n",
       "      <td>0</td>\n",
       "      <td>2205.98080</td>\n",
       "    </tr>\n",
       "    <tr>\n",
       "      <th>1335</th>\n",
       "      <td>18</td>\n",
       "      <td>0</td>\n",
       "      <td>36.850</td>\n",
       "      <td>0</td>\n",
       "      <td>0</td>\n",
       "      <td>1629.83350</td>\n",
       "    </tr>\n",
       "    <tr>\n",
       "      <th>1336</th>\n",
       "      <td>21</td>\n",
       "      <td>0</td>\n",
       "      <td>25.800</td>\n",
       "      <td>0</td>\n",
       "      <td>0</td>\n",
       "      <td>2007.94500</td>\n",
       "    </tr>\n",
       "    <tr>\n",
       "      <th>1337</th>\n",
       "      <td>61</td>\n",
       "      <td>0</td>\n",
       "      <td>29.070</td>\n",
       "      <td>0</td>\n",
       "      <td>1</td>\n",
       "      <td>29141.36030</td>\n",
       "    </tr>\n",
       "  </tbody>\n",
       "</table>\n",
       "<p>1338 rows × 6 columns</p>\n",
       "</div>"
      ],
      "text/plain": [
       "      age  sex     bmi  children  smoker      charges\n",
       "0      19    0  27.900         0       1  16884.92400\n",
       "1      18    1  33.770         1       0   1725.55230\n",
       "2      28    1  33.000         3       0   4449.46200\n",
       "3      33    1  22.705         0       0  21984.47061\n",
       "4      32    1  28.880         0       0   3866.85520\n",
       "...   ...  ...     ...       ...     ...          ...\n",
       "1333   50    1  30.970         3       0  10600.54830\n",
       "1334   18    0  31.920         0       0   2205.98080\n",
       "1335   18    0  36.850         0       0   1629.83350\n",
       "1336   21    0  25.800         0       0   2007.94500\n",
       "1337   61    0  29.070         0       1  29141.36030\n",
       "\n",
       "[1338 rows x 6 columns]"
      ]
     },
     "execution_count": 26,
     "metadata": {},
     "output_type": "execute_result"
    }
   ],
   "source": [
    "df"
   ]
  },
  {
   "cell_type": "code",
   "execution_count": 27,
   "id": "e90f2293",
   "metadata": {},
   "outputs": [
    {
     "data": {
      "text/html": [
       "<div>\n",
       "<style scoped>\n",
       "    .dataframe tbody tr th:only-of-type {\n",
       "        vertical-align: middle;\n",
       "    }\n",
       "\n",
       "    .dataframe tbody tr th {\n",
       "        vertical-align: top;\n",
       "    }\n",
       "\n",
       "    .dataframe thead th {\n",
       "        text-align: right;\n",
       "    }\n",
       "</style>\n",
       "<table border=\"1\" class=\"dataframe\">\n",
       "  <thead>\n",
       "    <tr style=\"text-align: right;\">\n",
       "      <th></th>\n",
       "      <th>age</th>\n",
       "      <th>sex</th>\n",
       "      <th>bmi</th>\n",
       "      <th>children</th>\n",
       "      <th>smoker</th>\n",
       "      <th>charges</th>\n",
       "    </tr>\n",
       "  </thead>\n",
       "  <tbody>\n",
       "    <tr>\n",
       "      <th>count</th>\n",
       "      <td>1338.000000</td>\n",
       "      <td>1338.000000</td>\n",
       "      <td>1338.000000</td>\n",
       "      <td>1338.000000</td>\n",
       "      <td>1338.000000</td>\n",
       "      <td>1338.000000</td>\n",
       "    </tr>\n",
       "    <tr>\n",
       "      <th>mean</th>\n",
       "      <td>39.207025</td>\n",
       "      <td>0.505232</td>\n",
       "      <td>30.663397</td>\n",
       "      <td>1.094918</td>\n",
       "      <td>0.204783</td>\n",
       "      <td>13270.422265</td>\n",
       "    </tr>\n",
       "    <tr>\n",
       "      <th>std</th>\n",
       "      <td>14.049960</td>\n",
       "      <td>0.500160</td>\n",
       "      <td>6.098187</td>\n",
       "      <td>1.205493</td>\n",
       "      <td>0.403694</td>\n",
       "      <td>12110.011237</td>\n",
       "    </tr>\n",
       "    <tr>\n",
       "      <th>min</th>\n",
       "      <td>18.000000</td>\n",
       "      <td>0.000000</td>\n",
       "      <td>15.960000</td>\n",
       "      <td>0.000000</td>\n",
       "      <td>0.000000</td>\n",
       "      <td>1121.873900</td>\n",
       "    </tr>\n",
       "    <tr>\n",
       "      <th>25%</th>\n",
       "      <td>27.000000</td>\n",
       "      <td>0.000000</td>\n",
       "      <td>26.296250</td>\n",
       "      <td>0.000000</td>\n",
       "      <td>0.000000</td>\n",
       "      <td>4740.287150</td>\n",
       "    </tr>\n",
       "    <tr>\n",
       "      <th>50%</th>\n",
       "      <td>39.000000</td>\n",
       "      <td>1.000000</td>\n",
       "      <td>30.400000</td>\n",
       "      <td>1.000000</td>\n",
       "      <td>0.000000</td>\n",
       "      <td>9382.033000</td>\n",
       "    </tr>\n",
       "    <tr>\n",
       "      <th>75%</th>\n",
       "      <td>51.000000</td>\n",
       "      <td>1.000000</td>\n",
       "      <td>34.693750</td>\n",
       "      <td>2.000000</td>\n",
       "      <td>0.000000</td>\n",
       "      <td>16639.912515</td>\n",
       "    </tr>\n",
       "    <tr>\n",
       "      <th>max</th>\n",
       "      <td>64.000000</td>\n",
       "      <td>1.000000</td>\n",
       "      <td>53.130000</td>\n",
       "      <td>5.000000</td>\n",
       "      <td>1.000000</td>\n",
       "      <td>63770.428010</td>\n",
       "    </tr>\n",
       "  </tbody>\n",
       "</table>\n",
       "</div>"
      ],
      "text/plain": [
       "               age          sex          bmi     children       smoker  \\\n",
       "count  1338.000000  1338.000000  1338.000000  1338.000000  1338.000000   \n",
       "mean     39.207025     0.505232    30.663397     1.094918     0.204783   \n",
       "std      14.049960     0.500160     6.098187     1.205493     0.403694   \n",
       "min      18.000000     0.000000    15.960000     0.000000     0.000000   \n",
       "25%      27.000000     0.000000    26.296250     0.000000     0.000000   \n",
       "50%      39.000000     1.000000    30.400000     1.000000     0.000000   \n",
       "75%      51.000000     1.000000    34.693750     2.000000     0.000000   \n",
       "max      64.000000     1.000000    53.130000     5.000000     1.000000   \n",
       "\n",
       "            charges  \n",
       "count   1338.000000  \n",
       "mean   13270.422265  \n",
       "std    12110.011237  \n",
       "min     1121.873900  \n",
       "25%     4740.287150  \n",
       "50%     9382.033000  \n",
       "75%    16639.912515  \n",
       "max    63770.428010  "
      ]
     },
     "execution_count": 27,
     "metadata": {},
     "output_type": "execute_result"
    }
   ],
   "source": [
    "df.describe()"
   ]
  },
  {
   "cell_type": "code",
   "execution_count": 28,
   "id": "00152ddc",
   "metadata": {},
   "outputs": [
    {
     "data": {
      "text/html": [
       "<div>\n",
       "<style scoped>\n",
       "    .dataframe tbody tr th:only-of-type {\n",
       "        vertical-align: middle;\n",
       "    }\n",
       "\n",
       "    .dataframe tbody tr th {\n",
       "        vertical-align: top;\n",
       "    }\n",
       "\n",
       "    .dataframe thead th {\n",
       "        text-align: right;\n",
       "    }\n",
       "</style>\n",
       "<table border=\"1\" class=\"dataframe\">\n",
       "  <thead>\n",
       "    <tr style=\"text-align: right;\">\n",
       "      <th></th>\n",
       "      <th>count</th>\n",
       "      <th>mean</th>\n",
       "      <th>std</th>\n",
       "      <th>min</th>\n",
       "      <th>25%</th>\n",
       "      <th>50%</th>\n",
       "      <th>75%</th>\n",
       "      <th>max</th>\n",
       "    </tr>\n",
       "  </thead>\n",
       "  <tbody>\n",
       "    <tr>\n",
       "      <th>age</th>\n",
       "      <td>1338.0</td>\n",
       "      <td>39.207025</td>\n",
       "      <td>14.049960</td>\n",
       "      <td>18.0000</td>\n",
       "      <td>27.00000</td>\n",
       "      <td>39.000</td>\n",
       "      <td>51.000000</td>\n",
       "      <td>64.00000</td>\n",
       "    </tr>\n",
       "    <tr>\n",
       "      <th>sex</th>\n",
       "      <td>1338.0</td>\n",
       "      <td>0.505232</td>\n",
       "      <td>0.500160</td>\n",
       "      <td>0.0000</td>\n",
       "      <td>0.00000</td>\n",
       "      <td>1.000</td>\n",
       "      <td>1.000000</td>\n",
       "      <td>1.00000</td>\n",
       "    </tr>\n",
       "    <tr>\n",
       "      <th>bmi</th>\n",
       "      <td>1338.0</td>\n",
       "      <td>30.663397</td>\n",
       "      <td>6.098187</td>\n",
       "      <td>15.9600</td>\n",
       "      <td>26.29625</td>\n",
       "      <td>30.400</td>\n",
       "      <td>34.693750</td>\n",
       "      <td>53.13000</td>\n",
       "    </tr>\n",
       "    <tr>\n",
       "      <th>children</th>\n",
       "      <td>1338.0</td>\n",
       "      <td>1.094918</td>\n",
       "      <td>1.205493</td>\n",
       "      <td>0.0000</td>\n",
       "      <td>0.00000</td>\n",
       "      <td>1.000</td>\n",
       "      <td>2.000000</td>\n",
       "      <td>5.00000</td>\n",
       "    </tr>\n",
       "    <tr>\n",
       "      <th>smoker</th>\n",
       "      <td>1338.0</td>\n",
       "      <td>0.204783</td>\n",
       "      <td>0.403694</td>\n",
       "      <td>0.0000</td>\n",
       "      <td>0.00000</td>\n",
       "      <td>0.000</td>\n",
       "      <td>0.000000</td>\n",
       "      <td>1.00000</td>\n",
       "    </tr>\n",
       "    <tr>\n",
       "      <th>charges</th>\n",
       "      <td>1338.0</td>\n",
       "      <td>13270.422265</td>\n",
       "      <td>12110.011237</td>\n",
       "      <td>1121.8739</td>\n",
       "      <td>4740.28715</td>\n",
       "      <td>9382.033</td>\n",
       "      <td>16639.912515</td>\n",
       "      <td>63770.42801</td>\n",
       "    </tr>\n",
       "  </tbody>\n",
       "</table>\n",
       "</div>"
      ],
      "text/plain": [
       "           count          mean           std        min         25%       50%  \\\n",
       "age       1338.0     39.207025     14.049960    18.0000    27.00000    39.000   \n",
       "sex       1338.0      0.505232      0.500160     0.0000     0.00000     1.000   \n",
       "bmi       1338.0     30.663397      6.098187    15.9600    26.29625    30.400   \n",
       "children  1338.0      1.094918      1.205493     0.0000     0.00000     1.000   \n",
       "smoker    1338.0      0.204783      0.403694     0.0000     0.00000     0.000   \n",
       "charges   1338.0  13270.422265  12110.011237  1121.8739  4740.28715  9382.033   \n",
       "\n",
       "                   75%          max  \n",
       "age          51.000000     64.00000  \n",
       "sex           1.000000      1.00000  \n",
       "bmi          34.693750     53.13000  \n",
       "children      2.000000      5.00000  \n",
       "smoker        0.000000      1.00000  \n",
       "charges   16639.912515  63770.42801  "
      ]
     },
     "execution_count": 28,
     "metadata": {},
     "output_type": "execute_result"
    }
   ],
   "source": [
    "df.describe().T"
   ]
  },
  {
   "cell_type": "code",
   "execution_count": 29,
   "id": "621b53c4",
   "metadata": {},
   "outputs": [
    {
     "data": {
      "text/plain": [
       "(8, 6)"
      ]
     },
     "execution_count": 29,
     "metadata": {},
     "output_type": "execute_result"
    }
   ],
   "source": [
    "df.describe().shape"
   ]
  },
  {
   "cell_type": "code",
   "execution_count": 30,
   "id": "69b3a124",
   "metadata": {},
   "outputs": [
    {
     "data": {
      "text/plain": [
       "<AxesSubplot:>"
      ]
     },
     "execution_count": 30,
     "metadata": {},
     "output_type": "execute_result"
    },
    {
     "data": {
      "image/png": "[encoded data removed]",
      "text/plain": [
       "<Figure size 720x720 with 2 Axes>"
      ]
     },
     "metadata": {
      "needs_background": "light"
     },
     "output_type": "display_data"
    }
   ],
   "source": [
    "plt.figure(figsize=(10,10))\n",
    "sns.heatmap(df.describe(),annot=True)"
   ]
  },
  {
   "cell_type": "code",
   "execution_count": 31,
   "id": "13a80685",
   "metadata": {},
   "outputs": [
    {
     "data": {
      "text/plain": [
       "array([16884.924 ,  1725.5523,  4449.462 , ...,  1629.8335,  2007.945 ,\n",
       "       29141.3603])"
      ]
     },
     "execution_count": 31,
     "metadata": {},
     "output_type": "execute_result"
    }
   ],
   "source": [
    "df['charges'].unique()"
   ]
  },
  {
   "cell_type": "code",
   "execution_count": 32,
   "id": "4ccb4e1f",
   "metadata": {},
   "outputs": [
    {
     "name": "stdout",
     "output_type": "stream",
     "text": [
      "<class 'pandas.core.frame.DataFrame'>\n",
      "RangeIndex: 1338 entries, 0 to 1337\n",
      "Data columns (total 6 columns):\n",
      " #   Column    Non-Null Count  Dtype  \n",
      "---  ------    --------------  -----  \n",
      " 0   age       1338 non-null   int64  \n",
      " 1   sex       1338 non-null   int32  \n",
      " 2   bmi       1338 non-null   float64\n",
      " 3   children  1338 non-null   int64  \n",
      " 4   smoker    1338 non-null   int32  \n",
      " 5   charges   1338 non-null   float64\n",
      "dtypes: float64(2), int32(2), int64(2)\n",
      "memory usage: 52.4 KB\n"
     ]
    }
   ],
   "source": [
    "df.info()"
   ]
  },
  {
   "cell_type": "code",
   "execution_count": 33,
   "id": "92b9df55",
   "metadata": {},
   "outputs": [
    {
     "data": {
      "text/plain": [
       "age         0.055673\n",
       "sex        -0.020951\n",
       "bmi         0.284047\n",
       "children    0.938380\n",
       "smoker      1.464766\n",
       "charges     1.515880\n",
       "dtype: float64"
      ]
     },
     "execution_count": 33,
     "metadata": {},
     "output_type": "execute_result"
    }
   ],
   "source": [
    "df.skew()"
   ]
  },
  {
   "cell_type": "code",
   "execution_count": 34,
   "id": "3e105ccb",
   "metadata": {},
   "outputs": [
    {
     "data": {
      "text/html": [
       "<div>\n",
       "<style scoped>\n",
       "    .dataframe tbody tr th:only-of-type {\n",
       "        vertical-align: middle;\n",
       "    }\n",
       "\n",
       "    .dataframe tbody tr th {\n",
       "        vertical-align: top;\n",
       "    }\n",
       "\n",
       "    .dataframe thead th {\n",
       "        text-align: right;\n",
       "    }\n",
       "</style>\n",
       "<table border=\"1\" class=\"dataframe\">\n",
       "  <thead>\n",
       "    <tr style=\"text-align: right;\">\n",
       "      <th></th>\n",
       "      <th>age</th>\n",
       "      <th>sex</th>\n",
       "      <th>bmi</th>\n",
       "      <th>children</th>\n",
       "      <th>smoker</th>\n",
       "      <th>charges</th>\n",
       "    </tr>\n",
       "  </thead>\n",
       "  <tbody>\n",
       "    <tr>\n",
       "      <th>0</th>\n",
       "      <td>1.438764</td>\n",
       "      <td>1.010519</td>\n",
       "      <td>0.453320</td>\n",
       "      <td>0.908614</td>\n",
       "      <td>1.970587</td>\n",
       "      <td>0.298584</td>\n",
       "    </tr>\n",
       "    <tr>\n",
       "      <th>1</th>\n",
       "      <td>1.509965</td>\n",
       "      <td>0.989591</td>\n",
       "      <td>0.509621</td>\n",
       "      <td>0.078767</td>\n",
       "      <td>0.507463</td>\n",
       "      <td>0.953689</td>\n",
       "    </tr>\n",
       "    <tr>\n",
       "      <th>2</th>\n",
       "      <td>0.797954</td>\n",
       "      <td>0.989591</td>\n",
       "      <td>0.383307</td>\n",
       "      <td>1.580926</td>\n",
       "      <td>0.507463</td>\n",
       "      <td>0.728675</td>\n",
       "    </tr>\n",
       "    <tr>\n",
       "      <th>3</th>\n",
       "      <td>0.441948</td>\n",
       "      <td>0.989591</td>\n",
       "      <td>1.305531</td>\n",
       "      <td>0.908614</td>\n",
       "      <td>0.507463</td>\n",
       "      <td>0.719843</td>\n",
       "    </tr>\n",
       "    <tr>\n",
       "      <th>4</th>\n",
       "      <td>0.513149</td>\n",
       "      <td>0.989591</td>\n",
       "      <td>0.292556</td>\n",
       "      <td>0.908614</td>\n",
       "      <td>0.507463</td>\n",
       "      <td>0.776802</td>\n",
       "    </tr>\n",
       "    <tr>\n",
       "      <th>...</th>\n",
       "      <td>...</td>\n",
       "      <td>...</td>\n",
       "      <td>...</td>\n",
       "      <td>...</td>\n",
       "      <td>...</td>\n",
       "      <td>...</td>\n",
       "    </tr>\n",
       "    <tr>\n",
       "      <th>1333</th>\n",
       "      <td>0.768473</td>\n",
       "      <td>0.989591</td>\n",
       "      <td>0.050297</td>\n",
       "      <td>1.580926</td>\n",
       "      <td>0.507463</td>\n",
       "      <td>0.220551</td>\n",
       "    </tr>\n",
       "    <tr>\n",
       "      <th>1334</th>\n",
       "      <td>1.509965</td>\n",
       "      <td>1.010519</td>\n",
       "      <td>0.206139</td>\n",
       "      <td>0.908614</td>\n",
       "      <td>0.507463</td>\n",
       "      <td>0.914002</td>\n",
       "    </tr>\n",
       "    <tr>\n",
       "      <th>1335</th>\n",
       "      <td>1.509965</td>\n",
       "      <td>1.010519</td>\n",
       "      <td>1.014878</td>\n",
       "      <td>0.908614</td>\n",
       "      <td>0.507463</td>\n",
       "      <td>0.961596</td>\n",
       "    </tr>\n",
       "    <tr>\n",
       "      <th>1336</th>\n",
       "      <td>1.296362</td>\n",
       "      <td>1.010519</td>\n",
       "      <td>0.797813</td>\n",
       "      <td>0.908614</td>\n",
       "      <td>0.507463</td>\n",
       "      <td>0.930362</td>\n",
       "    </tr>\n",
       "    <tr>\n",
       "      <th>1337</th>\n",
       "      <td>1.551686</td>\n",
       "      <td>1.010519</td>\n",
       "      <td>0.261388</td>\n",
       "      <td>0.908614</td>\n",
       "      <td>1.970587</td>\n",
       "      <td>1.311053</td>\n",
       "    </tr>\n",
       "  </tbody>\n",
       "</table>\n",
       "<p>1338 rows × 6 columns</p>\n",
       "</div>"
      ],
      "text/plain": [
       "           age       sex       bmi  children    smoker   charges\n",
       "0     1.438764  1.010519  0.453320  0.908614  1.970587  0.298584\n",
       "1     1.509965  0.989591  0.509621  0.078767  0.507463  0.953689\n",
       "2     0.797954  0.989591  0.383307  1.580926  0.507463  0.728675\n",
       "3     0.441948  0.989591  1.305531  0.908614  0.507463  0.719843\n",
       "4     0.513149  0.989591  0.292556  0.908614  0.507463  0.776802\n",
       "...        ...       ...       ...       ...       ...       ...\n",
       "1333  0.768473  0.989591  0.050297  1.580926  0.507463  0.220551\n",
       "1334  1.509965  1.010519  0.206139  0.908614  0.507463  0.914002\n",
       "1335  1.509965  1.010519  1.014878  0.908614  0.507463  0.961596\n",
       "1336  1.296362  1.010519  0.797813  0.908614  0.507463  0.930362\n",
       "1337  1.551686  1.010519  0.261388  0.908614  1.970587  1.311053\n",
       "\n",
       "[1338 rows x 6 columns]"
      ]
     },
     "execution_count": 34,
     "metadata": {},
     "output_type": "execute_result"
    }
   ],
   "source": [
    "from scipy.stats import zscore\n",
    "zscore=np.abs(zscore(df))\n",
    "zscore"
   ]
  },
  {
   "cell_type": "code",
   "execution_count": 35,
   "id": "b9913432",
   "metadata": {},
   "outputs": [
    {
     "data": {
      "text/html": [
       "<div>\n",
       "<style scoped>\n",
       "    .dataframe tbody tr th:only-of-type {\n",
       "        vertical-align: middle;\n",
       "    }\n",
       "\n",
       "    .dataframe tbody tr th {\n",
       "        vertical-align: top;\n",
       "    }\n",
       "\n",
       "    .dataframe thead th {\n",
       "        text-align: right;\n",
       "    }\n",
       "</style>\n",
       "<table border=\"1\" class=\"dataframe\">\n",
       "  <thead>\n",
       "    <tr style=\"text-align: right;\">\n",
       "      <th></th>\n",
       "      <th>age</th>\n",
       "      <th>sex</th>\n",
       "      <th>bmi</th>\n",
       "      <th>children</th>\n",
       "      <th>smoker</th>\n",
       "      <th>charges</th>\n",
       "    </tr>\n",
       "  </thead>\n",
       "  <tbody>\n",
       "    <tr>\n",
       "      <th>0</th>\n",
       "      <td>19</td>\n",
       "      <td>0</td>\n",
       "      <td>27.900</td>\n",
       "      <td>0</td>\n",
       "      <td>1</td>\n",
       "      <td>16884.92400</td>\n",
       "    </tr>\n",
       "    <tr>\n",
       "      <th>1</th>\n",
       "      <td>18</td>\n",
       "      <td>1</td>\n",
       "      <td>33.770</td>\n",
       "      <td>1</td>\n",
       "      <td>0</td>\n",
       "      <td>1725.55230</td>\n",
       "    </tr>\n",
       "    <tr>\n",
       "      <th>2</th>\n",
       "      <td>28</td>\n",
       "      <td>1</td>\n",
       "      <td>33.000</td>\n",
       "      <td>3</td>\n",
       "      <td>0</td>\n",
       "      <td>4449.46200</td>\n",
       "    </tr>\n",
       "    <tr>\n",
       "      <th>3</th>\n",
       "      <td>33</td>\n",
       "      <td>1</td>\n",
       "      <td>22.705</td>\n",
       "      <td>0</td>\n",
       "      <td>0</td>\n",
       "      <td>21984.47061</td>\n",
       "    </tr>\n",
       "    <tr>\n",
       "      <th>4</th>\n",
       "      <td>32</td>\n",
       "      <td>1</td>\n",
       "      <td>28.880</td>\n",
       "      <td>0</td>\n",
       "      <td>0</td>\n",
       "      <td>3866.85520</td>\n",
       "    </tr>\n",
       "    <tr>\n",
       "      <th>...</th>\n",
       "      <td>...</td>\n",
       "      <td>...</td>\n",
       "      <td>...</td>\n",
       "      <td>...</td>\n",
       "      <td>...</td>\n",
       "      <td>...</td>\n",
       "    </tr>\n",
       "    <tr>\n",
       "      <th>1333</th>\n",
       "      <td>50</td>\n",
       "      <td>1</td>\n",
       "      <td>30.970</td>\n",
       "      <td>3</td>\n",
       "      <td>0</td>\n",
       "      <td>10600.54830</td>\n",
       "    </tr>\n",
       "    <tr>\n",
       "      <th>1334</th>\n",
       "      <td>18</td>\n",
       "      <td>0</td>\n",
       "      <td>31.920</td>\n",
       "      <td>0</td>\n",
       "      <td>0</td>\n",
       "      <td>2205.98080</td>\n",
       "    </tr>\n",
       "    <tr>\n",
       "      <th>1335</th>\n",
       "      <td>18</td>\n",
       "      <td>0</td>\n",
       "      <td>36.850</td>\n",
       "      <td>0</td>\n",
       "      <td>0</td>\n",
       "      <td>1629.83350</td>\n",
       "    </tr>\n",
       "    <tr>\n",
       "      <th>1336</th>\n",
       "      <td>21</td>\n",
       "      <td>0</td>\n",
       "      <td>25.800</td>\n",
       "      <td>0</td>\n",
       "      <td>0</td>\n",
       "      <td>2007.94500</td>\n",
       "    </tr>\n",
       "    <tr>\n",
       "      <th>1337</th>\n",
       "      <td>61</td>\n",
       "      <td>0</td>\n",
       "      <td>29.070</td>\n",
       "      <td>0</td>\n",
       "      <td>1</td>\n",
       "      <td>29141.36030</td>\n",
       "    </tr>\n",
       "  </tbody>\n",
       "</table>\n",
       "<p>1309 rows × 6 columns</p>\n",
       "</div>"
      ],
      "text/plain": [
       "      age  sex     bmi  children  smoker      charges\n",
       "0      19    0  27.900         0       1  16884.92400\n",
       "1      18    1  33.770         1       0   1725.55230\n",
       "2      28    1  33.000         3       0   4449.46200\n",
       "3      33    1  22.705         0       0  21984.47061\n",
       "4      32    1  28.880         0       0   3866.85520\n",
       "...   ...  ...     ...       ...     ...          ...\n",
       "1333   50    1  30.970         3       0  10600.54830\n",
       "1334   18    0  31.920         0       0   2205.98080\n",
       "1335   18    0  36.850         0       0   1629.83350\n",
       "1336   21    0  25.800         0       0   2007.94500\n",
       "1337   61    0  29.070         0       1  29141.36030\n",
       "\n",
       "[1309 rows x 6 columns]"
      ]
     },
     "execution_count": 35,
     "metadata": {},
     "output_type": "execute_result"
    }
   ],
   "source": [
    "newdf=df[(zscore<3).all(axis=1)]\n",
    "newdf"
   ]
  },
  {
   "cell_type": "code",
   "execution_count": 36,
   "id": "c18252eb",
   "metadata": {},
   "outputs": [
    {
     "data": {
      "text/html": [
       "<div>\n",
       "<style scoped>\n",
       "    .dataframe tbody tr th:only-of-type {\n",
       "        vertical-align: middle;\n",
       "    }\n",
       "\n",
       "    .dataframe tbody tr th {\n",
       "        vertical-align: top;\n",
       "    }\n",
       "\n",
       "    .dataframe thead th {\n",
       "        text-align: right;\n",
       "    }\n",
       "</style>\n",
       "<table border=\"1\" class=\"dataframe\">\n",
       "  <thead>\n",
       "    <tr style=\"text-align: right;\">\n",
       "      <th></th>\n",
       "      <th>age</th>\n",
       "      <th>sex</th>\n",
       "      <th>bmi</th>\n",
       "      <th>children</th>\n",
       "      <th>smoker</th>\n",
       "      <th>charges</th>\n",
       "    </tr>\n",
       "  </thead>\n",
       "  <tbody>\n",
       "    <tr>\n",
       "      <th>0</th>\n",
       "      <td>19</td>\n",
       "      <td>0</td>\n",
       "      <td>27.900</td>\n",
       "      <td>0</td>\n",
       "      <td>1</td>\n",
       "      <td>16884.92400</td>\n",
       "    </tr>\n",
       "    <tr>\n",
       "      <th>1</th>\n",
       "      <td>18</td>\n",
       "      <td>1</td>\n",
       "      <td>33.770</td>\n",
       "      <td>1</td>\n",
       "      <td>0</td>\n",
       "      <td>1725.55230</td>\n",
       "    </tr>\n",
       "    <tr>\n",
       "      <th>2</th>\n",
       "      <td>28</td>\n",
       "      <td>1</td>\n",
       "      <td>33.000</td>\n",
       "      <td>3</td>\n",
       "      <td>0</td>\n",
       "      <td>4449.46200</td>\n",
       "    </tr>\n",
       "    <tr>\n",
       "      <th>3</th>\n",
       "      <td>33</td>\n",
       "      <td>1</td>\n",
       "      <td>22.705</td>\n",
       "      <td>0</td>\n",
       "      <td>0</td>\n",
       "      <td>21984.47061</td>\n",
       "    </tr>\n",
       "    <tr>\n",
       "      <th>4</th>\n",
       "      <td>32</td>\n",
       "      <td>1</td>\n",
       "      <td>28.880</td>\n",
       "      <td>0</td>\n",
       "      <td>0</td>\n",
       "      <td>3866.85520</td>\n",
       "    </tr>\n",
       "    <tr>\n",
       "      <th>...</th>\n",
       "      <td>...</td>\n",
       "      <td>...</td>\n",
       "      <td>...</td>\n",
       "      <td>...</td>\n",
       "      <td>...</td>\n",
       "      <td>...</td>\n",
       "    </tr>\n",
       "    <tr>\n",
       "      <th>1333</th>\n",
       "      <td>50</td>\n",
       "      <td>1</td>\n",
       "      <td>30.970</td>\n",
       "      <td>3</td>\n",
       "      <td>0</td>\n",
       "      <td>10600.54830</td>\n",
       "    </tr>\n",
       "    <tr>\n",
       "      <th>1334</th>\n",
       "      <td>18</td>\n",
       "      <td>0</td>\n",
       "      <td>31.920</td>\n",
       "      <td>0</td>\n",
       "      <td>0</td>\n",
       "      <td>2205.98080</td>\n",
       "    </tr>\n",
       "    <tr>\n",
       "      <th>1335</th>\n",
       "      <td>18</td>\n",
       "      <td>0</td>\n",
       "      <td>36.850</td>\n",
       "      <td>0</td>\n",
       "      <td>0</td>\n",
       "      <td>1629.83350</td>\n",
       "    </tr>\n",
       "    <tr>\n",
       "      <th>1336</th>\n",
       "      <td>21</td>\n",
       "      <td>0</td>\n",
       "      <td>25.800</td>\n",
       "      <td>0</td>\n",
       "      <td>0</td>\n",
       "      <td>2007.94500</td>\n",
       "    </tr>\n",
       "    <tr>\n",
       "      <th>1337</th>\n",
       "      <td>61</td>\n",
       "      <td>0</td>\n",
       "      <td>29.070</td>\n",
       "      <td>0</td>\n",
       "      <td>1</td>\n",
       "      <td>29141.36030</td>\n",
       "    </tr>\n",
       "  </tbody>\n",
       "</table>\n",
       "<p>1309 rows × 6 columns</p>\n",
       "</div>"
      ],
      "text/plain": [
       "      age  sex     bmi  children  smoker      charges\n",
       "0      19    0  27.900         0       1  16884.92400\n",
       "1      18    1  33.770         1       0   1725.55230\n",
       "2      28    1  33.000         3       0   4449.46200\n",
       "3      33    1  22.705         0       0  21984.47061\n",
       "4      32    1  28.880         0       0   3866.85520\n",
       "...   ...  ...     ...       ...     ...          ...\n",
       "1333   50    1  30.970         3       0  10600.54830\n",
       "1334   18    0  31.920         0       0   2205.98080\n",
       "1335   18    0  36.850         0       0   1629.83350\n",
       "1336   21    0  25.800         0       0   2007.94500\n",
       "1337   61    0  29.070         0       1  29141.36030\n",
       "\n",
       "[1309 rows x 6 columns]"
      ]
     },
     "execution_count": 36,
     "metadata": {},
     "output_type": "execute_result"
    }
   ],
   "source": [
    "newdf"
   ]
  },
  {
   "cell_type": "code",
   "execution_count": 37,
   "id": "0ea8c08c",
   "metadata": {},
   "outputs": [],
   "source": [
    "x=newdf.iloc[:,0:-1]\n",
    "y=newdf['charges']"
   ]
  },
  {
   "cell_type": "code",
   "execution_count": 38,
   "id": "6730708a",
   "metadata": {},
   "outputs": [],
   "source": [
    "from sklearn.model_selection import train_test_split"
   ]
  },
  {
   "cell_type": "code",
   "execution_count": 39,
   "id": "e71a4172",
   "metadata": {},
   "outputs": [
    {
     "data": {
      "text/plain": [
       "(1309, 5)"
      ]
     },
     "execution_count": 39,
     "metadata": {},
     "output_type": "execute_result"
    }
   ],
   "source": [
    "x.shape"
   ]
  },
  {
   "cell_type": "code",
   "execution_count": 40,
   "id": "c5eb6104",
   "metadata": {},
   "outputs": [
    {
     "data": {
      "text/plain": [
       "(1309,)"
      ]
     },
     "execution_count": 40,
     "metadata": {},
     "output_type": "execute_result"
    }
   ],
   "source": [
    "y.shape"
   ]
  },
  {
   "cell_type": "code",
   "execution_count": 41,
   "id": "6ecc84f3",
   "metadata": {},
   "outputs": [
    {
     "data": {
      "text/plain": [
       "2.167414050822123"
      ]
     },
     "execution_count": 41,
     "metadata": {},
     "output_type": "execute_result"
    }
   ],
   "source": [
    "data_loss=((1338-1309)/1338)*100\n",
    "data_loss"
   ]
  },
  {
   "cell_type": "code",
   "execution_count": 42,
   "id": "ce71571e",
   "metadata": {},
   "outputs": [
    {
     "name": "stdout",
     "output_type": "stream",
     "text": [
      "score:  78.78300678084379 at random_state=  0\n",
      "score:  75.66793059032753 at random_state=  1\n",
      "score:  71.37803879694154 at random_state=  2\n",
      "score:  74.29741575110968 at random_state=  3\n",
      "score:  73.48463120879494 at random_state=  4\n",
      "score:  74.40316741656383 at random_state=  5\n",
      "score:  76.57265285712414 at random_state=  6\n",
      "score:  72.40938565849959 at random_state=  7\n",
      "score:  73.33931476383874 at random_state=  8\n",
      "score:  78.13980325481138 at random_state=  9\n",
      "score:  78.36040598408707 at random_state=  10\n",
      "score:  75.00958475646155 at random_state=  11\n",
      "score:  76.89017753180887 at random_state=  12\n",
      "score:  75.43579496110095 at random_state=  13\n",
      "score:  73.38303309235425 at random_state=  14\n",
      "score:  75.56849362185122 at random_state=  15\n",
      "score:  72.30748049525901 at random_state=  16\n",
      "score:  67.96332562893316 at random_state=  17\n",
      "score:  72.75974993981583 at random_state=  18\n",
      "score:  76.98789859205725 at random_state=  19\n",
      "score:  72.94628410619698 at random_state=  20\n",
      "score:  73.54841658091398 at random_state=  21\n",
      "score:  73.211653872154 at random_state=  22\n",
      "score:  78.10493352429175 at random_state=  23\n",
      "score:  69.49721928662782 at random_state=  24\n",
      "score:  77.09139461108501 at random_state=  25\n",
      "score:  73.93384102501564 at random_state=  26\n",
      "score:  78.1641380201281 at random_state=  27\n",
      "score:  76.70060920072738 at random_state=  28\n",
      "score:  76.90608289920792 at random_state=  29\n",
      "score:  76.94165107508427 at random_state=  30\n",
      "score:  70.38346558350722 at random_state=  31\n",
      "score:  77.99996628660064 at random_state=  32\n",
      "score:  74.71342489434308 at random_state=  33\n",
      "score:  76.76939054633132 at random_state=  34\n",
      "score:  71.18209989648503 at random_state=  35\n",
      "score:  76.15832184383491 at random_state=  36\n",
      "score:  80.5894621643578 at random_state=  37\n",
      "score:  68.04178264035218 at random_state=  38\n",
      "score:  74.81965787872467 at random_state=  39\n",
      "score:  73.06167306307883 at random_state=  40\n",
      "score:  74.47014654053565 at random_state=  41\n",
      "score:  77.97312134832035 at random_state=  42\n",
      "score:  73.231626293714 at random_state=  43\n",
      "score:  73.0564790719064 at random_state=  44\n",
      "score:  76.30339327892347 at random_state=  45\n",
      "score:  75.5855183961599 at random_state=  46\n",
      "score:  72.53791237067192 at random_state=  47\n",
      "score:  77.4519529557074 at random_state=  48\n",
      "score:  74.39865963472334 at random_state=  49\n",
      "score:  77.09924265074027 at random_state=  50\n",
      "score:  73.26554793709398 at random_state=  51\n",
      "score:  71.11083286132849 at random_state=  52\n",
      "score:  73.50903631530656 at random_state=  53\n",
      "score:  73.30438048386179 at random_state=  54\n",
      "score:  70.69143722929132 at random_state=  55\n",
      "score:  76.72104621306453 at random_state=  56\n",
      "score:  79.32252655511857 at random_state=  57\n",
      "score:  74.99380451864029 at random_state=  58\n",
      "score:  75.49869564760174 at random_state=  59\n",
      "score:  80.5829901362124 at random_state=  60\n",
      "score:  71.29696020597862 at random_state=  61\n",
      "score:  76.90622042494056 at random_state=  62\n",
      "score:  75.57965176961751 at random_state=  63\n",
      "score:  76.05379975992287 at random_state=  64\n",
      "score:  75.60992758728199 at random_state=  65\n",
      "score:  73.7200389384624 at random_state=  66\n",
      "score:  70.35133353345806 at random_state=  67\n",
      "score:  68.52535326324599 at random_state=  68\n",
      "score:  79.97589180835153 at random_state=  69\n",
      "score:  74.90900239596508 at random_state=  70\n",
      "score:  76.52568455457897 at random_state=  71\n",
      "score:  82.45583956781948 at random_state=  72\n",
      "score:  76.68745271995381 at random_state=  73\n",
      "score:  76.36924341677722 at random_state=  74\n",
      "score:  74.47626066944737 at random_state=  75\n",
      "score:  73.24782440042688 at random_state=  76\n",
      "score:  67.60434024774169 at random_state=  77\n",
      "score:  74.73213667190011 at random_state=  78\n",
      "score:  69.73844036125685 at random_state=  79\n",
      "score:  74.62560813832286 at random_state=  80\n",
      "score:  80.56907212314455 at random_state=  81\n",
      "score:  81.41320169064521 at random_state=  82\n",
      "score:  75.08753250550741 at random_state=  83\n",
      "score:  71.64868425864995 at random_state=  84\n",
      "score:  77.01315132228034 at random_state=  85\n",
      "score:  73.12444711116329 at random_state=  86\n",
      "score:  75.29685640957332 at random_state=  87\n",
      "score:  77.51589238148799 at random_state=  88\n",
      "score:  78.58062859771687 at random_state=  89\n",
      "score:  74.23617081900687 at random_state=  90\n",
      "score:  68.56463286960583 at random_state=  91\n",
      "score:  72.68907769113856 at random_state=  92\n",
      "score:  78.08694284098796 at random_state=  93\n",
      "score:  75.841777922498 at random_state=  94\n",
      "score:  77.83941726046912 at random_state=  95\n",
      "score:  77.45238837676153 at random_state=  96\n",
      "score:  72.19744424399094 at random_state=  97\n",
      "score:  73.48585361618349 at random_state=  98\n",
      "score:  76.83017490748097 at random_state=  99\n",
      "score:  79.31506732348554 at random_state=  100\n",
      "score:  74.92120547912239 at random_state=  101\n",
      "score:  74.15624716134204 at random_state=  102\n",
      "score:  69.9856918321036 at random_state=  103\n",
      "score:  76.87761005373608 at random_state=  104\n",
      "score:  70.3949551588245 at random_state=  105\n",
      "score:  71.50160359597525 at random_state=  106\n",
      "score:  72.7129228622821 at random_state=  107\n",
      "score:  82.42547334116286 at random_state=  108\n",
      "score:  73.24019246749889 at random_state=  109\n",
      "score:  75.27848166406893 at random_state=  110\n",
      "score:  76.78777575635505 at random_state=  111\n",
      "score:  75.54051839013252 at random_state=  112\n",
      "score:  71.02164338633406 at random_state=  113\n",
      "score:  75.62984630425548 at random_state=  114\n",
      "score:  75.10680555180144 at random_state=  115\n",
      "score:  71.79802030882702 at random_state=  116\n",
      "score:  75.40070732622137 at random_state=  117\n",
      "score:  71.40046830861134 at random_state=  118\n",
      "score:  77.9273289570501 at random_state=  119\n",
      "score:  70.01754243621284 at random_state=  120\n",
      "score:  73.53986054404928 at random_state=  121\n",
      "score:  77.24171659427333 at random_state=  122\n",
      "score:  77.68768919227374 at random_state=  123\n",
      "score:  77.06382165578528 at random_state=  124\n",
      "score:  72.68546656209627 at random_state=  125\n",
      "score:  75.46913240668965 at random_state=  126\n",
      "score:  74.64623669472847 at random_state=  127\n",
      "score:  75.88954312938588 at random_state=  128\n",
      "score:  72.93348927187614 at random_state=  129\n",
      "score:  78.23455894059433 at random_state=  130\n",
      "score:  77.99933482039654 at random_state=  131\n",
      "score:  71.04736689533964 at random_state=  132\n",
      "score:  78.81504211293311 at random_state=  133\n",
      "score:  74.67255239363976 at random_state=  134\n",
      "score:  73.28526126604184 at random_state=  135\n",
      "score:  74.96740210472636 at random_state=  136\n",
      "score:  78.08637635228021 at random_state=  137\n",
      "score:  75.82154321280558 at random_state=  138\n",
      "score:  72.9139980346031 at random_state=  139\n",
      "score:  67.7343951545091 at random_state=  140\n",
      "score:  78.7620043362644 at random_state=  141\n",
      "score:  78.22666820730004 at random_state=  142\n",
      "score:  78.10674301293552 at random_state=  143\n",
      "score:  74.2596044609045 at random_state=  144\n",
      "score:  69.9784546081224 at random_state=  145\n",
      "score:  70.77788851306225 at random_state=  146\n",
      "score:  71.59586114722299 at random_state=  147\n",
      "score:  77.30728217511317 at random_state=  148\n",
      "score:  74.75464018223327 at random_state=  149\n",
      "score:  62.70422171115815 at random_state=  150\n",
      "score:  79.65745179139964 at random_state=  151\n",
      "score:  71.78039659491951 at random_state=  152\n",
      "score:  81.33229826874289 at random_state=  153\n",
      "score:  77.25315953997787 at random_state=  154\n",
      "score:  76.81515304681818 at random_state=  155\n",
      "score:  73.2431408073124 at random_state=  156\n",
      "score:  73.38011783606844 at random_state=  157\n",
      "score:  75.57459592542696 at random_state=  158\n",
      "score:  72.844075867683 at random_state=  159\n",
      "score:  74.38472500281131 at random_state=  160\n",
      "score:  81.2022934828478 at random_state=  161\n",
      "score:  71.8185761372967 at random_state=  162\n",
      "score:  78.37671559718609 at random_state=  163\n",
      "score:  76.6457499344262 at random_state=  164\n",
      "score:  72.19756954665222 at random_state=  165\n",
      "score:  75.29486235595905 at random_state=  166\n",
      "score:  77.67163514975117 at random_state=  167\n",
      "score:  70.25419946991973 at random_state=  168\n",
      "score:  76.77376105023649 at random_state=  169\n",
      "score:  70.99351650597033 at random_state=  170\n",
      "score:  77.96112677490487 at random_state=  171\n",
      "score:  74.76676113962846 at random_state=  172\n",
      "score:  73.7784128151254 at random_state=  173\n",
      "score:  75.6666803991375 at random_state=  174\n",
      "score:  73.29165863546295 at random_state=  175\n",
      "score:  74.0177590733426 at random_state=  176\n",
      "score:  78.4877582433116 at random_state=  177\n",
      "score:  73.18184804937128 at random_state=  178\n",
      "score:  72.76112180595572 at random_state=  179\n",
      "score:  77.57029541896881 at random_state=  180\n",
      "score:  71.69220615634312 at random_state=  181\n",
      "score:  73.09453839552744 at random_state=  182\n",
      "score:  76.96442238216315 at random_state=  183\n",
      "score:  75.79585022183244 at random_state=  184\n",
      "score:  78.74030233284608 at random_state=  185\n",
      "score:  74.66175355500707 at random_state=  186\n",
      "score:  68.29353936918466 at random_state=  187\n",
      "score:  70.71508779034366 at random_state=  188\n",
      "score:  73.83546346738599 at random_state=  189\n",
      "score:  76.73271848670353 at random_state=  190\n",
      "score:  79.13032125330304 at random_state=  191\n",
      "score:  76.95010533751434 at random_state=  192\n",
      "score:  67.88375475592514 at random_state=  193\n",
      "score:  82.25136898318218 at random_state=  194\n",
      "score:  74.65420770921348 at random_state=  195\n",
      "score:  76.33989857870152 at random_state=  196\n",
      "score:  74.82914116743238 at random_state=  197\n",
      "score:  75.42331283534047 at random_state=  198\n",
      "score:  71.51861663039712 at random_state=  199\n",
      "score:  82.44074282091162 at random_state=  200\n",
      "score:  72.68764859522676 at random_state=  201\n",
      "score:  73.2176452971955 at random_state=  202\n",
      "score:  74.42507689419757 at random_state=  203\n",
      "score:  78.27796677696793 at random_state=  204\n",
      "score:  79.55703760830568 at random_state=  205\n",
      "score:  74.87865806542533 at random_state=  206\n",
      "score:  71.379529960908 at random_state=  207\n",
      "score:  78.96592194479538 at random_state=  208\n",
      "score:  67.40505442069839 at random_state=  209\n",
      "score:  79.02580168403574 at random_state=  210\n",
      "score:  80.13801875097508 at random_state=  211\n",
      "score:  64.84939027892783 at random_state=  212\n",
      "score:  77.83781576778256 at random_state=  213\n",
      "score:  74.99320177726946 at random_state=  214\n",
      "score:  76.74317803899562 at random_state=  215\n",
      "score:  71.15909790706885 at random_state=  216\n",
      "score:  70.97885276867528 at random_state=  217\n",
      "score:  70.92913615281121 at random_state=  218\n",
      "score:  69.55465291326104 at random_state=  219\n",
      "score:  75.79017218245716 at random_state=  220\n",
      "score:  75.20555864484808 at random_state=  221\n",
      "score:  74.40126591412238 at random_state=  222\n",
      "score:  75.01801004307069 at random_state=  223\n",
      "score:  77.09404126281312 at random_state=  224\n",
      "score:  75.76212839150799 at random_state=  225\n",
      "score:  74.77348358237454 at random_state=  226\n",
      "score:  76.81957955779188 at random_state=  227\n",
      "score:  70.87238480401108 at random_state=  228\n",
      "score:  73.54403066101504 at random_state=  229\n",
      "score:  73.87323140966163 at random_state=  230\n",
      "score:  78.54400732975648 at random_state=  231\n",
      "score:  71.8384397674567 at random_state=  232\n",
      "score:  72.70206487906619 at random_state=  233\n",
      "score:  74.88799180144565 at random_state=  234\n",
      "score:  74.3786195138135 at random_state=  235\n",
      "score:  72.95593658719051 at random_state=  236\n",
      "score:  76.5376167967463 at random_state=  237\n",
      "score:  73.60707185609053 at random_state=  238\n",
      "score:  74.48821137643336 at random_state=  239\n",
      "score:  75.30598240328675 at random_state=  240\n",
      "score:  75.06050719325857 at random_state=  241\n",
      "score:  71.66171600018683 at random_state=  242\n",
      "score:  73.45950705633444 at random_state=  243\n",
      "score:  77.38705087704865 at random_state=  244\n",
      "score:  75.44831652542969 at random_state=  245\n",
      "score:  72.7990471425904 at random_state=  246\n",
      "score:  76.10161447085125 at random_state=  247\n",
      "score:  79.08159599022026 at random_state=  248\n",
      "score:  74.65868653849917 at random_state=  249\n",
      "score:  76.5396780611782 at random_state=  250\n",
      "score:  75.85378181422396 at random_state=  251\n",
      "score:  68.75154405746628 at random_state=  252\n",
      "score:  71.87321361991785 at random_state=  253\n",
      "score:  74.68897029185989 at random_state=  254\n",
      "score:  72.63341999036837 at random_state=  255\n",
      "score:  78.35794950313755 at random_state=  256\n",
      "score:  71.51914970774223 at random_state=  257\n",
      "score:  72.47002875768133 at random_state=  258\n",
      "score:  75.66906491235781 at random_state=  259\n",
      "score:  72.15813617756876 at random_state=  260\n",
      "score:  75.6731181236156 at random_state=  261\n",
      "score:  66.77856261786278 at random_state=  262\n",
      "score:  82.02543111947786 at random_state=  263\n",
      "score:  74.22495897052175 at random_state=  264\n",
      "score:  74.71742493599788 at random_state=  265\n",
      "score:  73.97960154763412 at random_state=  266\n",
      "score:  71.08880775027748 at random_state=  267\n",
      "score:  66.62238953514968 at random_state=  268\n",
      "score:  73.5768495733585 at random_state=  269\n",
      "score:  79.79455683746812 at random_state=  270\n",
      "score:  67.67887066559639 at random_state=  271\n",
      "score:  73.95221344236982 at random_state=  272\n",
      "score:  77.5346941447817 at random_state=  273\n",
      "score:  76.96330596523804 at random_state=  274\n",
      "score:  73.22612944561912 at random_state=  275\n",
      "score:  77.15529145290996 at random_state=  276\n",
      "score:  76.19867497674589 at random_state=  277\n",
      "score:  70.26893405642352 at random_state=  278\n",
      "score:  74.34238733478892 at random_state=  279\n",
      "score:  72.59125999396548 at random_state=  280\n",
      "score:  77.47244554482526 at random_state=  281\n",
      "score:  78.20986834824176 at random_state=  282\n",
      "score:  74.00459953952523 at random_state=  283\n",
      "score:  73.81835062127638 at random_state=  284\n",
      "score:  73.13349765239604 at random_state=  285\n",
      "score:  75.84658024030227 at random_state=  286\n",
      "score:  67.5021785365832 at random_state=  287\n",
      "score:  70.47494965968988 at random_state=  288\n",
      "score:  74.91927909051887 at random_state=  289\n",
      "score:  75.71942992003422 at random_state=  290\n",
      "score:  79.91154064562495 at random_state=  291\n",
      "score:  74.8551433497427 at random_state=  292\n",
      "score:  71.22614584599158 at random_state=  293\n",
      "score:  71.40614168976842 at random_state=  294\n",
      "score:  71.44096447163668 at random_state=  295\n",
      "score:  72.08175438842396 at random_state=  296\n",
      "score:  77.07825701944729 at random_state=  297\n",
      "score:  71.80904871458327 at random_state=  298\n",
      "score:  77.3829873834379 at random_state=  299\n",
      "score:  76.02841592812814 at random_state=  300\n",
      "score:  72.17071034348663 at random_state=  301\n",
      "score:  81.50485287934033 at random_state=  302\n",
      "score:  76.67439206074779 at random_state=  303\n",
      "score:  72.88786694010294 at random_state=  304\n",
      "score:  74.34041852667164 at random_state=  305\n",
      "score:  70.33405503636942 at random_state=  306\n",
      "score:  75.13408102372743 at random_state=  307\n",
      "score:  74.32513479144708 at random_state=  308\n",
      "score:  78.06726617961375 at random_state=  309\n",
      "score:  75.11497922863215 at random_state=  310\n",
      "score:  75.1011272311353 at random_state=  311\n",
      "score:  74.68852826833327 at random_state=  312\n",
      "score:  70.99650076895516 at random_state=  313\n",
      "score:  75.76708998021789 at random_state=  314\n",
      "score:  80.82826983029699 at random_state=  315\n",
      "score:  76.26143604243393 at random_state=  316\n",
      "score:  74.09781967577453 at random_state=  317\n",
      "score:  74.79648685131546 at random_state=  318\n",
      "score:  72.55249149982454 at random_state=  319\n",
      "score:  75.55530140879318 at random_state=  320\n",
      "score:  70.85085303164617 at random_state=  321\n",
      "score:  73.57380763846706 at random_state=  322\n",
      "score:  73.63382720031144 at random_state=  323\n",
      "score:  72.41804223516816 at random_state=  324\n",
      "score:  81.76583007067195 at random_state=  325\n",
      "score:  75.05793484015936 at random_state=  326\n",
      "score:  77.52505896810898 at random_state=  327\n",
      "score:  73.55213708284323 at random_state=  328\n",
      "score:  69.55746761526301 at random_state=  329\n",
      "score:  73.1710739705994 at random_state=  330\n",
      "score:  70.50407537500546 at random_state=  331\n",
      "score:  72.0432582950117 at random_state=  332\n",
      "score:  77.12993740041779 at random_state=  333\n",
      "score:  75.31781872118022 at random_state=  334\n",
      "score:  75.59197422793686 at random_state=  335\n",
      "score:  70.14944625912972 at random_state=  336\n",
      "score:  74.88394711877648 at random_state=  337\n",
      "score:  72.36805277065737 at random_state=  338\n",
      "score:  77.47861586028085 at random_state=  339\n",
      "score:  79.16701879344616 at random_state=  340\n",
      "score:  77.73399668514186 at random_state=  341\n",
      "score:  78.55232425268714 at random_state=  342\n",
      "score:  76.50660300605671 at random_state=  343\n",
      "score:  75.52051585147751 at random_state=  344\n",
      "score:  71.69892736773357 at random_state=  345\n",
      "score:  74.93947299665813 at random_state=  346\n",
      "score:  77.27564668253275 at random_state=  347\n",
      "score:  71.14777050300553 at random_state=  348\n",
      "score:  75.32682049677861 at random_state=  349\n",
      "score:  77.18927199155925 at random_state=  350\n",
      "score:  71.18549511485416 at random_state=  351\n",
      "score:  73.29526966449424 at random_state=  352\n",
      "score:  73.38766777387443 at random_state=  353\n",
      "score:  75.73990080287825 at random_state=  354\n",
      "score:  74.7643716865194 at random_state=  355\n",
      "score:  75.29766444810184 at random_state=  356\n",
      "score:  74.19816175818212 at random_state=  357\n",
      "score:  70.56642983207186 at random_state=  358\n",
      "score:  75.21686382570776 at random_state=  359\n",
      "score:  77.81922985094508 at random_state=  360\n",
      "score:  71.93424607241492 at random_state=  361\n",
      "score:  69.32225642277452 at random_state=  362\n",
      "score:  75.21287158379837 at random_state=  363\n",
      "score:  73.43555174061899 at random_state=  364\n",
      "score:  70.96625153814307 at random_state=  365\n",
      "score:  77.82423581316705 at random_state=  366\n",
      "score:  74.5370503162319 at random_state=  367\n",
      "score:  71.23969433927202 at random_state=  368\n",
      "score:  77.78787644481312 at random_state=  369\n",
      "score:  82.6151781801355 at random_state=  370\n",
      "score:  78.19785613457117 at random_state=  371\n",
      "score:  73.26681573710532 at random_state=  372\n",
      "score:  82.12438438350227 at random_state=  373\n",
      "score:  77.7007233691342 at random_state=  374\n",
      "score:  79.84737112258365 at random_state=  375\n",
      "score:  74.9851284417949 at random_state=  376\n",
      "score:  77.85438466412712 at random_state=  377\n",
      "score:  73.65096638384078 at random_state=  378\n",
      "score:  73.8803626510097 at random_state=  379\n",
      "score:  76.54498401966899 at random_state=  380\n",
      "score:  69.75782245933222 at random_state=  381\n",
      "score:  79.60451001750666 at random_state=  382\n",
      "score:  76.75783360320952 at random_state=  383\n",
      "score:  78.50632817194086 at random_state=  384\n",
      "score:  68.41223361225437 at random_state=  385\n",
      "score:  72.73168378337954 at random_state=  386\n",
      "score:  77.03541263092617 at random_state=  387\n",
      "score:  74.76014796831127 at random_state=  388\n",
      "score:  76.9889913133056 at random_state=  389\n",
      "score:  76.30954502943506 at random_state=  390\n",
      "score:  75.79971528898399 at random_state=  391\n",
      "score:  76.7582603640015 at random_state=  392\n",
      "score:  72.73072805360641 at random_state=  393\n",
      "score:  72.03150321323572 at random_state=  394\n",
      "score:  76.28664559500487 at random_state=  395\n",
      "score:  75.06706848884927 at random_state=  396\n",
      "score:  73.34874998513817 at random_state=  397\n",
      "score:  71.44140506440161 at random_state=  398\n",
      "score:  75.89693636920506 at random_state=  399\n",
      "score:  70.55707224585154 at random_state=  400\n",
      "score:  76.14845497560422 at random_state=  401\n",
      "score:  77.14246207540994 at random_state=  402\n",
      "score:  74.44906388539098 at random_state=  403\n",
      "score:  75.1054529692608 at random_state=  404\n",
      "score:  77.82701279431932 at random_state=  405\n",
      "score:  74.75619226595309 at random_state=  406\n",
      "score:  75.94319730722717 at random_state=  407\n",
      "score:  76.17770800130539 at random_state=  408\n",
      "score:  74.73973372326586 at random_state=  409\n",
      "score:  76.60056659919124 at random_state=  410\n",
      "score:  73.91919214196031 at random_state=  411\n",
      "score:  71.09673709230438 at random_state=  412\n",
      "score:  78.69737801055776 at random_state=  413\n",
      "score:  76.0057358999322 at random_state=  414\n",
      "score:  75.39906226664996 at random_state=  415\n",
      "score:  78.78790878457401 at random_state=  416\n",
      "score:  75.47558639486978 at random_state=  417\n",
      "score:  76.40008460154974 at random_state=  418\n",
      "score:  73.28765436329306 at random_state=  419\n",
      "score:  73.06373112220648 at random_state=  420\n",
      "score:  75.56525155350155 at random_state=  421\n",
      "score:  72.94219805670437 at random_state=  422\n",
      "score:  69.4702599329303 at random_state=  423\n",
      "score:  75.27732889884045 at random_state=  424\n",
      "score:  76.47478402702359 at random_state=  425\n",
      "score:  75.31573709420762 at random_state=  426\n",
      "score:  72.07659693064244 at random_state=  427\n",
      "score:  68.42284618991563 at random_state=  428\n",
      "score:  75.9134328322951 at random_state=  429\n",
      "score:  74.4647898183469 at random_state=  430\n",
      "score:  77.67289273796814 at random_state=  431\n",
      "score:  72.51083618384007 at random_state=  432\n",
      "score:  78.30350175608376 at random_state=  433\n",
      "score:  78.20109036950875 at random_state=  434\n",
      "score:  70.59825293543562 at random_state=  435\n",
      "score:  79.72861836283947 at random_state=  436\n",
      "score:  76.9026718203364 at random_state=  437\n",
      "score:  65.12430027110551 at random_state=  438\n",
      "score:  73.690620092601 at random_state=  439\n",
      "score:  77.94267719085083 at random_state=  440\n",
      "score:  75.10173657926867 at random_state=  441\n",
      "score:  60.86683907909847 at random_state=  442\n",
      "score:  78.25919563905535 at random_state=  443\n",
      "score:  73.09510149244676 at random_state=  444\n",
      "score:  71.1489038618154 at random_state=  445\n",
      "score:  66.25532216045445 at random_state=  446\n",
      "score:  78.43932521753207 at random_state=  447\n",
      "score:  78.24858595234203 at random_state=  448\n",
      "score:  75.16117719000707 at random_state=  449\n",
      "score:  75.24568964714891 at random_state=  450\n",
      "score:  77.67538782168123 at random_state=  451\n",
      "score:  68.17764859032198 at random_state=  452\n",
      "score:  78.38828646302574 at random_state=  453\n",
      "score:  75.77890727214003 at random_state=  454\n",
      "score:  76.28561755839488 at random_state=  455\n",
      "score:  72.36497365718165 at random_state=  456\n",
      "score:  71.2009151786766 at random_state=  457\n",
      "score:  75.0295386853726 at random_state=  458\n",
      "score:  70.15061637917239 at random_state=  459\n",
      "score:  75.47167186887921 at random_state=  460\n",
      "score:  73.52675679676794 at random_state=  461\n",
      "score:  67.6095230297253 at random_state=  462\n",
      "score:  77.2867956507962 at random_state=  463\n",
      "score:  68.897666674436 at random_state=  464\n",
      "score:  72.10646296696291 at random_state=  465\n",
      "score:  72.04303871330147 at random_state=  466\n",
      "score:  77.13918410829783 at random_state=  467\n",
      "score:  72.58748723843651 at random_state=  468\n",
      "score:  79.08066856430806 at random_state=  469\n",
      "score:  75.77521468482833 at random_state=  470\n",
      "score:  70.94025279624219 at random_state=  471\n",
      "score:  79.30538094370986 at random_state=  472\n",
      "score:  73.85352264936567 at random_state=  473\n",
      "score:  73.69401944830398 at random_state=  474\n",
      "score:  76.70894963131818 at random_state=  475\n",
      "score:  79.12732342573108 at random_state=  476\n",
      "score:  71.33576428966425 at random_state=  477\n",
      "score:  75.86400168401673 at random_state=  478\n",
      "score:  75.76983036401005 at random_state=  479\n",
      "score:  78.01375166830759 at random_state=  480\n",
      "score:  72.7325254848231 at random_state=  481\n",
      "score:  70.16182249031493 at random_state=  482\n",
      "score:  77.02934588584827 at random_state=  483\n",
      "score:  73.78923595033744 at random_state=  484\n",
      "score:  70.18913191294948 at random_state=  485\n",
      "score:  74.08090827402965 at random_state=  486\n",
      "score:  72.52141178584243 at random_state=  487\n",
      "score:  76.54537908865655 at random_state=  488\n",
      "score:  74.90240615710866 at random_state=  489\n",
      "score:  75.95188313333449 at random_state=  490\n",
      "score:  71.91387028160328 at random_state=  491\n",
      "score:  77.93449729906077 at random_state=  492\n",
      "score:  81.44641076247208 at random_state=  493\n",
      "score:  78.54205583595021 at random_state=  494\n",
      "score:  74.93765817899506 at random_state=  495\n",
      "score:  77.6284135135626 at random_state=  496\n",
      "score:  69.5871735687653 at random_state=  497\n",
      "score:  75.4716019791425 at random_state=  498\n",
      "score:  79.16881050913969 at random_state=  499\n",
      "score:  74.05323855933656 at random_state=  500\n",
      "score:  79.42521489063856 at random_state=  501\n",
      "score:  72.28544677590958 at random_state=  502\n",
      "score:  77.86294579590408 at random_state=  503\n",
      "score:  73.90540259095195 at random_state=  504\n",
      "score:  72.11884994506944 at random_state=  505\n",
      "score:  71.92721991098153 at random_state=  506\n",
      "score:  79.84034529568436 at random_state=  507\n",
      "score:  76.28179417249459 at random_state=  508\n",
      "score:  69.4354906825658 at random_state=  509\n",
      "score:  73.71467696854522 at random_state=  510\n",
      "score:  75.98505470214039 at random_state=  511\n",
      "score:  73.58556116625594 at random_state=  512\n",
      "score:  78.22470853604926 at random_state=  513\n",
      "score:  67.65115525794411 at random_state=  514\n",
      "score:  76.16414851565038 at random_state=  515\n",
      "score:  76.03403772740593 at random_state=  516\n",
      "score:  75.7248189113186 at random_state=  517\n",
      "score:  72.70917541082751 at random_state=  518\n",
      "score:  78.87673591414296 at random_state=  519\n",
      "score:  76.87306871545793 at random_state=  520\n",
      "score:  74.15364407586613 at random_state=  521\n",
      "score:  79.5154998477833 at random_state=  522\n",
      "score:  71.24635457522116 at random_state=  523\n",
      "score:  62.76087079177908 at random_state=  524\n",
      "score:  78.48980040664148 at random_state=  525\n",
      "score:  72.95789601824458 at random_state=  526\n",
      "score:  74.27538416302842 at random_state=  527\n",
      "score:  64.70811824880013 at random_state=  528\n",
      "score:  75.64898263044721 at random_state=  529\n",
      "score:  77.20225752479288 at random_state=  530\n",
      "score:  75.79461694207295 at random_state=  531\n",
      "score:  66.64160779124377 at random_state=  532\n",
      "score:  77.84707251967214 at random_state=  533\n",
      "score:  70.91243587843871 at random_state=  534\n",
      "score:  66.01669094578624 at random_state=  535\n",
      "score:  73.42428361423212 at random_state=  536\n",
      "score:  67.22091790643955 at random_state=  537\n",
      "score:  73.22176066530115 at random_state=  538\n",
      "score:  73.87999754342638 at random_state=  539\n",
      "score:  74.660299477754 at random_state=  540\n",
      "score:  78.72759132645226 at random_state=  541\n",
      "score:  79.952966440885 at random_state=  542\n",
      "score:  73.15945392773318 at random_state=  543\n",
      "score:  68.14336044885235 at random_state=  544\n",
      "score:  73.96894670963033 at random_state=  545\n",
      "score:  73.25677654697573 at random_state=  546\n",
      "score:  77.41791102022391 at random_state=  547\n",
      "score:  71.56980527298427 at random_state=  548\n",
      "score:  74.8577813794734 at random_state=  549\n",
      "score:  73.19302825589735 at random_state=  550\n",
      "score:  74.81532255894636 at random_state=  551\n",
      "score:  75.65779886575616 at random_state=  552\n",
      "score:  75.84841652315124 at random_state=  553\n",
      "score:  69.9117696970808 at random_state=  554\n",
      "score:  67.86417863896523 at random_state=  555\n",
      "score:  67.13028865537132 at random_state=  556\n",
      "score:  74.06136237028814 at random_state=  557\n",
      "score:  76.78390898461451 at random_state=  558\n",
      "score:  67.47397312128534 at random_state=  559\n",
      "score:  76.72141483692705 at random_state=  560\n",
      "score:  79.2979957375641 at random_state=  561\n",
      "score:  78.06437723824551 at random_state=  562\n",
      "score:  81.14933617732618 at random_state=  563\n",
      "score:  76.83722579785852 at random_state=  564\n",
      "score:  74.37182121614245 at random_state=  565\n",
      "score:  76.33310640975823 at random_state=  566\n",
      "score:  75.69717853229496 at random_state=  567\n",
      "score:  81.79317582436876 at random_state=  568\n",
      "score:  79.78445544514705 at random_state=  569\n",
      "score:  73.42390744179679 at random_state=  570\n",
      "score:  77.58665387332331 at random_state=  571\n",
      "score:  75.97469797939152 at random_state=  572\n",
      "score:  77.24837529338073 at random_state=  573\n",
      "score:  73.6253011604784 at random_state=  574\n",
      "score:  78.78559381889076 at random_state=  575\n",
      "score:  67.05315859552657 at random_state=  576\n",
      "score:  73.466888031599 at random_state=  577\n",
      "score:  78.22511451734869 at random_state=  578\n",
      "score:  71.13021231514847 at random_state=  579\n",
      "score:  70.65995070599926 at random_state=  580\n",
      "score:  70.85244802387818 at random_state=  581\n",
      "score:  78.54280180245692 at random_state=  582\n",
      "score:  75.85100140512799 at random_state=  583\n",
      "score:  72.94922306463722 at random_state=  584\n",
      "score:  80.2203780128385 at random_state=  585\n",
      "score:  72.47233663195247 at random_state=  586\n",
      "score:  76.18018727911931 at random_state=  587\n",
      "score:  78.35428527325561 at random_state=  588\n",
      "score:  74.14363440120376 at random_state=  589\n",
      "score:  78.23428141099289 at random_state=  590\n",
      "score:  74.47578676360183 at random_state=  591\n",
      "score:  75.6133176488858 at random_state=  592\n",
      "score:  71.08646110148601 at random_state=  593\n",
      "score:  79.42495198509522 at random_state=  594\n",
      "score:  61.16599914216394 at random_state=  595\n",
      "score:  71.027256301586 at random_state=  596\n",
      "score:  75.51695898687775 at random_state=  597\n",
      "score:  71.20380383429963 at random_state=  598\n",
      "score:  80.19726632787479 at random_state=  599\n",
      "score:  72.043163974587 at random_state=  600\n",
      "score:  74.3645617884982 at random_state=  601\n",
      "score:  69.21567843782523 at random_state=  602\n",
      "score:  72.49412770515565 at random_state=  603\n",
      "score:  71.9328529105788 at random_state=  604\n",
      "score:  76.43351183944557 at random_state=  605\n",
      "score:  70.16651681324 at random_state=  606\n",
      "score:  73.06606012109191 at random_state=  607\n",
      "score:  74.35110873895937 at random_state=  608\n",
      "score:  77.50992051600547 at random_state=  609\n",
      "score:  76.196739170654 at random_state=  610\n",
      "score:  74.25119142836702 at random_state=  611\n",
      "score:  72.15923303291207 at random_state=  612\n",
      "score:  76.40047836428471 at random_state=  613\n",
      "score:  75.35117879902535 at random_state=  614\n",
      "score:  75.06772787821967 at random_state=  615\n",
      "score:  78.16534870020479 at random_state=  616\n",
      "score:  76.97940442157673 at random_state=  617\n",
      "score:  77.64290605655724 at random_state=  618\n",
      "score:  78.60710286640207 at random_state=  619\n",
      "score:  74.4919113937125 at random_state=  620\n",
      "score:  79.51522819366048 at random_state=  621\n",
      "score:  74.8335745209851 at random_state=  622\n",
      "score:  76.84976907754238 at random_state=  623\n",
      "score:  71.17955998108367 at random_state=  624\n",
      "score:  62.30303449566321 at random_state=  625\n",
      "score:  74.77759316976234 at random_state=  626\n",
      "score:  75.33282424749292 at random_state=  627\n",
      "score:  74.13801985072178 at random_state=  628\n",
      "score:  74.949701370814 at random_state=  629\n",
      "score:  74.76810706052339 at random_state=  630\n",
      "score:  76.74455280851119 at random_state=  631\n",
      "score:  74.2501938957838 at random_state=  632\n",
      "score:  76.32196253687873 at random_state=  633\n",
      "score:  73.82734704966677 at random_state=  634\n",
      "score:  74.43453950318543 at random_state=  635\n",
      "score:  70.25634183844218 at random_state=  636\n",
      "score:  75.6798079032859 at random_state=  637\n",
      "score:  66.53103539940642 at random_state=  638\n",
      "score:  75.74987102456338 at random_state=  639\n",
      "score:  75.31593760596367 at random_state=  640\n",
      "score:  76.73693129272057 at random_state=  641\n",
      "score:  76.98947555961783 at random_state=  642\n",
      "score:  70.08858042014899 at random_state=  643\n",
      "score:  80.23778516894882 at random_state=  644\n",
      "score:  72.29391490332601 at random_state=  645\n",
      "score:  73.65977148778298 at random_state=  646\n",
      "score:  73.00298707100295 at random_state=  647\n",
      "score:  72.6840157623195 at random_state=  648\n",
      "score:  76.22884974552065 at random_state=  649\n",
      "score:  75.68733489151109 at random_state=  650\n",
      "score:  74.09790915454728 at random_state=  651\n",
      "score:  77.89885769360788 at random_state=  652\n",
      "score:  74.20255402599388 at random_state=  653\n",
      "score:  68.12297267489319 at random_state=  654\n",
      "score:  76.51902167326995 at random_state=  655\n",
      "score:  74.082785102103 at random_state=  656\n",
      "score:  74.592241141478 at random_state=  657\n",
      "score:  77.27001051984365 at random_state=  658\n",
      "score:  69.46674339846217 at random_state=  659\n",
      "score:  72.21102766303757 at random_state=  660\n",
      "score:  77.63887531610803 at random_state=  661\n",
      "score:  73.14757625588354 at random_state=  662\n",
      "score:  76.42353098921362 at random_state=  663\n",
      "score:  75.63200704894881 at random_state=  664\n",
      "score:  76.03453846023238 at random_state=  665\n",
      "score:  76.78788306537197 at random_state=  666\n",
      "score:  71.18884729738335 at random_state=  667\n",
      "score:  71.63181904949786 at random_state=  668\n",
      "score:  73.6857895726244 at random_state=  669\n",
      "score:  76.07572561824023 at random_state=  670\n",
      "score:  74.86116811095458 at random_state=  671\n",
      "score:  79.07026924183258 at random_state=  672\n",
      "score:  76.10576957031184 at random_state=  673\n",
      "score:  73.74972821690157 at random_state=  674\n",
      "score:  77.42442991965503 at random_state=  675\n",
      "score:  79.15655866281482 at random_state=  676\n",
      "score:  73.42943733462847 at random_state=  677\n",
      "score:  69.95175656504512 at random_state=  678\n",
      "score:  79.27043805249015 at random_state=  679\n",
      "score:  72.97012312418613 at random_state=  680\n",
      "score:  74.74898333742765 at random_state=  681\n",
      "score:  73.78757227293401 at random_state=  682\n",
      "score:  79.5433915997851 at random_state=  683\n",
      "score:  66.15532352627388 at random_state=  684\n",
      "score:  75.3613251498528 at random_state=  685\n",
      "score:  74.62252555658199 at random_state=  686\n",
      "score:  70.31744856087947 at random_state=  687\n",
      "score:  77.76742767345556 at random_state=  688\n",
      "score:  80.27610899563409 at random_state=  689\n",
      "score:  79.60052382292697 at random_state=  690\n",
      "score:  75.73832399805778 at random_state=  691\n",
      "score:  76.25489965404792 at random_state=  692\n",
      "score:  77.00297017557097 at random_state=  693\n",
      "score:  75.70863549277287 at random_state=  694\n",
      "score:  70.82759070508894 at random_state=  695\n",
      "score:  76.73559633594336 at random_state=  696\n",
      "score:  70.75202938304952 at random_state=  697\n",
      "score:  76.77908036177999 at random_state=  698\n",
      "score:  77.27671781594792 at random_state=  699\n",
      "score:  70.96676004708445 at random_state=  700\n",
      "score:  74.64030881949304 at random_state=  701\n",
      "score:  76.13422891391346 at random_state=  702\n",
      "score:  75.86154477088246 at random_state=  703\n",
      "score:  77.22118881108636 at random_state=  704\n",
      "score:  73.29609455705659 at random_state=  705\n",
      "score:  76.15060741841194 at random_state=  706\n",
      "score:  72.23335557490348 at random_state=  707\n",
      "score:  71.37131626133566 at random_state=  708\n",
      "score:  75.63965331854394 at random_state=  709\n",
      "score:  76.80199451226517 at random_state=  710\n",
      "score:  75.51006971644756 at random_state=  711\n",
      "score:  76.64733464706008 at random_state=  712\n",
      "score:  73.2833663513747 at random_state=  713\n",
      "score:  74.47801521844926 at random_state=  714\n",
      "score:  75.86749735076367 at random_state=  715\n",
      "score:  74.0905703968494 at random_state=  716\n",
      "score:  79.55361574357656 at random_state=  717\n",
      "score:  74.95763212517434 at random_state=  718\n",
      "score:  77.05323465486141 at random_state=  719\n",
      "score:  73.68083180893427 at random_state=  720\n",
      "score:  76.76722659902842 at random_state=  721\n",
      "score:  77.11520851944046 at random_state=  722\n",
      "score:  76.15591729811769 at random_state=  723\n",
      "score:  74.70102971570329 at random_state=  724\n",
      "score:  67.63847834479778 at random_state=  725\n",
      "score:  73.69354794380055 at random_state=  726\n",
      "score:  71.80215191426372 at random_state=  727\n",
      "score:  80.84957298407457 at random_state=  728\n",
      "score:  76.68461821350543 at random_state=  729\n",
      "score:  76.14079154290702 at random_state=  730\n",
      "score:  77.11518914786055 at random_state=  731\n",
      "score:  73.30980753878285 at random_state=  732\n",
      "score:  75.07229256442011 at random_state=  733\n",
      "score:  77.88451399769684 at random_state=  734\n",
      "score:  76.59423124198472 at random_state=  735\n",
      "score:  80.38109451643673 at random_state=  736\n",
      "score:  76.51666727964412 at random_state=  737\n",
      "score:  76.22244848642013 at random_state=  738\n",
      "score:  75.49731625436932 at random_state=  739\n",
      "score:  70.18424354790308 at random_state=  740\n",
      "score:  77.29647705243498 at random_state=  741\n",
      "score:  74.24140906122774 at random_state=  742\n",
      "score:  75.01352330300051 at random_state=  743\n",
      "score:  72.25979148943591 at random_state=  744\n",
      "score:  76.25460738496986 at random_state=  745\n",
      "score:  79.96827997234752 at random_state=  746\n",
      "score:  69.32350451780383 at random_state=  747\n",
      "score:  76.78475444552691 at random_state=  748\n",
      "score:  78.16985819046268 at random_state=  749\n",
      "score:  75.757445534843 at random_state=  750\n",
      "score:  72.78442671649776 at random_state=  751\n",
      "score:  75.73070028928663 at random_state=  752\n",
      "score:  73.83531584906055 at random_state=  753\n",
      "score:  79.0957301411343 at random_state=  754\n",
      "score:  69.80106529927428 at random_state=  755\n",
      "score:  74.30711793978072 at random_state=  756\n",
      "score:  75.75073745059059 at random_state=  757\n",
      "score:  73.40037558760073 at random_state=  758\n",
      "score:  73.02578853225249 at random_state=  759\n",
      "score:  74.71615443081033 at random_state=  760\n",
      "score:  75.01676276895473 at random_state=  761\n",
      "score:  73.10219261659907 at random_state=  762\n",
      "score:  75.89001114832739 at random_state=  763\n",
      "score:  75.1761430991225 at random_state=  764\n",
      "score:  77.60633957778225 at random_state=  765\n",
      "score:  68.81031955046937 at random_state=  766\n",
      "score:  71.53634836709968 at random_state=  767\n",
      "score:  75.14509537224039 at random_state=  768\n",
      "score:  71.70508604441139 at random_state=  769\n",
      "score:  74.11998064741158 at random_state=  770\n",
      "score:  76.19860581930926 at random_state=  771\n",
      "score:  73.00477921915653 at random_state=  772\n",
      "score:  74.52250431143416 at random_state=  773\n",
      "score:  72.8483714853618 at random_state=  774\n",
      "score:  73.9457253901882 at random_state=  775\n",
      "score:  73.6133613475249 at random_state=  776\n",
      "score:  76.34109025728957 at random_state=  777\n",
      "score:  71.64893838785306 at random_state=  778\n",
      "score:  71.4788865490958 at random_state=  779\n",
      "score:  78.30105005512351 at random_state=  780\n",
      "score:  72.549357792121 at random_state=  781\n",
      "score:  65.28688103092436 at random_state=  782\n",
      "score:  80.3787023695145 at random_state=  783\n",
      "score:  76.53012268257214 at random_state=  784\n",
      "score:  75.96315041779907 at random_state=  785\n",
      "score:  70.98751655243031 at random_state=  786\n",
      "score:  74.09274365073676 at random_state=  787\n",
      "score:  76.14312851108137 at random_state=  788\n",
      "score:  76.92096933143235 at random_state=  789\n",
      "score:  72.88519056414144 at random_state=  790\n",
      "score:  73.4234326375826 at random_state=  791\n",
      "score:  79.43352153269012 at random_state=  792\n",
      "score:  73.37363889248219 at random_state=  793\n",
      "score:  76.8145459754715 at random_state=  794\n",
      "score:  75.70881900766291 at random_state=  795\n",
      "score:  63.56093766926657 at random_state=  796\n",
      "score:  77.33381723434226 at random_state=  797\n",
      "score:  75.72776205267446 at random_state=  798\n",
      "score:  73.30374251418101 at random_state=  799\n",
      "score:  76.40343565623644 at random_state=  800\n",
      "score:  74.31604764875387 at random_state=  801\n",
      "score:  70.96195386375335 at random_state=  802\n",
      "score:  68.66150586164588 at random_state=  803\n",
      "score:  72.45209514287157 at random_state=  804\n",
      "score:  79.54872185150698 at random_state=  805\n",
      "score:  71.58924545973893 at random_state=  806\n",
      "score:  72.6746200951707 at random_state=  807\n",
      "score:  81.10708457639839 at random_state=  808\n",
      "score:  70.51766322073615 at random_state=  809\n",
      "score:  78.18620635081143 at random_state=  810\n",
      "score:  65.85470722385027 at random_state=  811\n",
      "score:  74.43250279561778 at random_state=  812\n",
      "score:  74.64037642516703 at random_state=  813\n",
      "score:  78.23148253967183 at random_state=  814\n",
      "score:  72.02745463561328 at random_state=  815\n",
      "score:  76.77396305393157 at random_state=  816\n",
      "score:  76.58687962910986 at random_state=  817\n",
      "score:  76.16779379513456 at random_state=  818\n",
      "score:  74.17089904916973 at random_state=  819\n",
      "score:  62.51516282253433 at random_state=  820\n",
      "score:  71.33009123654914 at random_state=  821\n",
      "score:  73.23798260006195 at random_state=  822\n",
      "score:  61.73945664614748 at random_state=  823\n",
      "score:  78.07552633290868 at random_state=  824\n",
      "score:  72.7438462398611 at random_state=  825\n",
      "score:  67.83344943350532 at random_state=  826\n",
      "score:  76.11002644100968 at random_state=  827\n",
      "score:  77.6564463265011 at random_state=  828\n",
      "score:  72.50844467017703 at random_state=  829\n",
      "score:  75.40976036333404 at random_state=  830\n",
      "score:  74.61436469364952 at random_state=  831\n",
      "score:  72.6959983826221 at random_state=  832\n",
      "score:  80.45871809466072 at random_state=  833\n",
      "score:  77.037677385825 at random_state=  834\n",
      "score:  76.3014560005179 at random_state=  835\n",
      "score:  74.98590849176611 at random_state=  836\n",
      "score:  72.55088380336517 at random_state=  837\n",
      "score:  74.9442493325363 at random_state=  838\n",
      "score:  78.80288321550086 at random_state=  839\n",
      "score:  70.94294879231524 at random_state=  840\n",
      "score:  79.73550550614176 at random_state=  841\n",
      "score:  73.85734737916647 at random_state=  842\n",
      "score:  74.14871639391303 at random_state=  843\n",
      "score:  71.99318784355432 at random_state=  844\n",
      "score:  75.63637226954799 at random_state=  845\n",
      "score:  76.07742340827588 at random_state=  846\n",
      "score:  71.5731027427187 at random_state=  847\n",
      "score:  76.5992981532765 at random_state=  848\n",
      "score:  78.11570206879495 at random_state=  849\n",
      "score:  74.40697105648265 at random_state=  850\n",
      "score:  72.78091704486489 at random_state=  851\n",
      "score:  78.12033627687353 at random_state=  852\n",
      "score:  74.8534921452222 at random_state=  853\n",
      "score:  70.52130489409672 at random_state=  854\n",
      "score:  77.0543369849662 at random_state=  855\n",
      "score:  65.10143956367449 at random_state=  856\n",
      "score:  78.16959578749906 at random_state=  857\n",
      "score:  68.90549978540702 at random_state=  858\n",
      "score:  75.30727552621094 at random_state=  859\n",
      "score:  72.60682479147277 at random_state=  860\n",
      "score:  78.79172211634176 at random_state=  861\n",
      "score:  73.32205776337918 at random_state=  862\n",
      "score:  73.58325555330723 at random_state=  863\n",
      "score:  74.9022569659344 at random_state=  864\n",
      "score:  70.67029011370842 at random_state=  865\n",
      "score:  78.67224521390973 at random_state=  866\n",
      "score:  74.60012064614529 at random_state=  867\n",
      "score:  76.41449611591922 at random_state=  868\n",
      "score:  75.64545867123485 at random_state=  869\n",
      "score:  74.30584794931882 at random_state=  870\n",
      "score:  77.13328178348256 at random_state=  871\n",
      "score:  70.76110874110941 at random_state=  872\n",
      "score:  70.47027827147846 at random_state=  873\n",
      "score:  75.76857672392585 at random_state=  874\n",
      "score:  77.04622508522071 at random_state=  875\n",
      "score:  71.76155601170115 at random_state=  876\n",
      "score:  71.48133900403121 at random_state=  877\n",
      "score:  79.572106989138 at random_state=  878\n",
      "score:  77.08637500582296 at random_state=  879\n",
      "score:  77.52265694365764 at random_state=  880\n",
      "score:  74.0370695026142 at random_state=  881\n",
      "score:  69.48557968560034 at random_state=  882\n",
      "score:  75.38163655302317 at random_state=  883\n",
      "score:  71.71296529802953 at random_state=  884\n",
      "score:  71.05524236870318 at random_state=  885\n",
      "score:  77.82518019987884 at random_state=  886\n",
      "score:  70.61093228540341 at random_state=  887\n",
      "score:  70.29208701839532 at random_state=  888\n",
      "score:  74.95482456971531 at random_state=  889\n",
      "score:  74.77630896159948 at random_state=  890\n",
      "score:  76.36255433570392 at random_state=  891\n",
      "score:  74.14309183573478 at random_state=  892\n",
      "score:  74.43681919905333 at random_state=  893\n",
      "score:  77.68690541696319 at random_state=  894\n",
      "score:  79.12387242672034 at random_state=  895\n",
      "score:  77.09828784712238 at random_state=  896\n",
      "score:  76.49890637159173 at random_state=  897\n",
      "score:  75.97021693557696 at random_state=  898\n",
      "score:  66.93221256634438 at random_state=  899\n",
      "score:  75.9971905112708 at random_state=  900\n",
      "score:  70.44475364083651 at random_state=  901\n",
      "score:  70.67064218339412 at random_state=  902\n",
      "score:  75.45985086454766 at random_state=  903\n",
      "score:  69.79544910179513 at random_state=  904\n",
      "score:  72.43342909268992 at random_state=  905\n",
      "score:  75.4515094406962 at random_state=  906\n",
      "score:  76.8589436630013 at random_state=  907\n",
      "score:  73.72139840292134 at random_state=  908\n",
      "score:  72.5225967884396 at random_state=  909\n",
      "score:  72.76193111083617 at random_state=  910\n",
      "score:  73.0540312042356 at random_state=  911\n",
      "score:  74.92831511629072 at random_state=  912\n",
      "score:  75.0581561167153 at random_state=  913\n",
      "score:  71.75564697397783 at random_state=  914\n",
      "score:  73.56113147704544 at random_state=  915\n",
      "score:  71.39043266123063 at random_state=  916\n",
      "score:  76.8979495549298 at random_state=  917\n",
      "score:  77.16564152336102 at random_state=  918\n",
      "score:  78.67180373341228 at random_state=  919\n",
      "score:  74.50536917333703 at random_state=  920\n",
      "score:  77.84221313916717 at random_state=  921\n",
      "score:  75.33538347642323 at random_state=  922\n",
      "score:  73.89499693297492 at random_state=  923\n",
      "score:  69.52689460075439 at random_state=  924\n",
      "score:  70.3492386456504 at random_state=  925\n",
      "score:  74.2962702308644 at random_state=  926\n",
      "score:  82.24941393089202 at random_state=  927\n",
      "score:  79.27200663083977 at random_state=  928\n",
      "score:  69.13403600850934 at random_state=  929\n",
      "score:  73.71220358019362 at random_state=  930\n",
      "score:  75.09148845922635 at random_state=  931\n",
      "score:  75.68975765708007 at random_state=  932\n",
      "score:  77.98053178519064 at random_state=  933\n",
      "score:  79.24214491693549 at random_state=  934\n",
      "score:  77.00656437050904 at random_state=  935\n",
      "score:  73.90282870626822 at random_state=  936\n",
      "score:  76.63018163306373 at random_state=  937\n",
      "score:  73.19825842000589 at random_state=  938\n",
      "score:  74.71728042382087 at random_state=  939\n",
      "score:  71.99033241668879 at random_state=  940\n",
      "score:  77.64589511440091 at random_state=  941\n",
      "score:  70.97843282620096 at random_state=  942\n",
      "score:  74.26015157297645 at random_state=  943\n",
      "score:  74.55833030653494 at random_state=  944\n",
      "score:  74.84997645824403 at random_state=  945\n",
      "score:  74.03257292108243 at random_state=  946\n",
      "score:  73.6208232744624 at random_state=  947\n",
      "score:  78.30548141155285 at random_state=  948\n",
      "score:  78.11645647144236 at random_state=  949\n",
      "score:  79.15323458331567 at random_state=  950\n",
      "score:  76.98981710067618 at random_state=  951\n",
      "score:  76.24693099131795 at random_state=  952\n",
      "score:  72.03644250818847 at random_state=  953\n",
      "score:  77.23403222087846 at random_state=  954\n",
      "score:  76.97997484189953 at random_state=  955\n",
      "score:  74.4999156141214 at random_state=  956\n",
      "score:  70.10728422109209 at random_state=  957\n",
      "score:  72.45049880717656 at random_state=  958\n",
      "score:  71.691507863517 at random_state=  959\n",
      "score:  74.06790479168465 at random_state=  960\n",
      "score:  79.36668213780925 at random_state=  961\n",
      "score:  77.00943822636184 at random_state=  962\n",
      "score:  77.1628661027536 at random_state=  963\n",
      "score:  73.63564879535866 at random_state=  964\n",
      "score:  75.78753237277691 at random_state=  965\n",
      "score:  76.2445045594032 at random_state=  966\n",
      "score:  69.80111275218299 at random_state=  967\n",
      "score:  69.41301703275839 at random_state=  968\n",
      "score:  71.00344833771099 at random_state=  969\n",
      "score:  72.65104874470612 at random_state=  970\n",
      "score:  75.89798211192273 at random_state=  971\n",
      "score:  74.32104612338887 at random_state=  972\n",
      "score:  72.070381320951 at random_state=  973\n",
      "score:  71.49541718935292 at random_state=  974\n",
      "score:  77.70376961766041 at random_state=  975\n",
      "score:  71.5241142666859 at random_state=  976\n",
      "score:  74.65986004471607 at random_state=  977\n",
      "score:  75.93373056529444 at random_state=  978\n",
      "score:  76.11783353942064 at random_state=  979\n",
      "score:  76.61751639748127 at random_state=  980\n",
      "score:  75.34976425830688 at random_state=  981\n",
      "score:  74.17020425021452 at random_state=  982\n",
      "score:  71.05697346800154 at random_state=  983\n",
      "score:  65.09448792317924 at random_state=  984\n",
      "score:  78.0957634012431 at random_state=  985\n",
      "score:  78.00656391576506 at random_state=  986\n",
      "score:  75.55526238148171 at random_state=  987\n",
      "score:  76.58233606521922 at random_state=  988\n",
      "score:  62.18298597288053 at random_state=  989\n",
      "score:  71.80688647259818 at random_state=  990\n",
      "score:  67.31168912792069 at random_state=  991\n",
      "score:  77.95568833389284 at random_state=  992\n",
      "score:  78.91560375506661 at random_state=  993\n",
      "score:  79.4228967549748 at random_state=  994\n",
      "score:  74.23343873369375 at random_state=  995\n",
      "score:  73.3447882167432 at random_state=  996\n",
      "score:  75.39674640122989 at random_state=  997\n",
      "score:  72.00779014058365 at random_state=  998\n",
      "score:  73.76589988925937 at random_state=  999\n"
     ]
    }
   ],
   "source": [
    "from sklearn.linear_model import LinearRegression\n",
    "from sklearn.metrics import r2_score\n",
    "for i in range(0,1000):\n",
    "    x_train,x_test,y_train,y_test=train_test_split(x,y,test_size=0.20,random_state=i)\n",
    "    lr=LinearRegression()\n",
    "    lr.fit(x_train,y_train)\n",
    "    predlr=lr.predict(x_test)\n",
    "    score=r2_score(y_test,predlr)\n",
    "    print('score: ' ,score*100,'at random_state= ' ,i)"
   ]
  },
  {
   "cell_type": "code",
   "execution_count": 43,
   "id": "2e06eeb8",
   "metadata": {},
   "outputs": [
    {
     "name": "stdout",
     "output_type": "stream",
     "text": [
      "82.6151781801355\n"
     ]
    }
   ],
   "source": [
    "x_train,x_test,y_train,y_test=train_test_split(x,y,test_size=0.20,random_state=370)\n",
    "lr.fit(x_train,y_train)\n",
    "predlr=lr.predict(x_test)\n",
    "print((r2_score(y_test,predlr))*100)"
   ]
  },
  {
   "cell_type": "code",
   "execution_count": 44,
   "id": "42259579",
   "metadata": {},
   "outputs": [],
   "source": [
    "from sklearn.linear_model import Lasso,Ridge,ElasticNet"
   ]
  },
  {
   "cell_type": "code",
   "execution_count": 45,
   "id": "2a0df876",
   "metadata": {},
   "outputs": [
    {
     "data": {
      "text/html": [
       "<style>#sk-container-id-1 {color: black;background-color: white;}#sk-container-id-1 pre{padding: 0;}#sk-container-id-1 div.sk-toggleable {background-color: white;}#sk-container-id-1 label.sk-toggleable__label {cursor: pointer;display: block;width: 100%;margin-bottom: 0;padding: 0.3em;box-sizing: border-box;text-align: center;}#sk-container-id-1 label.sk-toggleable__label-arrow:before {content: \"▸\";float: left;margin-right: 0.25em;color: #696969;}#sk-container-id-1 label.sk-toggleable__label-arrow:hover:before {color: black;}#sk-container-id-1 div.sk-estimator:hover label.sk-toggleable__label-arrow:before {color: black;}#sk-container-id-1 div.sk-toggleable__content {max-height: 0;max-width: 0;overflow: hidden;text-align: left;background-color: #f0f8ff;}#sk-container-id-1 div.sk-toggleable__content pre {margin: 0.2em;color: black;border-radius: 0.25em;background-color: #f0f8ff;}#sk-container-id-1 input.sk-toggleable__control:checked~div.sk-toggleable__content {max-height: 200px;max-width: 100%;overflow: auto;}#sk-container-id-1 input.sk-toggleable__control:checked~label.sk-toggleable__label-arrow:before {content: \"▾\";}#sk-container-id-1 div.sk-estimator input.sk-toggleable__control:checked~label.sk-toggleable__label {background-color: #d4ebff;}#sk-container-id-1 div.sk-label input.sk-toggleable__control:checked~label.sk-toggleable__label {background-color: #d4ebff;}#sk-container-id-1 input.sk-hidden--visually {border: 0;clip: rect(1px 1px 1px 1px);clip: rect(1px, 1px, 1px, 1px);height: 1px;margin: -1px;overflow: hidden;padding: 0;position: absolute;width: 1px;}#sk-container-id-1 div.sk-estimator {font-family: monospace;background-color: #f0f8ff;border: 1px dotted black;border-radius: 0.25em;box-sizing: border-box;margin-bottom: 0.5em;}#sk-container-id-1 div.sk-estimator:hover {background-color: #d4ebff;}#sk-container-id-1 div.sk-parallel-item::after {content: \"\";width: 100%;border-bottom: 1px solid gray;flex-grow: 1;}#sk-container-id-1 div.sk-label:hover label.sk-toggleable__label {background-color: #d4ebff;}#sk-container-id-1 div.sk-serial::before {content: \"\";position: absolute;border-left: 1px solid gray;box-sizing: border-box;top: 0;bottom: 0;left: 50%;z-index: 0;}#sk-container-id-1 div.sk-serial {display: flex;flex-direction: column;align-items: center;background-color: white;padding-right: 0.2em;padding-left: 0.2em;position: relative;}#sk-container-id-1 div.sk-item {position: relative;z-index: 1;}#sk-container-id-1 div.sk-parallel {display: flex;align-items: stretch;justify-content: center;background-color: white;position: relative;}#sk-container-id-1 div.sk-item::before, #sk-container-id-1 div.sk-parallel-item::before {content: \"\";position: absolute;border-left: 1px solid gray;box-sizing: border-box;top: 0;bottom: 0;left: 50%;z-index: -1;}#sk-container-id-1 div.sk-parallel-item {display: flex;flex-direction: column;z-index: 1;position: relative;background-color: white;}#sk-container-id-1 div.sk-parallel-item:first-child::after {align-self: flex-end;width: 50%;}#sk-container-id-1 div.sk-parallel-item:last-child::after {align-self: flex-start;width: 50%;}#sk-container-id-1 div.sk-parallel-item:only-child::after {width: 0;}#sk-container-id-1 div.sk-dashed-wrapped {border: 1px dashed gray;margin: 0 0.4em 0.5em 0.4em;box-sizing: border-box;padding-bottom: 0.4em;background-color: white;}#sk-container-id-1 div.sk-label label {font-family: monospace;font-weight: bold;display: inline-block;line-height: 1.2em;}#sk-container-id-1 div.sk-label-container {text-align: center;}#sk-container-id-1 div.sk-container {/* jupyter's `normalize.less` sets `[hidden] { display: none; }` but bootstrap.min.css set `[hidden] { display: none !important; }` so we also need the `!important` here to be able to override the default hidden behavior on the sphinx rendered scikit-learn.org. See: https://github.com/scikit-learn/scikit-learn/issues/21755 */display: inline-block !important;position: relative;}#sk-container-id-1 div.sk-text-repr-fallback {display: none;}</style><div id=\"sk-container-id-1\" class=\"sk-top-container\"><div class=\"sk-text-repr-fallback\"><pre>Lasso()</pre><b>In a Jupyter environment, please rerun this cell to show the HTML representation or trust the notebook. <br />On GitHub, the HTML representation is unable to render, please try loading this page with nbviewer.org.</b></div><div class=\"sk-container\" hidden><div class=\"sk-item\"><div class=\"sk-estimator sk-toggleable\"><input class=\"sk-toggleable__control sk-hidden--visually\" id=\"sk-estimator-id-1\" type=\"checkbox\" checked><label for=\"sk-estimator-id-1\" class=\"sk-toggleable__label sk-toggleable__label-arrow\">Lasso</label><div class=\"sk-toggleable__content\"><pre>Lasso()</pre></div></div></div></div></div>"
      ],
      "text/plain": [
       "Lasso()"
      ]
     },
     "execution_count": 45,
     "metadata": {},
     "output_type": "execute_result"
    }
   ],
   "source": [
    "l=Lasso()\n",
    "l.fit(x_train,y_train)"
   ]
  },
  {
   "cell_type": "code",
   "execution_count": 46,
   "id": "f186bfa7",
   "metadata": {},
   "outputs": [
    {
     "data": {
      "text/html": [
       "<style>#sk-container-id-2 {color: black;background-color: white;}#sk-container-id-2 pre{padding: 0;}#sk-container-id-2 div.sk-toggleable {background-color: white;}#sk-container-id-2 label.sk-toggleable__label {cursor: pointer;display: block;width: 100%;margin-bottom: 0;padding: 0.3em;box-sizing: border-box;text-align: center;}#sk-container-id-2 label.sk-toggleable__label-arrow:before {content: \"▸\";float: left;margin-right: 0.25em;color: #696969;}#sk-container-id-2 label.sk-toggleable__label-arrow:hover:before {color: black;}#sk-container-id-2 div.sk-estimator:hover label.sk-toggleable__label-arrow:before {color: black;}#sk-container-id-2 div.sk-toggleable__content {max-height: 0;max-width: 0;overflow: hidden;text-align: left;background-color: #f0f8ff;}#sk-container-id-2 div.sk-toggleable__content pre {margin: 0.2em;color: black;border-radius: 0.25em;background-color: #f0f8ff;}#sk-container-id-2 input.sk-toggleable__control:checked~div.sk-toggleable__content {max-height: 200px;max-width: 100%;overflow: auto;}#sk-container-id-2 input.sk-toggleable__control:checked~label.sk-toggleable__label-arrow:before {content: \"▾\";}#sk-container-id-2 div.sk-estimator input.sk-toggleable__control:checked~label.sk-toggleable__label {background-color: #d4ebff;}#sk-container-id-2 div.sk-label input.sk-toggleable__control:checked~label.sk-toggleable__label {background-color: #d4ebff;}#sk-container-id-2 input.sk-hidden--visually {border: 0;clip: rect(1px 1px 1px 1px);clip: rect(1px, 1px, 1px, 1px);height: 1px;margin: -1px;overflow: hidden;padding: 0;position: absolute;width: 1px;}#sk-container-id-2 div.sk-estimator {font-family: monospace;background-color: #f0f8ff;border: 1px dotted black;border-radius: 0.25em;box-sizing: border-box;margin-bottom: 0.5em;}#sk-container-id-2 div.sk-estimator:hover {background-color: #d4ebff;}#sk-container-id-2 div.sk-parallel-item::after {content: \"\";width: 100%;border-bottom: 1px solid gray;flex-grow: 1;}#sk-container-id-2 div.sk-label:hover label.sk-toggleable__label {background-color: #d4ebff;}#sk-container-id-2 div.sk-serial::before {content: \"\";position: absolute;border-left: 1px solid gray;box-sizing: border-box;top: 0;bottom: 0;left: 50%;z-index: 0;}#sk-container-id-2 div.sk-serial {display: flex;flex-direction: column;align-items: center;background-color: white;padding-right: 0.2em;padding-left: 0.2em;position: relative;}#sk-container-id-2 div.sk-item {position: relative;z-index: 1;}#sk-container-id-2 div.sk-parallel {display: flex;align-items: stretch;justify-content: center;background-color: white;position: relative;}#sk-container-id-2 div.sk-item::before, #sk-container-id-2 div.sk-parallel-item::before {content: \"\";position: absolute;border-left: 1px solid gray;box-sizing: border-box;top: 0;bottom: 0;left: 50%;z-index: -1;}#sk-container-id-2 div.sk-parallel-item {display: flex;flex-direction: column;z-index: 1;position: relative;background-color: white;}#sk-container-id-2 div.sk-parallel-item:first-child::after {align-self: flex-end;width: 50%;}#sk-container-id-2 div.sk-parallel-item:last-child::after {align-self: flex-start;width: 50%;}#sk-container-id-2 div.sk-parallel-item:only-child::after {width: 0;}#sk-container-id-2 div.sk-dashed-wrapped {border: 1px dashed gray;margin: 0 0.4em 0.5em 0.4em;box-sizing: border-box;padding-bottom: 0.4em;background-color: white;}#sk-container-id-2 div.sk-label label {font-family: monospace;font-weight: bold;display: inline-block;line-height: 1.2em;}#sk-container-id-2 div.sk-label-container {text-align: center;}#sk-container-id-2 div.sk-container {/* jupyter's `normalize.less` sets `[hidden] { display: none; }` but bootstrap.min.css set `[hidden] { display: none !important; }` so we also need the `!important` here to be able to override the default hidden behavior on the sphinx rendered scikit-learn.org. See: https://github.com/scikit-learn/scikit-learn/issues/21755 */display: inline-block !important;position: relative;}#sk-container-id-2 div.sk-text-repr-fallback {display: none;}</style><div id=\"sk-container-id-2\" class=\"sk-top-container\"><div class=\"sk-text-repr-fallback\"><pre>Ridge()</pre><b>In a Jupyter environment, please rerun this cell to show the HTML representation or trust the notebook. <br />On GitHub, the HTML representation is unable to render, please try loading this page with nbviewer.org.</b></div><div class=\"sk-container\" hidden><div class=\"sk-item\"><div class=\"sk-estimator sk-toggleable\"><input class=\"sk-toggleable__control sk-hidden--visually\" id=\"sk-estimator-id-2\" type=\"checkbox\" checked><label for=\"sk-estimator-id-2\" class=\"sk-toggleable__label sk-toggleable__label-arrow\">Ridge</label><div class=\"sk-toggleable__content\"><pre>Ridge()</pre></div></div></div></div></div>"
      ],
      "text/plain": [
       "Ridge()"
      ]
     },
     "execution_count": 46,
     "metadata": {},
     "output_type": "execute_result"
    }
   ],
   "source": [
    "r=Ridge()\n",
    "r.fit(x_train,y_train)"
   ]
  },
  {
   "cell_type": "code",
   "execution_count": 47,
   "id": "e664d0a3",
   "metadata": {},
   "outputs": [
    {
     "data": {
      "text/html": [
       "<style>#sk-container-id-3 {color: black;background-color: white;}#sk-container-id-3 pre{padding: 0;}#sk-container-id-3 div.sk-toggleable {background-color: white;}#sk-container-id-3 label.sk-toggleable__label {cursor: pointer;display: block;width: 100%;margin-bottom: 0;padding: 0.3em;box-sizing: border-box;text-align: center;}#sk-container-id-3 label.sk-toggleable__label-arrow:before {content: \"▸\";float: left;margin-right: 0.25em;color: #696969;}#sk-container-id-3 label.sk-toggleable__label-arrow:hover:before {color: black;}#sk-container-id-3 div.sk-estimator:hover label.sk-toggleable__label-arrow:before {color: black;}#sk-container-id-3 div.sk-toggleable__content {max-height: 0;max-width: 0;overflow: hidden;text-align: left;background-color: #f0f8ff;}#sk-container-id-3 div.sk-toggleable__content pre {margin: 0.2em;color: black;border-radius: 0.25em;background-color: #f0f8ff;}#sk-container-id-3 input.sk-toggleable__control:checked~div.sk-toggleable__content {max-height: 200px;max-width: 100%;overflow: auto;}#sk-container-id-3 input.sk-toggleable__control:checked~label.sk-toggleable__label-arrow:before {content: \"▾\";}#sk-container-id-3 div.sk-estimator input.sk-toggleable__control:checked~label.sk-toggleable__label {background-color: #d4ebff;}#sk-container-id-3 div.sk-label input.sk-toggleable__control:checked~label.sk-toggleable__label {background-color: #d4ebff;}#sk-container-id-3 input.sk-hidden--visually {border: 0;clip: rect(1px 1px 1px 1px);clip: rect(1px, 1px, 1px, 1px);height: 1px;margin: -1px;overflow: hidden;padding: 0;position: absolute;width: 1px;}#sk-container-id-3 div.sk-estimator {font-family: monospace;background-color: #f0f8ff;border: 1px dotted black;border-radius: 0.25em;box-sizing: border-box;margin-bottom: 0.5em;}#sk-container-id-3 div.sk-estimator:hover {background-color: #d4ebff;}#sk-container-id-3 div.sk-parallel-item::after {content: \"\";width: 100%;border-bottom: 1px solid gray;flex-grow: 1;}#sk-container-id-3 div.sk-label:hover label.sk-toggleable__label {background-color: #d4ebff;}#sk-container-id-3 div.sk-serial::before {content: \"\";position: absolute;border-left: 1px solid gray;box-sizing: border-box;top: 0;bottom: 0;left: 50%;z-index: 0;}#sk-container-id-3 div.sk-serial {display: flex;flex-direction: column;align-items: center;background-color: white;padding-right: 0.2em;padding-left: 0.2em;position: relative;}#sk-container-id-3 div.sk-item {position: relative;z-index: 1;}#sk-container-id-3 div.sk-parallel {display: flex;align-items: stretch;justify-content: center;background-color: white;position: relative;}#sk-container-id-3 div.sk-item::before, #sk-container-id-3 div.sk-parallel-item::before {content: \"\";position: absolute;border-left: 1px solid gray;box-sizing: border-box;top: 0;bottom: 0;left: 50%;z-index: -1;}#sk-container-id-3 div.sk-parallel-item {display: flex;flex-direction: column;z-index: 1;position: relative;background-color: white;}#sk-container-id-3 div.sk-parallel-item:first-child::after {align-self: flex-end;width: 50%;}#sk-container-id-3 div.sk-parallel-item:last-child::after {align-self: flex-start;width: 50%;}#sk-container-id-3 div.sk-parallel-item:only-child::after {width: 0;}#sk-container-id-3 div.sk-dashed-wrapped {border: 1px dashed gray;margin: 0 0.4em 0.5em 0.4em;box-sizing: border-box;padding-bottom: 0.4em;background-color: white;}#sk-container-id-3 div.sk-label label {font-family: monospace;font-weight: bold;display: inline-block;line-height: 1.2em;}#sk-container-id-3 div.sk-label-container {text-align: center;}#sk-container-id-3 div.sk-container {/* jupyter's `normalize.less` sets `[hidden] { display: none; }` but bootstrap.min.css set `[hidden] { display: none !important; }` so we also need the `!important` here to be able to override the default hidden behavior on the sphinx rendered scikit-learn.org. See: https://github.com/scikit-learn/scikit-learn/issues/21755 */display: inline-block !important;position: relative;}#sk-container-id-3 div.sk-text-repr-fallback {display: none;}</style><div id=\"sk-container-id-3\" class=\"sk-top-container\"><div class=\"sk-text-repr-fallback\"><pre>ElasticNet()</pre><b>In a Jupyter environment, please rerun this cell to show the HTML representation or trust the notebook. <br />On GitHub, the HTML representation is unable to render, please try loading this page with nbviewer.org.</b></div><div class=\"sk-container\" hidden><div class=\"sk-item\"><div class=\"sk-estimator sk-toggleable\"><input class=\"sk-toggleable__control sk-hidden--visually\" id=\"sk-estimator-id-3\" type=\"checkbox\" checked><label for=\"sk-estimator-id-3\" class=\"sk-toggleable__label sk-toggleable__label-arrow\">ElasticNet</label><div class=\"sk-toggleable__content\"><pre>ElasticNet()</pre></div></div></div></div></div>"
      ],
      "text/plain": [
       "ElasticNet()"
      ]
     },
     "execution_count": 47,
     "metadata": {},
     "output_type": "execute_result"
    }
   ],
   "source": [
    "en=ElasticNet()\n",
    "en.fit(x_train,y_train)"
   ]
  },
  {
   "cell_type": "code",
   "execution_count": 48,
   "id": "7c8c7ef2",
   "metadata": {},
   "outputs": [
    {
     "name": "stdout",
     "output_type": "stream",
     "text": [
      "R2_score:  82.61166402108945 at model:  Lasso() with alpha=  0.0001\n",
      "R2_score:  82.61166402108945 at model:  Lasso() with alpha=  0.001\n",
      "R2_score:  82.61166402108945 at model:  Lasso() with alpha=  0.01\n",
      "R2_score:  82.61166402108945 at model:  Lasso() with alpha=  0.1\n",
      "R2_score:  82.61166402108945 at model:  Lasso() with alpha=  1\n",
      "R2_score:  82.52679614411885 at model:  Ridge() with alpha=  0.0001\n",
      "R2_score:  82.52679614411885 at model:  Ridge() with alpha=  0.001\n",
      "R2_score:  82.52679614411885 at model:  Ridge() with alpha=  0.01\n",
      "R2_score:  82.52679614411885 at model:  Ridge() with alpha=  0.1\n",
      "R2_score:  82.52679614411885 at model:  Ridge() with alpha=  1\n",
      "R2_score:  40.15268070308977 at model:  ElasticNet() with alpha=  0.0001\n",
      "R2_score:  40.15268070308977 at model:  ElasticNet() with alpha=  0.001\n",
      "R2_score:  40.15268070308977 at model:  ElasticNet() with alpha=  0.01\n",
      "R2_score:  40.15268070308977 at model:  ElasticNet() with alpha=  0.1\n",
      "R2_score:  40.15268070308977 at model:  ElasticNet() with alpha=  1\n"
     ]
    }
   ],
   "source": [
    "model=[l,r,en]\n",
    "for i in model:\n",
    "    alpha=[0.0001,0.001,0.01,0.1,1]\n",
    "    for j in alpha:\n",
    "        predmodel=i.predict(x_test)\n",
    "        print('R2_score: ', (r2_score(y_test,predmodel))*100,'at model: ' ,i ,'with alpha= ', j)   \n",
    "    "
   ]
  },
  {
   "cell_type": "code",
   "execution_count": 49,
   "id": "948fce75",
   "metadata": {},
   "outputs": [
    {
     "name": "stdout",
     "output_type": "stream",
     "text": [
      "R2_score:  82.61166402108945\n"
     ]
    }
   ],
   "source": [
    "l=Lasso(alpha=1)\n",
    "l.fit(x_train,y_train)\n",
    "predl=l.predict(x_test)\n",
    "print('R2_score: ' ,(r2_score(y_test,predl))*100)"
   ]
  },
  {
   "cell_type": "code",
   "execution_count": 50,
   "id": "d9cba299",
   "metadata": {},
   "outputs": [
    {
     "data": {
      "text/html": [
       "<style>#sk-container-id-4 {color: black;background-color: white;}#sk-container-id-4 pre{padding: 0;}#sk-container-id-4 div.sk-toggleable {background-color: white;}#sk-container-id-4 label.sk-toggleable__label {cursor: pointer;display: block;width: 100%;margin-bottom: 0;padding: 0.3em;box-sizing: border-box;text-align: center;}#sk-container-id-4 label.sk-toggleable__label-arrow:before {content: \"▸\";float: left;margin-right: 0.25em;color: #696969;}#sk-container-id-4 label.sk-toggleable__label-arrow:hover:before {color: black;}#sk-container-id-4 div.sk-estimator:hover label.sk-toggleable__label-arrow:before {color: black;}#sk-container-id-4 div.sk-toggleable__content {max-height: 0;max-width: 0;overflow: hidden;text-align: left;background-color: #f0f8ff;}#sk-container-id-4 div.sk-toggleable__content pre {margin: 0.2em;color: black;border-radius: 0.25em;background-color: #f0f8ff;}#sk-container-id-4 input.sk-toggleable__control:checked~div.sk-toggleable__content {max-height: 200px;max-width: 100%;overflow: auto;}#sk-container-id-4 input.sk-toggleable__control:checked~label.sk-toggleable__label-arrow:before {content: \"▾\";}#sk-container-id-4 div.sk-estimator input.sk-toggleable__control:checked~label.sk-toggleable__label {background-color: #d4ebff;}#sk-container-id-4 div.sk-label input.sk-toggleable__control:checked~label.sk-toggleable__label {background-color: #d4ebff;}#sk-container-id-4 input.sk-hidden--visually {border: 0;clip: rect(1px 1px 1px 1px);clip: rect(1px, 1px, 1px, 1px);height: 1px;margin: -1px;overflow: hidden;padding: 0;position: absolute;width: 1px;}#sk-container-id-4 div.sk-estimator {font-family: monospace;background-color: #f0f8ff;border: 1px dotted black;border-radius: 0.25em;box-sizing: border-box;margin-bottom: 0.5em;}#sk-container-id-4 div.sk-estimator:hover {background-color: #d4ebff;}#sk-container-id-4 div.sk-parallel-item::after {content: \"\";width: 100%;border-bottom: 1px solid gray;flex-grow: 1;}#sk-container-id-4 div.sk-label:hover label.sk-toggleable__label {background-color: #d4ebff;}#sk-container-id-4 div.sk-serial::before {content: \"\";position: absolute;border-left: 1px solid gray;box-sizing: border-box;top: 0;bottom: 0;left: 50%;z-index: 0;}#sk-container-id-4 div.sk-serial {display: flex;flex-direction: column;align-items: center;background-color: white;padding-right: 0.2em;padding-left: 0.2em;position: relative;}#sk-container-id-4 div.sk-item {position: relative;z-index: 1;}#sk-container-id-4 div.sk-parallel {display: flex;align-items: stretch;justify-content: center;background-color: white;position: relative;}#sk-container-id-4 div.sk-item::before, #sk-container-id-4 div.sk-parallel-item::before {content: \"\";position: absolute;border-left: 1px solid gray;box-sizing: border-box;top: 0;bottom: 0;left: 50%;z-index: -1;}#sk-container-id-4 div.sk-parallel-item {display: flex;flex-direction: column;z-index: 1;position: relative;background-color: white;}#sk-container-id-4 div.sk-parallel-item:first-child::after {align-self: flex-end;width: 50%;}#sk-container-id-4 div.sk-parallel-item:last-child::after {align-self: flex-start;width: 50%;}#sk-container-id-4 div.sk-parallel-item:only-child::after {width: 0;}#sk-container-id-4 div.sk-dashed-wrapped {border: 1px dashed gray;margin: 0 0.4em 0.5em 0.4em;box-sizing: border-box;padding-bottom: 0.4em;background-color: white;}#sk-container-id-4 div.sk-label label {font-family: monospace;font-weight: bold;display: inline-block;line-height: 1.2em;}#sk-container-id-4 div.sk-label-container {text-align: center;}#sk-container-id-4 div.sk-container {/* jupyter's `normalize.less` sets `[hidden] { display: none; }` but bootstrap.min.css set `[hidden] { display: none !important; }` so we also need the `!important` here to be able to override the default hidden behavior on the sphinx rendered scikit-learn.org. See: https://github.com/scikit-learn/scikit-learn/issues/21755 */display: inline-block !important;position: relative;}#sk-container-id-4 div.sk-text-repr-fallback {display: none;}</style><div id=\"sk-container-id-4\" class=\"sk-top-container\"><div class=\"sk-text-repr-fallback\"><pre>KNeighborsRegressor()</pre><b>In a Jupyter environment, please rerun this cell to show the HTML representation or trust the notebook. <br />On GitHub, the HTML representation is unable to render, please try loading this page with nbviewer.org.</b></div><div class=\"sk-container\" hidden><div class=\"sk-item\"><div class=\"sk-estimator sk-toggleable\"><input class=\"sk-toggleable__control sk-hidden--visually\" id=\"sk-estimator-id-4\" type=\"checkbox\" checked><label for=\"sk-estimator-id-4\" class=\"sk-toggleable__label sk-toggleable__label-arrow\">KNeighborsRegressor</label><div class=\"sk-toggleable__content\"><pre>KNeighborsRegressor()</pre></div></div></div></div></div>"
      ],
      "text/plain": [
       "KNeighborsRegressor()"
      ]
     },
     "execution_count": 50,
     "metadata": {},
     "output_type": "execute_result"
    }
   ],
   "source": [
    "from sklearn.neighbors import KNeighborsRegressor\n",
    "knr=KNeighborsRegressor()\n",
    "knr.fit(x_train,y_train)"
   ]
  },
  {
   "cell_type": "code",
   "execution_count": 51,
   "id": "0e89b777",
   "metadata": {},
   "outputs": [
    {
     "data": {
      "text/html": [
       "<style>#sk-container-id-5 {color: black;background-color: white;}#sk-container-id-5 pre{padding: 0;}#sk-container-id-5 div.sk-toggleable {background-color: white;}#sk-container-id-5 label.sk-toggleable__label {cursor: pointer;display: block;width: 100%;margin-bottom: 0;padding: 0.3em;box-sizing: border-box;text-align: center;}#sk-container-id-5 label.sk-toggleable__label-arrow:before {content: \"▸\";float: left;margin-right: 0.25em;color: #696969;}#sk-container-id-5 label.sk-toggleable__label-arrow:hover:before {color: black;}#sk-container-id-5 div.sk-estimator:hover label.sk-toggleable__label-arrow:before {color: black;}#sk-container-id-5 div.sk-toggleable__content {max-height: 0;max-width: 0;overflow: hidden;text-align: left;background-color: #f0f8ff;}#sk-container-id-5 div.sk-toggleable__content pre {margin: 0.2em;color: black;border-radius: 0.25em;background-color: #f0f8ff;}#sk-container-id-5 input.sk-toggleable__control:checked~div.sk-toggleable__content {max-height: 200px;max-width: 100%;overflow: auto;}#sk-container-id-5 input.sk-toggleable__control:checked~label.sk-toggleable__label-arrow:before {content: \"▾\";}#sk-container-id-5 div.sk-estimator input.sk-toggleable__control:checked~label.sk-toggleable__label {background-color: #d4ebff;}#sk-container-id-5 div.sk-label input.sk-toggleable__control:checked~label.sk-toggleable__label {background-color: #d4ebff;}#sk-container-id-5 input.sk-hidden--visually {border: 0;clip: rect(1px 1px 1px 1px);clip: rect(1px, 1px, 1px, 1px);height: 1px;margin: -1px;overflow: hidden;padding: 0;position: absolute;width: 1px;}#sk-container-id-5 div.sk-estimator {font-family: monospace;background-color: #f0f8ff;border: 1px dotted black;border-radius: 0.25em;box-sizing: border-box;margin-bottom: 0.5em;}#sk-container-id-5 div.sk-estimator:hover {background-color: #d4ebff;}#sk-container-id-5 div.sk-parallel-item::after {content: \"\";width: 100%;border-bottom: 1px solid gray;flex-grow: 1;}#sk-container-id-5 div.sk-label:hover label.sk-toggleable__label {background-color: #d4ebff;}#sk-container-id-5 div.sk-serial::before {content: \"\";position: absolute;border-left: 1px solid gray;box-sizing: border-box;top: 0;bottom: 0;left: 50%;z-index: 0;}#sk-container-id-5 div.sk-serial {display: flex;flex-direction: column;align-items: center;background-color: white;padding-right: 0.2em;padding-left: 0.2em;position: relative;}#sk-container-id-5 div.sk-item {position: relative;z-index: 1;}#sk-container-id-5 div.sk-parallel {display: flex;align-items: stretch;justify-content: center;background-color: white;position: relative;}#sk-container-id-5 div.sk-item::before, #sk-container-id-5 div.sk-parallel-item::before {content: \"\";position: absolute;border-left: 1px solid gray;box-sizing: border-box;top: 0;bottom: 0;left: 50%;z-index: -1;}#sk-container-id-5 div.sk-parallel-item {display: flex;flex-direction: column;z-index: 1;position: relative;background-color: white;}#sk-container-id-5 div.sk-parallel-item:first-child::after {align-self: flex-end;width: 50%;}#sk-container-id-5 div.sk-parallel-item:last-child::after {align-self: flex-start;width: 50%;}#sk-container-id-5 div.sk-parallel-item:only-child::after {width: 0;}#sk-container-id-5 div.sk-dashed-wrapped {border: 1px dashed gray;margin: 0 0.4em 0.5em 0.4em;box-sizing: border-box;padding-bottom: 0.4em;background-color: white;}#sk-container-id-5 div.sk-label label {font-family: monospace;font-weight: bold;display: inline-block;line-height: 1.2em;}#sk-container-id-5 div.sk-label-container {text-align: center;}#sk-container-id-5 div.sk-container {/* jupyter's `normalize.less` sets `[hidden] { display: none; }` but bootstrap.min.css set `[hidden] { display: none !important; }` so we also need the `!important` here to be able to override the default hidden behavior on the sphinx rendered scikit-learn.org. See: https://github.com/scikit-learn/scikit-learn/issues/21755 */display: inline-block !important;position: relative;}#sk-container-id-5 div.sk-text-repr-fallback {display: none;}</style><div id=\"sk-container-id-5\" class=\"sk-top-container\"><div class=\"sk-text-repr-fallback\"><pre>RandomForestRegressor()</pre><b>In a Jupyter environment, please rerun this cell to show the HTML representation or trust the notebook. <br />On GitHub, the HTML representation is unable to render, please try loading this page with nbviewer.org.</b></div><div class=\"sk-container\" hidden><div class=\"sk-item\"><div class=\"sk-estimator sk-toggleable\"><input class=\"sk-toggleable__control sk-hidden--visually\" id=\"sk-estimator-id-5\" type=\"checkbox\" checked><label for=\"sk-estimator-id-5\" class=\"sk-toggleable__label sk-toggleable__label-arrow\">RandomForestRegressor</label><div class=\"sk-toggleable__content\"><pre>RandomForestRegressor()</pre></div></div></div></div></div>"
      ],
      "text/plain": [
       "RandomForestRegressor()"
      ]
     },
     "execution_count": 51,
     "metadata": {},
     "output_type": "execute_result"
    }
   ],
   "source": [
    "from sklearn.ensemble import GradientBoostingRegressor,RandomForestRegressor\n",
    "gbr=GradientBoostingRegressor()\n",
    "gbr.fit(x_train,y_train)\n",
    "rfr=RandomForestRegressor()\n",
    "rfr.fit(x_train,y_train)"
   ]
  },
  {
   "cell_type": "code",
   "execution_count": 52,
   "id": "74edd155",
   "metadata": {},
   "outputs": [
    {
     "data": {
      "text/html": [
       "<style>#sk-container-id-6 {color: black;background-color: white;}#sk-container-id-6 pre{padding: 0;}#sk-container-id-6 div.sk-toggleable {background-color: white;}#sk-container-id-6 label.sk-toggleable__label {cursor: pointer;display: block;width: 100%;margin-bottom: 0;padding: 0.3em;box-sizing: border-box;text-align: center;}#sk-container-id-6 label.sk-toggleable__label-arrow:before {content: \"▸\";float: left;margin-right: 0.25em;color: #696969;}#sk-container-id-6 label.sk-toggleable__label-arrow:hover:before {color: black;}#sk-container-id-6 div.sk-estimator:hover label.sk-toggleable__label-arrow:before {color: black;}#sk-container-id-6 div.sk-toggleable__content {max-height: 0;max-width: 0;overflow: hidden;text-align: left;background-color: #f0f8ff;}#sk-container-id-6 div.sk-toggleable__content pre {margin: 0.2em;color: black;border-radius: 0.25em;background-color: #f0f8ff;}#sk-container-id-6 input.sk-toggleable__control:checked~div.sk-toggleable__content {max-height: 200px;max-width: 100%;overflow: auto;}#sk-container-id-6 input.sk-toggleable__control:checked~label.sk-toggleable__label-arrow:before {content: \"▾\";}#sk-container-id-6 div.sk-estimator input.sk-toggleable__control:checked~label.sk-toggleable__label {background-color: #d4ebff;}#sk-container-id-6 div.sk-label input.sk-toggleable__control:checked~label.sk-toggleable__label {background-color: #d4ebff;}#sk-container-id-6 input.sk-hidden--visually {border: 0;clip: rect(1px 1px 1px 1px);clip: rect(1px, 1px, 1px, 1px);height: 1px;margin: -1px;overflow: hidden;padding: 0;position: absolute;width: 1px;}#sk-container-id-6 div.sk-estimator {font-family: monospace;background-color: #f0f8ff;border: 1px dotted black;border-radius: 0.25em;box-sizing: border-box;margin-bottom: 0.5em;}#sk-container-id-6 div.sk-estimator:hover {background-color: #d4ebff;}#sk-container-id-6 div.sk-parallel-item::after {content: \"\";width: 100%;border-bottom: 1px solid gray;flex-grow: 1;}#sk-container-id-6 div.sk-label:hover label.sk-toggleable__label {background-color: #d4ebff;}#sk-container-id-6 div.sk-serial::before {content: \"\";position: absolute;border-left: 1px solid gray;box-sizing: border-box;top: 0;bottom: 0;left: 50%;z-index: 0;}#sk-container-id-6 div.sk-serial {display: flex;flex-direction: column;align-items: center;background-color: white;padding-right: 0.2em;padding-left: 0.2em;position: relative;}#sk-container-id-6 div.sk-item {position: relative;z-index: 1;}#sk-container-id-6 div.sk-parallel {display: flex;align-items: stretch;justify-content: center;background-color: white;position: relative;}#sk-container-id-6 div.sk-item::before, #sk-container-id-6 div.sk-parallel-item::before {content: \"\";position: absolute;border-left: 1px solid gray;box-sizing: border-box;top: 0;bottom: 0;left: 50%;z-index: -1;}#sk-container-id-6 div.sk-parallel-item {display: flex;flex-direction: column;z-index: 1;position: relative;background-color: white;}#sk-container-id-6 div.sk-parallel-item:first-child::after {align-self: flex-end;width: 50%;}#sk-container-id-6 div.sk-parallel-item:last-child::after {align-self: flex-start;width: 50%;}#sk-container-id-6 div.sk-parallel-item:only-child::after {width: 0;}#sk-container-id-6 div.sk-dashed-wrapped {border: 1px dashed gray;margin: 0 0.4em 0.5em 0.4em;box-sizing: border-box;padding-bottom: 0.4em;background-color: white;}#sk-container-id-6 div.sk-label label {font-family: monospace;font-weight: bold;display: inline-block;line-height: 1.2em;}#sk-container-id-6 div.sk-label-container {text-align: center;}#sk-container-id-6 div.sk-container {/* jupyter's `normalize.less` sets `[hidden] { display: none; }` but bootstrap.min.css set `[hidden] { display: none !important; }` so we also need the `!important` here to be able to override the default hidden behavior on the sphinx rendered scikit-learn.org. See: https://github.com/scikit-learn/scikit-learn/issues/21755 */display: inline-block !important;position: relative;}#sk-container-id-6 div.sk-text-repr-fallback {display: none;}</style><div id=\"sk-container-id-6\" class=\"sk-top-container\"><div class=\"sk-text-repr-fallback\"><pre>SVR()</pre><b>In a Jupyter environment, please rerun this cell to show the HTML representation or trust the notebook. <br />On GitHub, the HTML representation is unable to render, please try loading this page with nbviewer.org.</b></div><div class=\"sk-container\" hidden><div class=\"sk-item\"><div class=\"sk-estimator sk-toggleable\"><input class=\"sk-toggleable__control sk-hidden--visually\" id=\"sk-estimator-id-6\" type=\"checkbox\" checked><label for=\"sk-estimator-id-6\" class=\"sk-toggleable__label sk-toggleable__label-arrow\">SVR</label><div class=\"sk-toggleable__content\"><pre>SVR()</pre></div></div></div></div></div>"
      ],
      "text/plain": [
       "SVR()"
      ]
     },
     "execution_count": 52,
     "metadata": {},
     "output_type": "execute_result"
    }
   ],
   "source": [
    "from sklearn.svm import SVR\n",
    "svr=SVR()\n",
    "svr.fit(x_train,y_train)"
   ]
  },
  {
   "cell_type": "code",
   "execution_count": 53,
   "id": "6fb42a83",
   "metadata": {},
   "outputs": [
    {
     "data": {
      "text/html": [
       "<style>#sk-container-id-7 {color: black;background-color: white;}#sk-container-id-7 pre{padding: 0;}#sk-container-id-7 div.sk-toggleable {background-color: white;}#sk-container-id-7 label.sk-toggleable__label {cursor: pointer;display: block;width: 100%;margin-bottom: 0;padding: 0.3em;box-sizing: border-box;text-align: center;}#sk-container-id-7 label.sk-toggleable__label-arrow:before {content: \"▸\";float: left;margin-right: 0.25em;color: #696969;}#sk-container-id-7 label.sk-toggleable__label-arrow:hover:before {color: black;}#sk-container-id-7 div.sk-estimator:hover label.sk-toggleable__label-arrow:before {color: black;}#sk-container-id-7 div.sk-toggleable__content {max-height: 0;max-width: 0;overflow: hidden;text-align: left;background-color: #f0f8ff;}#sk-container-id-7 div.sk-toggleable__content pre {margin: 0.2em;color: black;border-radius: 0.25em;background-color: #f0f8ff;}#sk-container-id-7 input.sk-toggleable__control:checked~div.sk-toggleable__content {max-height: 200px;max-width: 100%;overflow: auto;}#sk-container-id-7 input.sk-toggleable__control:checked~label.sk-toggleable__label-arrow:before {content: \"▾\";}#sk-container-id-7 div.sk-estimator input.sk-toggleable__control:checked~label.sk-toggleable__label {background-color: #d4ebff;}#sk-container-id-7 div.sk-label input.sk-toggleable__control:checked~label.sk-toggleable__label {background-color: #d4ebff;}#sk-container-id-7 input.sk-hidden--visually {border: 0;clip: rect(1px 1px 1px 1px);clip: rect(1px, 1px, 1px, 1px);height: 1px;margin: -1px;overflow: hidden;padding: 0;position: absolute;width: 1px;}#sk-container-id-7 div.sk-estimator {font-family: monospace;background-color: #f0f8ff;border: 1px dotted black;border-radius: 0.25em;box-sizing: border-box;margin-bottom: 0.5em;}#sk-container-id-7 div.sk-estimator:hover {background-color: #d4ebff;}#sk-container-id-7 div.sk-parallel-item::after {content: \"\";width: 100%;border-bottom: 1px solid gray;flex-grow: 1;}#sk-container-id-7 div.sk-label:hover label.sk-toggleable__label {background-color: #d4ebff;}#sk-container-id-7 div.sk-serial::before {content: \"\";position: absolute;border-left: 1px solid gray;box-sizing: border-box;top: 0;bottom: 0;left: 50%;z-index: 0;}#sk-container-id-7 div.sk-serial {display: flex;flex-direction: column;align-items: center;background-color: white;padding-right: 0.2em;padding-left: 0.2em;position: relative;}#sk-container-id-7 div.sk-item {position: relative;z-index: 1;}#sk-container-id-7 div.sk-parallel {display: flex;align-items: stretch;justify-content: center;background-color: white;position: relative;}#sk-container-id-7 div.sk-item::before, #sk-container-id-7 div.sk-parallel-item::before {content: \"\";position: absolute;border-left: 1px solid gray;box-sizing: border-box;top: 0;bottom: 0;left: 50%;z-index: -1;}#sk-container-id-7 div.sk-parallel-item {display: flex;flex-direction: column;z-index: 1;position: relative;background-color: white;}#sk-container-id-7 div.sk-parallel-item:first-child::after {align-self: flex-end;width: 50%;}#sk-container-id-7 div.sk-parallel-item:last-child::after {align-self: flex-start;width: 50%;}#sk-container-id-7 div.sk-parallel-item:only-child::after {width: 0;}#sk-container-id-7 div.sk-dashed-wrapped {border: 1px dashed gray;margin: 0 0.4em 0.5em 0.4em;box-sizing: border-box;padding-bottom: 0.4em;background-color: white;}#sk-container-id-7 div.sk-label label {font-family: monospace;font-weight: bold;display: inline-block;line-height: 1.2em;}#sk-container-id-7 div.sk-label-container {text-align: center;}#sk-container-id-7 div.sk-container {/* jupyter's `normalize.less` sets `[hidden] { display: none; }` but bootstrap.min.css set `[hidden] { display: none !important; }` so we also need the `!important` here to be able to override the default hidden behavior on the sphinx rendered scikit-learn.org. See: https://github.com/scikit-learn/scikit-learn/issues/21755 */display: inline-block !important;position: relative;}#sk-container-id-7 div.sk-text-repr-fallback {display: none;}</style><div id=\"sk-container-id-7\" class=\"sk-top-container\"><div class=\"sk-text-repr-fallback\"><pre>DecisionTreeRegressor()</pre><b>In a Jupyter environment, please rerun this cell to show the HTML representation or trust the notebook. <br />On GitHub, the HTML representation is unable to render, please try loading this page with nbviewer.org.</b></div><div class=\"sk-container\" hidden><div class=\"sk-item\"><div class=\"sk-estimator sk-toggleable\"><input class=\"sk-toggleable__control sk-hidden--visually\" id=\"sk-estimator-id-7\" type=\"checkbox\" checked><label for=\"sk-estimator-id-7\" class=\"sk-toggleable__label sk-toggleable__label-arrow\">DecisionTreeRegressor</label><div class=\"sk-toggleable__content\"><pre>DecisionTreeRegressor()</pre></div></div></div></div></div>"
      ],
      "text/plain": [
       "DecisionTreeRegressor()"
      ]
     },
     "execution_count": 53,
     "metadata": {},
     "output_type": "execute_result"
    }
   ],
   "source": [
    "from sklearn.tree import DecisionTreeRegressor\n",
    "dtr=DecisionTreeRegressor()\n",
    "dtr.fit(x_train,y_train)"
   ]
  },
  {
   "cell_type": "code",
   "execution_count": 54,
   "id": "67ed985a",
   "metadata": {},
   "outputs": [
    {
     "data": {
      "text/html": [
       "<style>#sk-container-id-8 {color: black;background-color: white;}#sk-container-id-8 pre{padding: 0;}#sk-container-id-8 div.sk-toggleable {background-color: white;}#sk-container-id-8 label.sk-toggleable__label {cursor: pointer;display: block;width: 100%;margin-bottom: 0;padding: 0.3em;box-sizing: border-box;text-align: center;}#sk-container-id-8 label.sk-toggleable__label-arrow:before {content: \"▸\";float: left;margin-right: 0.25em;color: #696969;}#sk-container-id-8 label.sk-toggleable__label-arrow:hover:before {color: black;}#sk-container-id-8 div.sk-estimator:hover label.sk-toggleable__label-arrow:before {color: black;}#sk-container-id-8 div.sk-toggleable__content {max-height: 0;max-width: 0;overflow: hidden;text-align: left;background-color: #f0f8ff;}#sk-container-id-8 div.sk-toggleable__content pre {margin: 0.2em;color: black;border-radius: 0.25em;background-color: #f0f8ff;}#sk-container-id-8 input.sk-toggleable__control:checked~div.sk-toggleable__content {max-height: 200px;max-width: 100%;overflow: auto;}#sk-container-id-8 input.sk-toggleable__control:checked~label.sk-toggleable__label-arrow:before {content: \"▾\";}#sk-container-id-8 div.sk-estimator input.sk-toggleable__control:checked~label.sk-toggleable__label {background-color: #d4ebff;}#sk-container-id-8 div.sk-label input.sk-toggleable__control:checked~label.sk-toggleable__label {background-color: #d4ebff;}#sk-container-id-8 input.sk-hidden--visually {border: 0;clip: rect(1px 1px 1px 1px);clip: rect(1px, 1px, 1px, 1px);height: 1px;margin: -1px;overflow: hidden;padding: 0;position: absolute;width: 1px;}#sk-container-id-8 div.sk-estimator {font-family: monospace;background-color: #f0f8ff;border: 1px dotted black;border-radius: 0.25em;box-sizing: border-box;margin-bottom: 0.5em;}#sk-container-id-8 div.sk-estimator:hover {background-color: #d4ebff;}#sk-container-id-8 div.sk-parallel-item::after {content: \"\";width: 100%;border-bottom: 1px solid gray;flex-grow: 1;}#sk-container-id-8 div.sk-label:hover label.sk-toggleable__label {background-color: #d4ebff;}#sk-container-id-8 div.sk-serial::before {content: \"\";position: absolute;border-left: 1px solid gray;box-sizing: border-box;top: 0;bottom: 0;left: 50%;z-index: 0;}#sk-container-id-8 div.sk-serial {display: flex;flex-direction: column;align-items: center;background-color: white;padding-right: 0.2em;padding-left: 0.2em;position: relative;}#sk-container-id-8 div.sk-item {position: relative;z-index: 1;}#sk-container-id-8 div.sk-parallel {display: flex;align-items: stretch;justify-content: center;background-color: white;position: relative;}#sk-container-id-8 div.sk-item::before, #sk-container-id-8 div.sk-parallel-item::before {content: \"\";position: absolute;border-left: 1px solid gray;box-sizing: border-box;top: 0;bottom: 0;left: 50%;z-index: -1;}#sk-container-id-8 div.sk-parallel-item {display: flex;flex-direction: column;z-index: 1;position: relative;background-color: white;}#sk-container-id-8 div.sk-parallel-item:first-child::after {align-self: flex-end;width: 50%;}#sk-container-id-8 div.sk-parallel-item:last-child::after {align-self: flex-start;width: 50%;}#sk-container-id-8 div.sk-parallel-item:only-child::after {width: 0;}#sk-container-id-8 div.sk-dashed-wrapped {border: 1px dashed gray;margin: 0 0.4em 0.5em 0.4em;box-sizing: border-box;padding-bottom: 0.4em;background-color: white;}#sk-container-id-8 div.sk-label label {font-family: monospace;font-weight: bold;display: inline-block;line-height: 1.2em;}#sk-container-id-8 div.sk-label-container {text-align: center;}#sk-container-id-8 div.sk-container {/* jupyter's `normalize.less` sets `[hidden] { display: none; }` but bootstrap.min.css set `[hidden] { display: none !important; }` so we also need the `!important` here to be able to override the default hidden behavior on the sphinx rendered scikit-learn.org. See: https://github.com/scikit-learn/scikit-learn/issues/21755 */display: inline-block !important;position: relative;}#sk-container-id-8 div.sk-text-repr-fallback {display: none;}</style><div id=\"sk-container-id-8\" class=\"sk-top-container\"><div class=\"sk-text-repr-fallback\"><pre>ExtraTreesRegressor()</pre><b>In a Jupyter environment, please rerun this cell to show the HTML representation or trust the notebook. <br />On GitHub, the HTML representation is unable to render, please try loading this page with nbviewer.org.</b></div><div class=\"sk-container\" hidden><div class=\"sk-item\"><div class=\"sk-estimator sk-toggleable\"><input class=\"sk-toggleable__control sk-hidden--visually\" id=\"sk-estimator-id-8\" type=\"checkbox\" checked><label for=\"sk-estimator-id-8\" class=\"sk-toggleable__label sk-toggleable__label-arrow\">ExtraTreesRegressor</label><div class=\"sk-toggleable__content\"><pre>ExtraTreesRegressor()</pre></div></div></div></div></div>"
      ],
      "text/plain": [
       "ExtraTreesRegressor()"
      ]
     },
     "execution_count": 54,
     "metadata": {},
     "output_type": "execute_result"
    }
   ],
   "source": [
    "from sklearn.ensemble import AdaBoostRegressor,ExtraTreesRegressor\n",
    "abr=AdaBoostRegressor()\n",
    "abr.fit(x_train,y_train)\n",
    "etr=ExtraTreesRegressor()\n",
    "etr.fit(x_train,y_train)"
   ]
  },
  {
   "cell_type": "code",
   "execution_count": 55,
   "id": "53c81511",
   "metadata": {},
   "outputs": [
    {
     "name": "stdout",
     "output_type": "stream",
     "text": [
      "R2_score of model:  KNeighborsRegressor() is=  18.060180035223784\n",
      "R2_score of model:  GradientBoostingRegressor() is=  91.60129745659506\n",
      "R2_score of model:  RandomForestRegressor() is=  88.82296713490567\n",
      "R2_score of model:  SVR() is=  -12.938107019824873\n",
      "R2_score of model:  DecisionTreeRegressor() is=  80.20390979107425\n",
      "R2_score of model:  AdaBoostRegressor() is=  86.36982430339741\n",
      "R2_score of model:  ExtraTreesRegressor() is=  86.78910912142464\n"
     ]
    }
   ],
   "source": [
    "models=[knr,gbr,rfr,svr,dtr,abr,etr]\n",
    "for i in models:\n",
    "    predmodel=i.predict(x_test)\n",
    "    print('R2_score of model: ' , i , 'is= ' , (r2_score(y_test,predmodel))*100)\n"
   ]
  },
  {
   "cell_type": "code",
   "execution_count": 56,
   "id": "7639f41e",
   "metadata": {},
   "outputs": [
    {
     "data": {
      "text/html": [
       "<style>#sk-container-id-9 {color: black;background-color: white;}#sk-container-id-9 pre{padding: 0;}#sk-container-id-9 div.sk-toggleable {background-color: white;}#sk-container-id-9 label.sk-toggleable__label {cursor: pointer;display: block;width: 100%;margin-bottom: 0;padding: 0.3em;box-sizing: border-box;text-align: center;}#sk-container-id-9 label.sk-toggleable__label-arrow:before {content: \"▸\";float: left;margin-right: 0.25em;color: #696969;}#sk-container-id-9 label.sk-toggleable__label-arrow:hover:before {color: black;}#sk-container-id-9 div.sk-estimator:hover label.sk-toggleable__label-arrow:before {color: black;}#sk-container-id-9 div.sk-toggleable__content {max-height: 0;max-width: 0;overflow: hidden;text-align: left;background-color: #f0f8ff;}#sk-container-id-9 div.sk-toggleable__content pre {margin: 0.2em;color: black;border-radius: 0.25em;background-color: #f0f8ff;}#sk-container-id-9 input.sk-toggleable__control:checked~div.sk-toggleable__content {max-height: 200px;max-width: 100%;overflow: auto;}#sk-container-id-9 input.sk-toggleable__control:checked~label.sk-toggleable__label-arrow:before {content: \"▾\";}#sk-container-id-9 div.sk-estimator input.sk-toggleable__control:checked~label.sk-toggleable__label {background-color: #d4ebff;}#sk-container-id-9 div.sk-label input.sk-toggleable__control:checked~label.sk-toggleable__label {background-color: #d4ebff;}#sk-container-id-9 input.sk-hidden--visually {border: 0;clip: rect(1px 1px 1px 1px);clip: rect(1px, 1px, 1px, 1px);height: 1px;margin: -1px;overflow: hidden;padding: 0;position: absolute;width: 1px;}#sk-container-id-9 div.sk-estimator {font-family: monospace;background-color: #f0f8ff;border: 1px dotted black;border-radius: 0.25em;box-sizing: border-box;margin-bottom: 0.5em;}#sk-container-id-9 div.sk-estimator:hover {background-color: #d4ebff;}#sk-container-id-9 div.sk-parallel-item::after {content: \"\";width: 100%;border-bottom: 1px solid gray;flex-grow: 1;}#sk-container-id-9 div.sk-label:hover label.sk-toggleable__label {background-color: #d4ebff;}#sk-container-id-9 div.sk-serial::before {content: \"\";position: absolute;border-left: 1px solid gray;box-sizing: border-box;top: 0;bottom: 0;left: 50%;z-index: 0;}#sk-container-id-9 div.sk-serial {display: flex;flex-direction: column;align-items: center;background-color: white;padding-right: 0.2em;padding-left: 0.2em;position: relative;}#sk-container-id-9 div.sk-item {position: relative;z-index: 1;}#sk-container-id-9 div.sk-parallel {display: flex;align-items: stretch;justify-content: center;background-color: white;position: relative;}#sk-container-id-9 div.sk-item::before, #sk-container-id-9 div.sk-parallel-item::before {content: \"\";position: absolute;border-left: 1px solid gray;box-sizing: border-box;top: 0;bottom: 0;left: 50%;z-index: -1;}#sk-container-id-9 div.sk-parallel-item {display: flex;flex-direction: column;z-index: 1;position: relative;background-color: white;}#sk-container-id-9 div.sk-parallel-item:first-child::after {align-self: flex-end;width: 50%;}#sk-container-id-9 div.sk-parallel-item:last-child::after {align-self: flex-start;width: 50%;}#sk-container-id-9 div.sk-parallel-item:only-child::after {width: 0;}#sk-container-id-9 div.sk-dashed-wrapped {border: 1px dashed gray;margin: 0 0.4em 0.5em 0.4em;box-sizing: border-box;padding-bottom: 0.4em;background-color: white;}#sk-container-id-9 div.sk-label label {font-family: monospace;font-weight: bold;display: inline-block;line-height: 1.2em;}#sk-container-id-9 div.sk-label-container {text-align: center;}#sk-container-id-9 div.sk-container {/* jupyter's `normalize.less` sets `[hidden] { display: none; }` but bootstrap.min.css set `[hidden] { display: none !important; }` so we also need the `!important` here to be able to override the default hidden behavior on the sphinx rendered scikit-learn.org. See: https://github.com/scikit-learn/scikit-learn/issues/21755 */display: inline-block !important;position: relative;}#sk-container-id-9 div.sk-text-repr-fallback {display: none;}</style><div id=\"sk-container-id-9\" class=\"sk-top-container\"><div class=\"sk-text-repr-fallback\"><pre>GridSearchCV(estimator=GradientBoostingRegressor(),\n",
       "             param_grid={&#x27;n_estimators&#x27;: [100, 150, 200]})</pre><b>In a Jupyter environment, please rerun this cell to show the HTML representation or trust the notebook. <br />On GitHub, the HTML representation is unable to render, please try loading this page with nbviewer.org.</b></div><div class=\"sk-container\" hidden><div class=\"sk-item sk-dashed-wrapped\"><div class=\"sk-label-container\"><div class=\"sk-label sk-toggleable\"><input class=\"sk-toggleable__control sk-hidden--visually\" id=\"sk-estimator-id-9\" type=\"checkbox\" ><label for=\"sk-estimator-id-9\" class=\"sk-toggleable__label sk-toggleable__label-arrow\">GridSearchCV</label><div class=\"sk-toggleable__content\"><pre>GridSearchCV(estimator=GradientBoostingRegressor(),\n",
       "             param_grid={&#x27;n_estimators&#x27;: [100, 150, 200]})</pre></div></div></div><div class=\"sk-parallel\"><div class=\"sk-parallel-item\"><div class=\"sk-item\"><div class=\"sk-label-container\"><div class=\"sk-label sk-toggleable\"><input class=\"sk-toggleable__control sk-hidden--visually\" id=\"sk-estimator-id-10\" type=\"checkbox\" ><label for=\"sk-estimator-id-10\" class=\"sk-toggleable__label sk-toggleable__label-arrow\">estimator: GradientBoostingRegressor</label><div class=\"sk-toggleable__content\"><pre>GradientBoostingRegressor()</pre></div></div></div><div class=\"sk-serial\"><div class=\"sk-item\"><div class=\"sk-estimator sk-toggleable\"><input class=\"sk-toggleable__control sk-hidden--visually\" id=\"sk-estimator-id-11\" type=\"checkbox\" ><label for=\"sk-estimator-id-11\" class=\"sk-toggleable__label sk-toggleable__label-arrow\">GradientBoostingRegressor</label><div class=\"sk-toggleable__content\"><pre>GradientBoostingRegressor()</pre></div></div></div></div></div></div></div></div></div></div>"
      ],
      "text/plain": [
       "GridSearchCV(estimator=GradientBoostingRegressor(),\n",
       "             param_grid={'n_estimators': [100, 150, 200]})"
      ]
     },
     "execution_count": 56,
     "metadata": {},
     "output_type": "execute_result"
    }
   ],
   "source": [
    "from sklearn.model_selection import GridSearchCV\n",
    "parameters={'n_estimators':[100,150,200]}\n",
    "gscv=GridSearchCV(estimator=gbr,param_grid=parameters)\n",
    "gscv.fit(x_train,y_train)"
   ]
  },
  {
   "cell_type": "code",
   "execution_count": 57,
   "id": "9ca0269b",
   "metadata": {},
   "outputs": [
    {
     "name": "stdout",
     "output_type": "stream",
     "text": [
      "Best r2 score of Model:GradientBoostingRegressor is  91.60129745659506\n"
     ]
    }
   ],
   "source": [
    "predgscv=gscv.predict(x_test)\n",
    "print('Best r2 score of Model:GradientBoostingRegressor is ' , (r2_score(y_test,predgscv))*100)"
   ]
  },
  {
   "cell_type": "code",
   "execution_count": 58,
   "id": "2127a6cb",
   "metadata": {},
   "outputs": [
    {
     "name": "stdout",
     "output_type": "stream",
     "text": [
      "GradientBoostingRegressor()\n"
     ]
    }
   ],
   "source": [
    "print(gscv.best_estimator_)"
   ]
  },
  {
   "cell_type": "code",
   "execution_count": 59,
   "id": "7c4e03e5",
   "metadata": {},
   "outputs": [],
   "source": [
    "import pickle"
   ]
  },
  {
   "cell_type": "code",
   "execution_count": 60,
   "id": "b9b6e195",
   "metadata": {},
   "outputs": [],
   "source": [
    "filename='medical_cost_insurance.pkl'\n",
    "pickle.dump(gscv.best_estimator_,open(filename,'wb'))"
   ]
  },
  {
   "cell_type": "code",
   "execution_count": 61,
   "id": "811e306a",
   "metadata": {},
   "outputs": [
    {
     "data": {
      "text/html": [
       "<style>#sk-container-id-10 {color: black;background-color: white;}#sk-container-id-10 pre{padding: 0;}#sk-container-id-10 div.sk-toggleable {background-color: white;}#sk-container-id-10 label.sk-toggleable__label {cursor: pointer;display: block;width: 100%;margin-bottom: 0;padding: 0.3em;box-sizing: border-box;text-align: center;}#sk-container-id-10 label.sk-toggleable__label-arrow:before {content: \"▸\";float: left;margin-right: 0.25em;color: #696969;}#sk-container-id-10 label.sk-toggleable__label-arrow:hover:before {color: black;}#sk-container-id-10 div.sk-estimator:hover label.sk-toggleable__label-arrow:before {color: black;}#sk-container-id-10 div.sk-toggleable__content {max-height: 0;max-width: 0;overflow: hidden;text-align: left;background-color: #f0f8ff;}#sk-container-id-10 div.sk-toggleable__content pre {margin: 0.2em;color: black;border-radius: 0.25em;background-color: #f0f8ff;}#sk-container-id-10 input.sk-toggleable__control:checked~div.sk-toggleable__content {max-height: 200px;max-width: 100%;overflow: auto;}#sk-container-id-10 input.sk-toggleable__control:checked~label.sk-toggleable__label-arrow:before {content: \"▾\";}#sk-container-id-10 div.sk-estimator input.sk-toggleable__control:checked~label.sk-toggleable__label {background-color: #d4ebff;}#sk-container-id-10 div.sk-label input.sk-toggleable__control:checked~label.sk-toggleable__label {background-color: #d4ebff;}#sk-container-id-10 input.sk-hidden--visually {border: 0;clip: rect(1px 1px 1px 1px);clip: rect(1px, 1px, 1px, 1px);height: 1px;margin: -1px;overflow: hidden;padding: 0;position: absolute;width: 1px;}#sk-container-id-10 div.sk-estimator {font-family: monospace;background-color: #f0f8ff;border: 1px dotted black;border-radius: 0.25em;box-sizing: border-box;margin-bottom: 0.5em;}#sk-container-id-10 div.sk-estimator:hover {background-color: #d4ebff;}#sk-container-id-10 div.sk-parallel-item::after {content: \"\";width: 100%;border-bottom: 1px solid gray;flex-grow: 1;}#sk-container-id-10 div.sk-label:hover label.sk-toggleable__label {background-color: #d4ebff;}#sk-container-id-10 div.sk-serial::before {content: \"\";position: absolute;border-left: 1px solid gray;box-sizing: border-box;top: 0;bottom: 0;left: 50%;z-index: 0;}#sk-container-id-10 div.sk-serial {display: flex;flex-direction: column;align-items: center;background-color: white;padding-right: 0.2em;padding-left: 0.2em;position: relative;}#sk-container-id-10 div.sk-item {position: relative;z-index: 1;}#sk-container-id-10 div.sk-parallel {display: flex;align-items: stretch;justify-content: center;background-color: white;position: relative;}#sk-container-id-10 div.sk-item::before, #sk-container-id-10 div.sk-parallel-item::before {content: \"\";position: absolute;border-left: 1px solid gray;box-sizing: border-box;top: 0;bottom: 0;left: 50%;z-index: -1;}#sk-container-id-10 div.sk-parallel-item {display: flex;flex-direction: column;z-index: 1;position: relative;background-color: white;}#sk-container-id-10 div.sk-parallel-item:first-child::after {align-self: flex-end;width: 50%;}#sk-container-id-10 div.sk-parallel-item:last-child::after {align-self: flex-start;width: 50%;}#sk-container-id-10 div.sk-parallel-item:only-child::after {width: 0;}#sk-container-id-10 div.sk-dashed-wrapped {border: 1px dashed gray;margin: 0 0.4em 0.5em 0.4em;box-sizing: border-box;padding-bottom: 0.4em;background-color: white;}#sk-container-id-10 div.sk-label label {font-family: monospace;font-weight: bold;display: inline-block;line-height: 1.2em;}#sk-container-id-10 div.sk-label-container {text-align: center;}#sk-container-id-10 div.sk-container {/* jupyter's `normalize.less` sets `[hidden] { display: none; }` but bootstrap.min.css set `[hidden] { display: none !important; }` so we also need the `!important` here to be able to override the default hidden behavior on the sphinx rendered scikit-learn.org. See: https://github.com/scikit-learn/scikit-learn/issues/21755 */display: inline-block !important;position: relative;}#sk-container-id-10 div.sk-text-repr-fallback {display: none;}</style><div id=\"sk-container-id-10\" class=\"sk-top-container\"><div class=\"sk-text-repr-fallback\"><pre>GradientBoostingRegressor()</pre><b>In a Jupyter environment, please rerun this cell to show the HTML representation or trust the notebook. <br />On GitHub, the HTML representation is unable to render, please try loading this page with nbviewer.org.</b></div><div class=\"sk-container\" hidden><div class=\"sk-item\"><div class=\"sk-estimator sk-toggleable\"><input class=\"sk-toggleable__control sk-hidden--visually\" id=\"sk-estimator-id-12\" type=\"checkbox\" checked><label for=\"sk-estimator-id-12\" class=\"sk-toggleable__label sk-toggleable__label-arrow\">GradientBoostingRegressor</label><div class=\"sk-toggleable__content\"><pre>GradientBoostingRegressor()</pre></div></div></div></div></div>"
      ],
      "text/plain": [
       "GradientBoostingRegressor()"
      ]
     },
     "execution_count": 61,
     "metadata": {},
     "output_type": "execute_result"
    }
   ],
   "source": [
    "newfile=pickle.load(open(filename,'rb'))\n",
    "newfile"
   ]
  },
  {
   "cell_type": "code",
   "execution_count": null,
   "id": "601d7a58",
   "metadata": {},
   "outputs": [],
   "source": []
  }
 ],
 "metadata": {
  "kernelspec": {
   "display_name": "Python 3 (ipykernel)",
   "language": "python",
   "name": "python3"
  },
  "language_info": {
   "codemirror_mode": {
    "name": "ipython",
    "version": 3
   },
   "file_extension": ".py",
   "mimetype": "text/x-python",
   "name": "python",
   "nbconvert_exporter": "python",
   "pygments_lexer": "ipython3",
   "version": "3.9.12"
  }
 },
 "nbformat": 4,
 "nbformat_minor": 5
}
